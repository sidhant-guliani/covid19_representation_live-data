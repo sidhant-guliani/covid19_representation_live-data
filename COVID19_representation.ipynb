{
 "cells": [
  {
   "cell_type": "code",
   "execution_count": 1,
   "metadata": {},
   "outputs": [],
   "source": [
    "import pandas as pd\n",
    "import numpy as np\n",
    "\n",
    "import matplotlib.pyplot as plt\n",
    "from pandas.plotting import register_matplotlib_converters\n",
    "register_matplotlib_converters()\n",
    "from datetime import datetime,timedelta\n",
    "from countryinfo import CountryInfo # we can get the information anout country from this (population, coordinates, etc)\n",
    "\n",
    "\n",
    "import sklearn.metrics as sklm\n",
    "from scipy.optimize import curve_fit\n",
    "from scipy.optimize import fsolve"
   ]
  },
  {
   "cell_type": "code",
   "execution_count": 2,
   "metadata": {},
   "outputs": [],
   "source": [
    "giturl_confirmed = 'https://raw.githubusercontent.com/CSSEGISandData/COVID-19/master/csse_covid_19_data/csse_covid_19_time_series/time_series_19-covid-Confirmed.csv'\n",
    "giturl_deaths = 'https://raw.githubusercontent.com/CSSEGISandData/COVID-19/master/csse_covid_19_data/csse_covid_19_time_series/time_series_19-covid-Deaths.csv'\n",
    "giturl_recovered = 'https://raw.githubusercontent.com/CSSEGISandData/COVID-19/master/csse_covid_19_data/csse_covid_19_time_series/time_series_19-covid-Recovered.csv'"
   ]
  },
  {
   "cell_type": "code",
   "execution_count": 3,
   "metadata": {},
   "outputs": [],
   "source": [
    "covid_id=['Confirmed','Deaths','Recovered']\n",
    "\n",
    "confirmed_fixes_dict = {'Italy|2020-03-12': 15113,\n",
    "                        'Spain|2020-03-12': 3146,\n",
    "                        'France|2020-03-12': 2876,\n",
    "                        'United Kingdom|2020-03-12': 590,\n",
    "                        'Germany|2020-03-12': 2745,\n",
    "                        'Argentina|2020-03-12': 19,\n",
    "                        'Australia|2020-03-12': 122,\n",
    "                        'Belgium|2020-03-12': 314,\n",
    "                        'Chile|2020-03-12': 23,\n",
    "                        'Colombia|2020-03-12': 9,\n",
    "                        'Greece|2020-03-12': 98,\n",
    "                        'Indonesia|2020-03-12': 34,\n",
    "                        'Ireland|2020-03-12': 43,\n",
    "                        'Japan|2020-03-12': 620,\n",
    "                        'Netherlands|2020-03-12': 503,\n",
    "                        'Qatar|2020-03-12': 262,\n",
    "                        'Singapore|2020-03-12': 178,\n",
    "                        'France|2020-03-15': 5423,}\n",
    "                        \n",
    "deaths_fixes_dict = {'Italy|2020-03-12': 1016,\n",
    "                     'Spain|2020-03-12': 86,\n",
    "                     'France|2020-03-12': 61,\n",
    "                     'United Kingdom|2020-03-12': 10,\n",
    "                     'Germany|2020-03-12': 6,\n",
    "                     'Argentina|2020-03-12': 1,\n",
    "                     'Australia|2020-03-12': 3,\n",
    "                     'Greece|2020-03-12': 1,\n",
    "                     'Indonesia|2020-03-12': 1,\n",
    "                     'Ireland|2020-03-12': 1,\n",
    "                     'Japan|2020-03-12': 15,\n",
    "                     'Netherlands|2020-03-12': 5,\n",
    "                     'Switzerland|2020-03-12': 4,\n",
    "                     'United Kingdom|2020-03-15': 35,\n",
    "                     'France|2020-03-15': 127}\n",
    "                     \n",
    "recovered_fixes_dict = {'Italy|2020-03-12': 1258,\n",
    "                        'Spain|2020-03-12': 189,\n",
    "                        'France|2020-03-12': 12,\n",
    "                        'Germany|2020-03-12': 25}"
   ]
  },
  {
   "cell_type": "code",
   "execution_count": null,
   "metadata": {},
   "outputs": [],
   "source": [
    "country_list = ['Canada' 'India' 'China' 'US']\n",
    "corona_cases_df = pd.read_csv(giturl_confirmed)\n",
    "corona_deaths_df = pd.read_csv(giturl_deaths)\n",
    "corona_recovered_df = pd.read_csv(giturl_recovered)"
   ]
  },
  {
   "cell_type": "code",
   "execution_count": null,
   "metadata": {},
   "outputs": [],
   "source": [
    "# correcting data \n",
    "print(covid_id)\n",
    "if covid_id=='Confirmed':\n",
    "    fixes_dict = confirmed_fixes_dict\n",
    "    print(fixes_dict)\n",
    "    \n",
    "elif covid_id =='Deaths':\n",
    "    fixes_dict = deaths_fixes_dict\n",
    "\n",
    "elif covid_id =='Recovered':\n",
    "    fixes_dict = recovered_fixes_dict   \n",
    "\n",
    "# fixing the confirmed cases\n",
    "for key in fixes_dict.keys():\n",
    "        country_to_be_fixed = key.split('|')[0]\n",
    "        if country_to_be_fixed in df_dict.keys():\n",
    "            date_to_be_fixed = key.split('|')[1]\n",
    "            value_to_be_fixed = fixes_dict[key]\n",
    "            df_dict[country_to_be_fixed]['Cases'].loc[date_to_be_fixed] = value_to_be_fixed"
   ]
  },
  {
   "cell_type": "code",
   "execution_count": null,
   "metadata": {},
   "outputs": [],
   "source": [
    "def data_country(country, corona_case_df):\n",
    "    cases_percountry = {}\n",
    "    df_dict = {}\n",
    "    cou = corona_cases_df.loc[pd.IndexSlice[:, country], :].sum()\n",
    "    cases_percountry[country] = cou[cou > 0]\n",
    "    datesformat = [datetime.strptime(da, '%m/%d/%y') for da in cases_percountry[country].index]\n",
    "    df_dict[country] = pd.DataFrame(cases_percountry[country], columns=['Cases'], index=datesformat)\n",
    "    df_dict[country]['DayCount'] = np.arange(1,cases_percountry[country].shape[0]+1)\n",
    "    return (df_dict)"
   ]
  },
  {
   "cell_type": "code",
   "execution_count": null,
   "metadata": {},
   "outputs": [],
   "source": [
    "country_list = ['Canada' 'India' 'China' 'US']\n",
    "corona_cases_df = pd.read_csv(giturl_confirmed)\n",
    "corona_deaths_df = pd.read_csv(giturl_deaths)\n",
    "corona_recovered_df = pd.read_csv(giturl_recovered)\n",
    "\n",
    "for i in range(3):\n",
    "\n",
    "\n",
    "corona_cases_df = pd.read_csv(curl, index_col=[0,1,2,3])  #   use first four columns as multiindex\n",
    "datesformat = [datetime.strptime(da, '%m/%d/%y') for da in corona_cases_df.columns.values[4:]]\n",
    "daterange = pd.DatetimeIndex(datesformat)\n",
    "\n",
    "wanted_countries = ['Canada', 'India','China', 'US']\n",
    "\n",
    "country_list = (corona_cases_df.index.get_level_values('Country/Region').values)\n",
    "countries_list = [np.unique(np.array([s for s in country_list if cou in s])) for cou in wanted_countries]\n",
    "countries_list = np.array(countries_list).flatten()"
   ]
  },
  {
   "cell_type": "code",
   "execution_count": null,
   "metadata": {},
   "outputs": [],
   "source": [
    "country_official_list = (corona_cases_df.index.get_level_values('Country/Region').values)\n"
   ]
  },
  {
   "cell_type": "code",
   "execution_count": null,
   "metadata": {},
   "outputs": [],
   "source": [
    "for key in fixes_dict.keys():\n",
    "        country_to_be_fixed = key.split('|')[0]\n",
    "        if country_to_be_fixed in df_dict.keys():\n",
    "            date_to_be_fixed = key.split('|')[1]\n",
    "            value_to_be_fixed = fixes_dict[key]\n",
    "            df_dict[country_to_be_fixed]['Cases'].loc[date_to_be_fixed] = value_to_be_fixed"
   ]
  }
 ],
 "metadata": {
  "kernelspec": {
   "display_name": "Python 3",
   "language": "python",
   "name": "python3"
  },
  "language_info": {
   "codemirror_mode": {
    "name": "ipython",
    "version": 3
   },
   "file_extension": ".py",
   "mimetype": "text/x-python",
   "name": "python",
   "nbconvert_exporter": "python",
   "pygments_lexer": "ipython3",
   "version": "3.7.4"
  }
 },
 "nbformat": 4,
 "nbformat_minor": 2
}
