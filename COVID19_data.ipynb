{
 "cells": [
  {
   "cell_type": "code",
   "execution_count": 188,
   "metadata": {},
   "outputs": [],
   "source": [
    "import pandas as pd\n",
    "import numpy as np\n",
    "\n",
    "import matplotlib.pyplot as plt\n",
    "from pandas.plotting import register_matplotlib_converters\n",
    "register_matplotlib_converters()\n",
    "from datetime import datetime,timedelta\n",
    "from countryinfo import CountryInfo # we can get the information anout country from this (population, coordinates, etc)\n",
    "\n",
    "\n",
    "import sklearn.metrics as sklm\n",
    "from scipy.optimize import curve_fit\n",
    "from scipy.optimize import fsolve"
   ]
  },
  {
   "cell_type": "code",
   "execution_count": null,
   "metadata": {},
   "outputs": [],
   "source": [
    "# getting data from John Hopkins observatory is providing a github repository with all recent data: \n",
    "# https://github.com/CSSEGISandData/COVID-19.git"
   ]
  },
  {
   "cell_type": "code",
   "execution_count": 91,
   "metadata": {},
   "outputs": [],
   "source": [
    "giturl_confirmed = 'https://raw.githubusercontent.com/CSSEGISandData/COVID-19/master/csse_covid_19_data/csse_covid_19_time_series/time_series_19-covid-Confirmed.csv'\n",
    "giturl_deaths = 'https://raw.githubusercontent.com/CSSEGISandData/COVID-19/master/csse_covid_19_data/csse_covid_19_time_series/time_series_19-covid-Deaths.csv'\n",
    "giturl_recovered = 'https://raw.githubusercontent.com/CSSEGISandData/COVID-19/master/csse_covid_19_data/csse_covid_19_time_series/time_series_19-covid-Recovered.csv'"
   ]
  },
  {
   "cell_type": "code",
   "execution_count": null,
   "metadata": {},
   "outputs": [],
   "source": []
  },
  {
   "cell_type": "code",
   "execution_count": 92,
   "metadata": {},
   "outputs": [],
   "source": [
    "covid_id='Confirmed'"
   ]
  },
  {
   "cell_type": "code",
   "execution_count": 93,
   "metadata": {},
   "outputs": [],
   "source": [
    "if covid_id=='Confirmed':\n",
    "    curl = giturl_confirmed\n",
    "elif covid_id =='Deaths':\n",
    "    curl = giturl_deaths\n",
    "elif covid_id =='Recovered':\n",
    "    curl = giturl_recovered"
   ]
  },
  {
   "cell_type": "code",
   "execution_count": 94,
   "metadata": {},
   "outputs": [],
   "source": [
    "corona_cases_df = pd.read_csv(curl)  #   use first four columns as multiindex"
   ]
  },
  {
   "cell_type": "code",
   "execution_count": 95,
   "metadata": {},
   "outputs": [
    {
     "name": "stdout",
     "output_type": "stream",
     "text": [
      "(487, 65)\n",
      "['Province/State' 'Country/Region' 'Lat' 'Long' '1/22/20' '1/23/20'\n",
      " '1/24/20' '1/25/20' '1/26/20' '1/27/20' '1/28/20' '1/29/20' '1/30/20'\n",
      " '1/31/20' '2/1/20' '2/2/20' '2/3/20' '2/4/20' '2/5/20' '2/6/20' '2/7/20'\n",
      " '2/8/20' '2/9/20' '2/10/20' '2/11/20' '2/12/20' '2/13/20' '2/14/20'\n",
      " '2/15/20' '2/16/20' '2/17/20' '2/18/20' '2/19/20' '2/20/20' '2/21/20'\n",
      " '2/22/20' '2/23/20' '2/24/20' '2/25/20' '2/26/20' '2/27/20' '2/28/20'\n",
      " '2/29/20' '3/1/20' '3/2/20' '3/3/20' '3/4/20' '3/5/20' '3/6/20' '3/7/20'\n",
      " '3/8/20' '3/9/20' '3/10/20' '3/11/20' '3/12/20' '3/13/20' '3/14/20'\n",
      " '3/15/20' '3/16/20' '3/17/20' '3/18/20' '3/19/20' '3/20/20' '3/21/20'\n",
      " '3/22/20']\n"
     ]
    }
   ],
   "source": [
    "print(corona_cases_df.shape)\n",
    "print(corona_cases_df.columns.values)\n"
   ]
  },
  {
   "cell_type": "code",
   "execution_count": 96,
   "metadata": {},
   "outputs": [
    {
     "data": {
      "text/html": [
       "<div>\n",
       "<style scoped>\n",
       "    .dataframe tbody tr th:only-of-type {\n",
       "        vertical-align: middle;\n",
       "    }\n",
       "\n",
       "    .dataframe tbody tr th {\n",
       "        vertical-align: top;\n",
       "    }\n",
       "\n",
       "    .dataframe thead th {\n",
       "        text-align: right;\n",
       "    }\n",
       "</style>\n",
       "<table border=\"1\" class=\"dataframe\">\n",
       "  <thead>\n",
       "    <tr style=\"text-align: right;\">\n",
       "      <th></th>\n",
       "      <th>Province/State</th>\n",
       "      <th>Country/Region</th>\n",
       "      <th>Lat</th>\n",
       "      <th>Long</th>\n",
       "      <th>1/22/20</th>\n",
       "      <th>1/23/20</th>\n",
       "      <th>1/24/20</th>\n",
       "      <th>1/25/20</th>\n",
       "      <th>1/26/20</th>\n",
       "      <th>1/27/20</th>\n",
       "      <th>...</th>\n",
       "      <th>3/13/20</th>\n",
       "      <th>3/14/20</th>\n",
       "      <th>3/15/20</th>\n",
       "      <th>3/16/20</th>\n",
       "      <th>3/17/20</th>\n",
       "      <th>3/18/20</th>\n",
       "      <th>3/19/20</th>\n",
       "      <th>3/20/20</th>\n",
       "      <th>3/21/20</th>\n",
       "      <th>3/22/20</th>\n",
       "    </tr>\n",
       "  </thead>\n",
       "  <tbody>\n",
       "    <tr>\n",
       "      <td>0</td>\n",
       "      <td>NaN</td>\n",
       "      <td>Thailand</td>\n",
       "      <td>15.0000</td>\n",
       "      <td>101.0000</td>\n",
       "      <td>2</td>\n",
       "      <td>3</td>\n",
       "      <td>5</td>\n",
       "      <td>7</td>\n",
       "      <td>8</td>\n",
       "      <td>8</td>\n",
       "      <td>...</td>\n",
       "      <td>75</td>\n",
       "      <td>82</td>\n",
       "      <td>114</td>\n",
       "      <td>147</td>\n",
       "      <td>177</td>\n",
       "      <td>212</td>\n",
       "      <td>272</td>\n",
       "      <td>322</td>\n",
       "      <td>411</td>\n",
       "      <td>599</td>\n",
       "    </tr>\n",
       "    <tr>\n",
       "      <td>1</td>\n",
       "      <td>NaN</td>\n",
       "      <td>Japan</td>\n",
       "      <td>36.0000</td>\n",
       "      <td>138.0000</td>\n",
       "      <td>2</td>\n",
       "      <td>1</td>\n",
       "      <td>2</td>\n",
       "      <td>2</td>\n",
       "      <td>4</td>\n",
       "      <td>4</td>\n",
       "      <td>...</td>\n",
       "      <td>701</td>\n",
       "      <td>773</td>\n",
       "      <td>839</td>\n",
       "      <td>825</td>\n",
       "      <td>878</td>\n",
       "      <td>889</td>\n",
       "      <td>924</td>\n",
       "      <td>963</td>\n",
       "      <td>1007</td>\n",
       "      <td>1086</td>\n",
       "    </tr>\n",
       "    <tr>\n",
       "      <td>2</td>\n",
       "      <td>NaN</td>\n",
       "      <td>Singapore</td>\n",
       "      <td>1.2833</td>\n",
       "      <td>103.8333</td>\n",
       "      <td>0</td>\n",
       "      <td>1</td>\n",
       "      <td>3</td>\n",
       "      <td>3</td>\n",
       "      <td>4</td>\n",
       "      <td>5</td>\n",
       "      <td>...</td>\n",
       "      <td>200</td>\n",
       "      <td>212</td>\n",
       "      <td>226</td>\n",
       "      <td>243</td>\n",
       "      <td>266</td>\n",
       "      <td>313</td>\n",
       "      <td>345</td>\n",
       "      <td>385</td>\n",
       "      <td>432</td>\n",
       "      <td>455</td>\n",
       "    </tr>\n",
       "    <tr>\n",
       "      <td>3</td>\n",
       "      <td>NaN</td>\n",
       "      <td>Nepal</td>\n",
       "      <td>28.1667</td>\n",
       "      <td>84.2500</td>\n",
       "      <td>0</td>\n",
       "      <td>0</td>\n",
       "      <td>0</td>\n",
       "      <td>1</td>\n",
       "      <td>1</td>\n",
       "      <td>1</td>\n",
       "      <td>...</td>\n",
       "      <td>1</td>\n",
       "      <td>1</td>\n",
       "      <td>1</td>\n",
       "      <td>1</td>\n",
       "      <td>1</td>\n",
       "      <td>1</td>\n",
       "      <td>1</td>\n",
       "      <td>1</td>\n",
       "      <td>1</td>\n",
       "      <td>2</td>\n",
       "    </tr>\n",
       "    <tr>\n",
       "      <td>4</td>\n",
       "      <td>NaN</td>\n",
       "      <td>Malaysia</td>\n",
       "      <td>2.5000</td>\n",
       "      <td>112.5000</td>\n",
       "      <td>0</td>\n",
       "      <td>0</td>\n",
       "      <td>0</td>\n",
       "      <td>3</td>\n",
       "      <td>4</td>\n",
       "      <td>4</td>\n",
       "      <td>...</td>\n",
       "      <td>197</td>\n",
       "      <td>238</td>\n",
       "      <td>428</td>\n",
       "      <td>566</td>\n",
       "      <td>673</td>\n",
       "      <td>790</td>\n",
       "      <td>900</td>\n",
       "      <td>1030</td>\n",
       "      <td>1183</td>\n",
       "      <td>1306</td>\n",
       "    </tr>\n",
       "  </tbody>\n",
       "</table>\n",
       "<p>5 rows × 65 columns</p>\n",
       "</div>"
      ],
      "text/plain": [
       "  Province/State Country/Region      Lat      Long  1/22/20  1/23/20  1/24/20  \\\n",
       "0            NaN       Thailand  15.0000  101.0000        2        3        5   \n",
       "1            NaN          Japan  36.0000  138.0000        2        1        2   \n",
       "2            NaN      Singapore   1.2833  103.8333        0        1        3   \n",
       "3            NaN          Nepal  28.1667   84.2500        0        0        0   \n",
       "4            NaN       Malaysia   2.5000  112.5000        0        0        0   \n",
       "\n",
       "   1/25/20  1/26/20  1/27/20  ...  3/13/20  3/14/20  3/15/20  3/16/20  \\\n",
       "0        7        8        8  ...       75       82      114      147   \n",
       "1        2        4        4  ...      701      773      839      825   \n",
       "2        3        4        5  ...      200      212      226      243   \n",
       "3        1        1        1  ...        1        1        1        1   \n",
       "4        3        4        4  ...      197      238      428      566   \n",
       "\n",
       "   3/17/20  3/18/20  3/19/20  3/20/20  3/21/20  3/22/20  \n",
       "0      177      212      272      322      411      599  \n",
       "1      878      889      924      963     1007     1086  \n",
       "2      266      313      345      385      432      455  \n",
       "3        1        1        1        1        1        2  \n",
       "4      673      790      900     1030     1183     1306  \n",
       "\n",
       "[5 rows x 65 columns]"
      ]
     },
     "execution_count": 96,
     "metadata": {},
     "output_type": "execute_result"
    }
   ],
   "source": [
    "corona_cases_df.head(5)"
   ]
  },
  {
   "cell_type": "code",
   "execution_count": 97,
   "metadata": {
    "scrolled": true
   },
   "outputs": [],
   "source": [
    "corona_cases_df = pd.read_csv(curl, index_col=[0,1,2,3])  #   use first four columns as multiindex\n",
    "#corona_cases_df.columns.values[4:]"
   ]
  },
  {
   "cell_type": "code",
   "execution_count": 98,
   "metadata": {},
   "outputs": [],
   "source": [
    "#countries = ['China', 'Canada', 'India']\n",
    "datesformat = [datetime.strptime(da, '%m/%d/%y') for da in corona_cases_df.columns.values[4:]]\n",
    "daterange = pd.DatetimeIndex(datesformat)"
   ]
  },
  {
   "cell_type": "code",
   "execution_count": 99,
   "metadata": {
    "scrolled": true
   },
   "outputs": [
    {
     "name": "stdout",
     "output_type": "stream",
     "text": [
      "DatetimeIndex(['2020-01-26', '2020-01-27', '2020-01-28', '2020-01-29',\n",
      "               '2020-01-30', '2020-01-31', '2020-02-01', '2020-02-02',\n",
      "               '2020-02-03', '2020-02-04', '2020-02-05', '2020-02-06',\n",
      "               '2020-02-07', '2020-02-08', '2020-02-09', '2020-02-10',\n",
      "               '2020-02-11', '2020-02-12', '2020-02-13', '2020-02-14',\n",
      "               '2020-02-15', '2020-02-16', '2020-02-17', '2020-02-18',\n",
      "               '2020-02-19', '2020-02-20', '2020-02-21', '2020-02-22',\n",
      "               '2020-02-23', '2020-02-24', '2020-02-25', '2020-02-26',\n",
      "               '2020-02-27', '2020-02-28', '2020-02-29', '2020-03-01',\n",
      "               '2020-03-02', '2020-03-03', '2020-03-04', '2020-03-05',\n",
      "               '2020-03-06', '2020-03-07', '2020-03-08', '2020-03-09',\n",
      "               '2020-03-10', '2020-03-11', '2020-03-12', '2020-03-13',\n",
      "               '2020-03-14', '2020-03-15', '2020-03-16', '2020-03-17',\n",
      "               '2020-03-18', '2020-03-19', '2020-03-20', '2020-03-21',\n",
      "               '2020-03-22'],\n",
      "              dtype='datetime64[ns]', freq=None)\n"
     ]
    }
   ],
   "source": [
    "print(daterange)"
   ]
  },
  {
   "cell_type": "code",
   "execution_count": 100,
   "metadata": {
    "scrolled": true
   },
   "outputs": [
    {
     "name": "stdout",
     "output_type": "stream",
     "text": [
      "['Thailand' 'Japan' 'Singapore' 'Nepal' 'Malaysia' 'Canada' 'Australia'\n",
      " 'Australia' 'Australia' 'Cambodia' 'Sri Lanka' 'Germany' 'Finland'\n",
      " 'United Arab Emirates' 'Philippines' 'India' 'Italy' 'Sweden' 'Spain'\n",
      " 'Australia' 'Belgium' 'Egypt' 'Australia' 'Lebanon' 'Iraq' 'Oman'\n",
      " 'Afghanistan' 'Bahrain' 'Kuwait' 'Algeria' 'Croatia' 'Switzerland'\n",
      " 'Austria' 'Israel' 'Pakistan' 'Brazil' 'Georgia' 'Greece'\n",
      " 'North Macedonia' 'Norway' 'Romania' 'Estonia' 'San Marino' 'Belarus'\n",
      " 'Iceland' 'Lithuania' 'Mexico' 'New Zealand' 'Nigeria' 'Australia'\n",
      " 'Ireland' 'Luxembourg' 'Monaco' 'Qatar' 'Ecuador' 'Azerbaijan' 'Armenia'\n",
      " 'Dominican Republic' 'Indonesia' 'Portugal' 'Andorra' 'Australia'\n",
      " 'Latvia' 'Morocco' 'Saudi Arabia' 'Senegal' 'Argentina' 'Chile' 'Jordan'\n",
      " 'Ukraine' 'Hungary' 'Australia' 'Liechtenstein' 'Poland' 'Tunisia'\n",
      " 'Bosnia and Herzegovina' 'Slovenia' 'South Africa' 'Bhutan' 'Cameroon'\n",
      " 'Colombia' 'Costa Rica' 'Peru' 'Serbia' 'Slovakia' 'Togo' 'Malta'\n",
      " 'Martinique' 'Bulgaria' 'Maldives' 'Bangladesh' 'Paraguay' 'Canada'\n",
      " 'Canada' 'Canada' 'Albania' 'Cyprus' 'Brunei' 'US' 'US' 'US' 'US' 'US'\n",
      " 'US' 'US' 'US' 'US' 'US' 'US' 'US' 'US' 'US' 'US' 'US' 'US' 'US' 'US'\n",
      " 'US' 'US' 'US' 'US' 'US' 'US' 'US' 'US' 'US' 'US' 'US' 'US' 'US' 'US'\n",
      " 'US' 'US' 'Burkina Faso' 'Holy See' 'Mongolia' 'Panama' 'US' 'US' 'US'\n",
      " 'US' 'US' 'US' 'US' 'US' 'US' 'US' 'US' 'US' 'US' 'US' 'US' 'US' 'US'\n",
      " 'China' 'Iran' 'Korea, South' 'France' 'China' 'China' 'China' 'China'\n",
      " 'China' 'China' 'China' 'Cruise Ship' 'China' 'China' 'China' 'China'\n",
      " 'Denmark' 'China' 'China' 'China' 'China' 'China' 'China' 'China' 'China'\n",
      " 'China' 'China' 'China' 'China' 'China' 'China' 'China' 'Czechia' 'China'\n",
      " 'China' 'China' 'Taiwan*' 'Vietnam' 'Russia' 'China' 'China' 'Moldova'\n",
      " 'Bolivia' 'Denmark' 'France' 'Honduras' 'United Kingdom' 'Canada' 'China'\n",
      " 'Congo (Kinshasa)' \"Cote d'Ivoire\" 'France' 'Jamaica' 'Turkey'\n",
      " 'United Kingdom' 'US' 'US' 'US' 'US' 'US' 'US' 'US' 'US' 'US' 'US' 'US'\n",
      " 'US' 'US' 'US' 'US' 'US' 'US' 'US' 'US' 'US' 'US' 'US' 'US' 'US' 'US'\n",
      " 'US' 'US' 'US' 'US' 'US' 'US' 'US' 'US' 'US' 'US' 'US' 'US' 'US' 'US'\n",
      " 'US' 'US' 'US' 'US' 'US' 'US' 'US' 'US' 'US' 'US' 'US' 'US' 'US' 'US'\n",
      " 'US' 'US' 'US' 'US' 'US' 'US' 'US' 'US' 'US' 'US' 'US' 'US' 'US' 'US'\n",
      " 'US' 'US' 'US' 'US' 'US' 'US' 'US' 'US' 'US' 'US' 'US' 'US' 'US' 'US'\n",
      " 'US' 'US' 'US' 'US' 'US' 'US' 'US' 'US' 'US' 'US' 'US' 'US' 'US' 'US'\n",
      " 'US' 'US' 'US' 'US' 'US' 'US' 'US' 'US' 'US' 'US' 'US' 'US' 'US' 'US'\n",
      " 'US' 'US' 'US' 'US' 'US' 'US' 'US' 'US' 'US' 'US' 'US' 'US' 'US' 'US'\n",
      " 'US' 'US' 'US' 'US' 'US' 'US' 'US' 'US' 'US' 'US' 'US' 'US' 'US' 'US'\n",
      " 'US' 'US' 'US' 'US' 'US' 'US' 'US' 'US' 'US' 'US' 'US' 'US' 'US' 'US'\n",
      " 'US' 'US' 'US' 'US' 'US' 'US' 'US' 'US' 'US' 'US' 'US' 'US' 'US' 'US'\n",
      " 'US' 'US' 'US' 'US' 'US' 'US' 'US' 'US' 'US' 'US' 'US' 'US' 'US' 'US'\n",
      " 'US' 'US' 'US' 'US' 'US' 'US' 'US' 'US' 'US' 'US' 'US' 'US' 'Cuba'\n",
      " 'Guyana' 'Australia' 'United Kingdom' 'Kazakhstan' 'France' 'Canada'\n",
      " 'Canada' 'Ethiopia' 'Sudan' 'Guinea' 'Canada' 'Kenya'\n",
      " 'Antigua and Barbuda' 'US' 'Uruguay' 'Ghana' 'US' 'Namibia' 'Seychelles'\n",
      " 'Trinidad and Tobago' 'Venezuela' 'Eswatini' 'Gabon' 'Guatemala'\n",
      " 'Mauritania' 'Rwanda' 'Saint Lucia' 'Saint Vincent and the Grenadines'\n",
      " 'Suriname' 'France' 'US' 'Kosovo' 'Canada' 'Canada'\n",
      " 'Central African Republic' 'Congo (Brazzaville)' 'Equatorial Guinea'\n",
      " 'France' 'Uzbekistan' 'Netherlands' 'Canada' 'France' 'Benin' 'Liberia'\n",
      " 'Netherlands' 'Somalia' 'Tanzania' 'US' 'United Kingdom' 'France'\n",
      " 'Barbados' 'Montenegro' 'Kyrgyzstan' 'Mauritius' 'Netherlands' 'Zambia'\n",
      " 'Djibouti' 'Gambia, The' 'United Kingdom' 'Bahamas, The' 'Denmark'\n",
      " 'France' 'United Kingdom' 'Chad' 'El Salvador' 'Fiji' 'Nicaragua'\n",
      " 'Madagascar' 'Haiti' 'Angola' 'Cabo Verde' 'Netherlands' 'Niger'\n",
      " 'Papua New Guinea' 'United Kingdom' 'Zimbabwe' 'Canada' 'Cape Verde'\n",
      " 'East Timor' 'Eritrea' 'Uganda' 'Dominica' 'Grenada' 'Mozambique' 'Syria'\n",
      " 'Timor-Leste']\n"
     ]
    }
   ],
   "source": [
    "country_official_list = (corona_cases_df.index.get_level_values('Country/Region').values)\n",
    "print(country_official_list)"
   ]
  },
  {
   "cell_type": "code",
   "execution_count": 154,
   "metadata": {
    "scrolled": true
   },
   "outputs": [
    {
     "name": "stdout",
     "output_type": "stream",
     "text": [
      "['Canada' 'India' 'China' 'US']\n"
     ]
    }
   ],
   "source": [
    "wanted_countries = ['Canada', 'India','China', 'US']\n",
    "\n",
    "country_list = (corona_cases_df.index.get_level_values('Country/Region').values)\n",
    "countries_list = [np.unique(np.array([s for s in country_list if cou in s])) for cou in wanted_countries]\n",
    "countries_list = np.array(countries_list).flatten()\n",
    "print((countries_list))"
   ]
  },
  {
   "cell_type": "code",
   "execution_count": 155,
   "metadata": {},
   "outputs": [
    {
     "data": {
      "text/plain": [
       "'for cou in wanted_countries:\\n    for s in country_list:\\n        if cou in s:\\n            print(cou)'"
      ]
     },
     "execution_count": 155,
     "metadata": {},
     "output_type": "execute_result"
    }
   ],
   "source": [
    "'''for cou in wanted_countries:\n",
    "    for s in country_list:\n",
    "        if cou in s:\n",
    "            print(cou)'''"
   ]
  },
  {
   "cell_type": "code",
   "execution_count": 156,
   "metadata": {},
   "outputs": [
    {
     "data": {
      "text/plain": [
       "'Canada'"
      ]
     },
     "execution_count": 156,
     "metadata": {},
     "output_type": "execute_result"
    }
   ],
   "source": [
    "countries_list[0]"
   ]
  },
  {
   "cell_type": "code",
   "execution_count": 157,
   "metadata": {
    "scrolled": true
   },
   "outputs": [
    {
     "data": {
      "text/html": [
       "<div>\n",
       "<style scoped>\n",
       "    .dataframe tbody tr th:only-of-type {\n",
       "        vertical-align: middle;\n",
       "    }\n",
       "\n",
       "    .dataframe tbody tr th {\n",
       "        vertical-align: top;\n",
       "    }\n",
       "\n",
       "    .dataframe thead th {\n",
       "        text-align: right;\n",
       "    }\n",
       "</style>\n",
       "<table border=\"1\" class=\"dataframe\">\n",
       "  <thead>\n",
       "    <tr style=\"text-align: right;\">\n",
       "      <th></th>\n",
       "      <th></th>\n",
       "      <th></th>\n",
       "      <th></th>\n",
       "      <th>1/22/20</th>\n",
       "      <th>1/23/20</th>\n",
       "      <th>1/24/20</th>\n",
       "      <th>1/25/20</th>\n",
       "      <th>1/26/20</th>\n",
       "      <th>1/27/20</th>\n",
       "      <th>1/28/20</th>\n",
       "      <th>1/29/20</th>\n",
       "      <th>1/30/20</th>\n",
       "      <th>1/31/20</th>\n",
       "      <th>...</th>\n",
       "      <th>3/13/20</th>\n",
       "      <th>3/14/20</th>\n",
       "      <th>3/15/20</th>\n",
       "      <th>3/16/20</th>\n",
       "      <th>3/17/20</th>\n",
       "      <th>3/18/20</th>\n",
       "      <th>3/19/20</th>\n",
       "      <th>3/20/20</th>\n",
       "      <th>3/21/20</th>\n",
       "      <th>3/22/20</th>\n",
       "    </tr>\n",
       "    <tr>\n",
       "      <th>Province/State</th>\n",
       "      <th>Country/Region</th>\n",
       "      <th>Lat</th>\n",
       "      <th>Long</th>\n",
       "      <th></th>\n",
       "      <th></th>\n",
       "      <th></th>\n",
       "      <th></th>\n",
       "      <th></th>\n",
       "      <th></th>\n",
       "      <th></th>\n",
       "      <th></th>\n",
       "      <th></th>\n",
       "      <th></th>\n",
       "      <th></th>\n",
       "      <th></th>\n",
       "      <th></th>\n",
       "      <th></th>\n",
       "      <th></th>\n",
       "      <th></th>\n",
       "      <th></th>\n",
       "      <th></th>\n",
       "      <th></th>\n",
       "      <th></th>\n",
       "      <th></th>\n",
       "    </tr>\n",
       "  </thead>\n",
       "  <tbody>\n",
       "    <tr>\n",
       "      <td>British Columbia</td>\n",
       "      <td>Canada</td>\n",
       "      <td>49.2827</td>\n",
       "      <td>-123.1207</td>\n",
       "      <td>0</td>\n",
       "      <td>0</td>\n",
       "      <td>0</td>\n",
       "      <td>0</td>\n",
       "      <td>0</td>\n",
       "      <td>0</td>\n",
       "      <td>1</td>\n",
       "      <td>1</td>\n",
       "      <td>1</td>\n",
       "      <td>1</td>\n",
       "      <td>...</td>\n",
       "      <td>64</td>\n",
       "      <td>64</td>\n",
       "      <td>73</td>\n",
       "      <td>103</td>\n",
       "      <td>103</td>\n",
       "      <td>186</td>\n",
       "      <td>231</td>\n",
       "      <td>271</td>\n",
       "      <td>424</td>\n",
       "      <td>424</td>\n",
       "    </tr>\n",
       "    <tr>\n",
       "      <td>Ontario</td>\n",
       "      <td>Canada</td>\n",
       "      <td>51.2538</td>\n",
       "      <td>-85.3232</td>\n",
       "      <td>0</td>\n",
       "      <td>0</td>\n",
       "      <td>0</td>\n",
       "      <td>0</td>\n",
       "      <td>1</td>\n",
       "      <td>1</td>\n",
       "      <td>1</td>\n",
       "      <td>1</td>\n",
       "      <td>1</td>\n",
       "      <td>3</td>\n",
       "      <td>...</td>\n",
       "      <td>74</td>\n",
       "      <td>79</td>\n",
       "      <td>104</td>\n",
       "      <td>177</td>\n",
       "      <td>185</td>\n",
       "      <td>221</td>\n",
       "      <td>257</td>\n",
       "      <td>308</td>\n",
       "      <td>377</td>\n",
       "      <td>425</td>\n",
       "    </tr>\n",
       "    <tr>\n",
       "      <td>Alberta</td>\n",
       "      <td>Canada</td>\n",
       "      <td>53.9333</td>\n",
       "      <td>-116.5765</td>\n",
       "      <td>0</td>\n",
       "      <td>0</td>\n",
       "      <td>0</td>\n",
       "      <td>0</td>\n",
       "      <td>0</td>\n",
       "      <td>0</td>\n",
       "      <td>0</td>\n",
       "      <td>0</td>\n",
       "      <td>0</td>\n",
       "      <td>0</td>\n",
       "      <td>...</td>\n",
       "      <td>29</td>\n",
       "      <td>29</td>\n",
       "      <td>39</td>\n",
       "      <td>56</td>\n",
       "      <td>74</td>\n",
       "      <td>97</td>\n",
       "      <td>119</td>\n",
       "      <td>146</td>\n",
       "      <td>195</td>\n",
       "      <td>259</td>\n",
       "    </tr>\n",
       "    <tr>\n",
       "      <td>Quebec</td>\n",
       "      <td>Canada</td>\n",
       "      <td>52.9399</td>\n",
       "      <td>-73.5491</td>\n",
       "      <td>0</td>\n",
       "      <td>0</td>\n",
       "      <td>0</td>\n",
       "      <td>0</td>\n",
       "      <td>0</td>\n",
       "      <td>0</td>\n",
       "      <td>0</td>\n",
       "      <td>0</td>\n",
       "      <td>0</td>\n",
       "      <td>0</td>\n",
       "      <td>...</td>\n",
       "      <td>17</td>\n",
       "      <td>17</td>\n",
       "      <td>24</td>\n",
       "      <td>50</td>\n",
       "      <td>74</td>\n",
       "      <td>94</td>\n",
       "      <td>121</td>\n",
       "      <td>139</td>\n",
       "      <td>181</td>\n",
       "      <td>219</td>\n",
       "    </tr>\n",
       "    <tr>\n",
       "      <td>New Brunswick</td>\n",
       "      <td>Canada</td>\n",
       "      <td>46.5653</td>\n",
       "      <td>-66.4619</td>\n",
       "      <td>0</td>\n",
       "      <td>0</td>\n",
       "      <td>0</td>\n",
       "      <td>0</td>\n",
       "      <td>0</td>\n",
       "      <td>0</td>\n",
       "      <td>0</td>\n",
       "      <td>0</td>\n",
       "      <td>0</td>\n",
       "      <td>0</td>\n",
       "      <td>...</td>\n",
       "      <td>1</td>\n",
       "      <td>1</td>\n",
       "      <td>2</td>\n",
       "      <td>6</td>\n",
       "      <td>8</td>\n",
       "      <td>11</td>\n",
       "      <td>11</td>\n",
       "      <td>11</td>\n",
       "      <td>17</td>\n",
       "      <td>17</td>\n",
       "    </tr>\n",
       "    <tr>\n",
       "      <td>Manitoba</td>\n",
       "      <td>Canada</td>\n",
       "      <td>53.7609</td>\n",
       "      <td>-98.8139</td>\n",
       "      <td>0</td>\n",
       "      <td>0</td>\n",
       "      <td>0</td>\n",
       "      <td>0</td>\n",
       "      <td>0</td>\n",
       "      <td>0</td>\n",
       "      <td>0</td>\n",
       "      <td>0</td>\n",
       "      <td>0</td>\n",
       "      <td>0</td>\n",
       "      <td>...</td>\n",
       "      <td>4</td>\n",
       "      <td>4</td>\n",
       "      <td>4</td>\n",
       "      <td>7</td>\n",
       "      <td>8</td>\n",
       "      <td>15</td>\n",
       "      <td>17</td>\n",
       "      <td>17</td>\n",
       "      <td>18</td>\n",
       "      <td>19</td>\n",
       "    </tr>\n",
       "    <tr>\n",
       "      <td>Saskatchewan</td>\n",
       "      <td>Canada</td>\n",
       "      <td>52.9399</td>\n",
       "      <td>-106.4509</td>\n",
       "      <td>0</td>\n",
       "      <td>0</td>\n",
       "      <td>0</td>\n",
       "      <td>0</td>\n",
       "      <td>0</td>\n",
       "      <td>0</td>\n",
       "      <td>0</td>\n",
       "      <td>0</td>\n",
       "      <td>0</td>\n",
       "      <td>0</td>\n",
       "      <td>...</td>\n",
       "      <td>2</td>\n",
       "      <td>2</td>\n",
       "      <td>2</td>\n",
       "      <td>7</td>\n",
       "      <td>7</td>\n",
       "      <td>8</td>\n",
       "      <td>16</td>\n",
       "      <td>20</td>\n",
       "      <td>26</td>\n",
       "      <td>52</td>\n",
       "    </tr>\n",
       "    <tr>\n",
       "      <td>Grand Princess</td>\n",
       "      <td>Canada</td>\n",
       "      <td>37.6489</td>\n",
       "      <td>-122.6655</td>\n",
       "      <td>0</td>\n",
       "      <td>0</td>\n",
       "      <td>0</td>\n",
       "      <td>0</td>\n",
       "      <td>0</td>\n",
       "      <td>0</td>\n",
       "      <td>0</td>\n",
       "      <td>0</td>\n",
       "      <td>0</td>\n",
       "      <td>0</td>\n",
       "      <td>...</td>\n",
       "      <td>2</td>\n",
       "      <td>2</td>\n",
       "      <td>2</td>\n",
       "      <td>2</td>\n",
       "      <td>8</td>\n",
       "      <td>9</td>\n",
       "      <td>9</td>\n",
       "      <td>10</td>\n",
       "      <td>10</td>\n",
       "      <td>13</td>\n",
       "    </tr>\n",
       "    <tr>\n",
       "      <td>Newfoundland and Labrador</td>\n",
       "      <td>Canada</td>\n",
       "      <td>53.1355</td>\n",
       "      <td>-57.6604</td>\n",
       "      <td>0</td>\n",
       "      <td>0</td>\n",
       "      <td>0</td>\n",
       "      <td>0</td>\n",
       "      <td>0</td>\n",
       "      <td>0</td>\n",
       "      <td>0</td>\n",
       "      <td>0</td>\n",
       "      <td>0</td>\n",
       "      <td>0</td>\n",
       "      <td>...</td>\n",
       "      <td>0</td>\n",
       "      <td>0</td>\n",
       "      <td>1</td>\n",
       "      <td>1</td>\n",
       "      <td>3</td>\n",
       "      <td>3</td>\n",
       "      <td>3</td>\n",
       "      <td>4</td>\n",
       "      <td>6</td>\n",
       "      <td>6</td>\n",
       "    </tr>\n",
       "    <tr>\n",
       "      <td>Prince Edward Island</td>\n",
       "      <td>Canada</td>\n",
       "      <td>46.5107</td>\n",
       "      <td>-63.4168</td>\n",
       "      <td>0</td>\n",
       "      <td>0</td>\n",
       "      <td>0</td>\n",
       "      <td>0</td>\n",
       "      <td>0</td>\n",
       "      <td>0</td>\n",
       "      <td>0</td>\n",
       "      <td>0</td>\n",
       "      <td>0</td>\n",
       "      <td>0</td>\n",
       "      <td>...</td>\n",
       "      <td>0</td>\n",
       "      <td>0</td>\n",
       "      <td>1</td>\n",
       "      <td>1</td>\n",
       "      <td>1</td>\n",
       "      <td>1</td>\n",
       "      <td>2</td>\n",
       "      <td>2</td>\n",
       "      <td>2</td>\n",
       "      <td>2</td>\n",
       "    </tr>\n",
       "    <tr>\n",
       "      <td>Nova Scotia</td>\n",
       "      <td>Canada</td>\n",
       "      <td>44.6820</td>\n",
       "      <td>-63.7443</td>\n",
       "      <td>0</td>\n",
       "      <td>0</td>\n",
       "      <td>0</td>\n",
       "      <td>0</td>\n",
       "      <td>0</td>\n",
       "      <td>0</td>\n",
       "      <td>0</td>\n",
       "      <td>0</td>\n",
       "      <td>0</td>\n",
       "      <td>0</td>\n",
       "      <td>...</td>\n",
       "      <td>0</td>\n",
       "      <td>0</td>\n",
       "      <td>0</td>\n",
       "      <td>5</td>\n",
       "      <td>7</td>\n",
       "      <td>12</td>\n",
       "      <td>14</td>\n",
       "      <td>15</td>\n",
       "      <td>21</td>\n",
       "      <td>28</td>\n",
       "    </tr>\n",
       "    <tr>\n",
       "      <td>Northwest Territories</td>\n",
       "      <td>Canada</td>\n",
       "      <td>64.8255</td>\n",
       "      <td>-124.8457</td>\n",
       "      <td>0</td>\n",
       "      <td>0</td>\n",
       "      <td>0</td>\n",
       "      <td>0</td>\n",
       "      <td>0</td>\n",
       "      <td>0</td>\n",
       "      <td>0</td>\n",
       "      <td>0</td>\n",
       "      <td>0</td>\n",
       "      <td>0</td>\n",
       "      <td>...</td>\n",
       "      <td>0</td>\n",
       "      <td>0</td>\n",
       "      <td>0</td>\n",
       "      <td>0</td>\n",
       "      <td>0</td>\n",
       "      <td>0</td>\n",
       "      <td>0</td>\n",
       "      <td>0</td>\n",
       "      <td>1</td>\n",
       "      <td>1</td>\n",
       "    </tr>\n",
       "  </tbody>\n",
       "</table>\n",
       "<p>12 rows × 61 columns</p>\n",
       "</div>"
      ],
      "text/plain": [
       "                                                            1/22/20  1/23/20  \\\n",
       "Province/State            Country/Region Lat     Long                          \n",
       "British Columbia          Canada         49.2827 -123.1207        0        0   \n",
       "Ontario                   Canada         51.2538 -85.3232         0        0   \n",
       "Alberta                   Canada         53.9333 -116.5765        0        0   \n",
       "Quebec                    Canada         52.9399 -73.5491         0        0   \n",
       "New Brunswick             Canada         46.5653 -66.4619         0        0   \n",
       "Manitoba                  Canada         53.7609 -98.8139         0        0   \n",
       "Saskatchewan              Canada         52.9399 -106.4509        0        0   \n",
       "Grand Princess            Canada         37.6489 -122.6655        0        0   \n",
       "Newfoundland and Labrador Canada         53.1355 -57.6604         0        0   \n",
       "Prince Edward Island      Canada         46.5107 -63.4168         0        0   \n",
       "Nova Scotia               Canada         44.6820 -63.7443         0        0   \n",
       "Northwest Territories     Canada         64.8255 -124.8457        0        0   \n",
       "\n",
       "                                                            1/24/20  1/25/20  \\\n",
       "Province/State            Country/Region Lat     Long                          \n",
       "British Columbia          Canada         49.2827 -123.1207        0        0   \n",
       "Ontario                   Canada         51.2538 -85.3232         0        0   \n",
       "Alberta                   Canada         53.9333 -116.5765        0        0   \n",
       "Quebec                    Canada         52.9399 -73.5491         0        0   \n",
       "New Brunswick             Canada         46.5653 -66.4619         0        0   \n",
       "Manitoba                  Canada         53.7609 -98.8139         0        0   \n",
       "Saskatchewan              Canada         52.9399 -106.4509        0        0   \n",
       "Grand Princess            Canada         37.6489 -122.6655        0        0   \n",
       "Newfoundland and Labrador Canada         53.1355 -57.6604         0        0   \n",
       "Prince Edward Island      Canada         46.5107 -63.4168         0        0   \n",
       "Nova Scotia               Canada         44.6820 -63.7443         0        0   \n",
       "Northwest Territories     Canada         64.8255 -124.8457        0        0   \n",
       "\n",
       "                                                            1/26/20  1/27/20  \\\n",
       "Province/State            Country/Region Lat     Long                          \n",
       "British Columbia          Canada         49.2827 -123.1207        0        0   \n",
       "Ontario                   Canada         51.2538 -85.3232         1        1   \n",
       "Alberta                   Canada         53.9333 -116.5765        0        0   \n",
       "Quebec                    Canada         52.9399 -73.5491         0        0   \n",
       "New Brunswick             Canada         46.5653 -66.4619         0        0   \n",
       "Manitoba                  Canada         53.7609 -98.8139         0        0   \n",
       "Saskatchewan              Canada         52.9399 -106.4509        0        0   \n",
       "Grand Princess            Canada         37.6489 -122.6655        0        0   \n",
       "Newfoundland and Labrador Canada         53.1355 -57.6604         0        0   \n",
       "Prince Edward Island      Canada         46.5107 -63.4168         0        0   \n",
       "Nova Scotia               Canada         44.6820 -63.7443         0        0   \n",
       "Northwest Territories     Canada         64.8255 -124.8457        0        0   \n",
       "\n",
       "                                                            1/28/20  1/29/20  \\\n",
       "Province/State            Country/Region Lat     Long                          \n",
       "British Columbia          Canada         49.2827 -123.1207        1        1   \n",
       "Ontario                   Canada         51.2538 -85.3232         1        1   \n",
       "Alberta                   Canada         53.9333 -116.5765        0        0   \n",
       "Quebec                    Canada         52.9399 -73.5491         0        0   \n",
       "New Brunswick             Canada         46.5653 -66.4619         0        0   \n",
       "Manitoba                  Canada         53.7609 -98.8139         0        0   \n",
       "Saskatchewan              Canada         52.9399 -106.4509        0        0   \n",
       "Grand Princess            Canada         37.6489 -122.6655        0        0   \n",
       "Newfoundland and Labrador Canada         53.1355 -57.6604         0        0   \n",
       "Prince Edward Island      Canada         46.5107 -63.4168         0        0   \n",
       "Nova Scotia               Canada         44.6820 -63.7443         0        0   \n",
       "Northwest Territories     Canada         64.8255 -124.8457        0        0   \n",
       "\n",
       "                                                            1/30/20  1/31/20  \\\n",
       "Province/State            Country/Region Lat     Long                          \n",
       "British Columbia          Canada         49.2827 -123.1207        1        1   \n",
       "Ontario                   Canada         51.2538 -85.3232         1        3   \n",
       "Alberta                   Canada         53.9333 -116.5765        0        0   \n",
       "Quebec                    Canada         52.9399 -73.5491         0        0   \n",
       "New Brunswick             Canada         46.5653 -66.4619         0        0   \n",
       "Manitoba                  Canada         53.7609 -98.8139         0        0   \n",
       "Saskatchewan              Canada         52.9399 -106.4509        0        0   \n",
       "Grand Princess            Canada         37.6489 -122.6655        0        0   \n",
       "Newfoundland and Labrador Canada         53.1355 -57.6604         0        0   \n",
       "Prince Edward Island      Canada         46.5107 -63.4168         0        0   \n",
       "Nova Scotia               Canada         44.6820 -63.7443         0        0   \n",
       "Northwest Territories     Canada         64.8255 -124.8457        0        0   \n",
       "\n",
       "                                                            ...  3/13/20  \\\n",
       "Province/State            Country/Region Lat     Long       ...            \n",
       "British Columbia          Canada         49.2827 -123.1207  ...       64   \n",
       "Ontario                   Canada         51.2538 -85.3232   ...       74   \n",
       "Alberta                   Canada         53.9333 -116.5765  ...       29   \n",
       "Quebec                    Canada         52.9399 -73.5491   ...       17   \n",
       "New Brunswick             Canada         46.5653 -66.4619   ...        1   \n",
       "Manitoba                  Canada         53.7609 -98.8139   ...        4   \n",
       "Saskatchewan              Canada         52.9399 -106.4509  ...        2   \n",
       "Grand Princess            Canada         37.6489 -122.6655  ...        2   \n",
       "Newfoundland and Labrador Canada         53.1355 -57.6604   ...        0   \n",
       "Prince Edward Island      Canada         46.5107 -63.4168   ...        0   \n",
       "Nova Scotia               Canada         44.6820 -63.7443   ...        0   \n",
       "Northwest Territories     Canada         64.8255 -124.8457  ...        0   \n",
       "\n",
       "                                                            3/14/20  3/15/20  \\\n",
       "Province/State            Country/Region Lat     Long                          \n",
       "British Columbia          Canada         49.2827 -123.1207       64       73   \n",
       "Ontario                   Canada         51.2538 -85.3232        79      104   \n",
       "Alberta                   Canada         53.9333 -116.5765       29       39   \n",
       "Quebec                    Canada         52.9399 -73.5491        17       24   \n",
       "New Brunswick             Canada         46.5653 -66.4619         1        2   \n",
       "Manitoba                  Canada         53.7609 -98.8139         4        4   \n",
       "Saskatchewan              Canada         52.9399 -106.4509        2        2   \n",
       "Grand Princess            Canada         37.6489 -122.6655        2        2   \n",
       "Newfoundland and Labrador Canada         53.1355 -57.6604         0        1   \n",
       "Prince Edward Island      Canada         46.5107 -63.4168         0        1   \n",
       "Nova Scotia               Canada         44.6820 -63.7443         0        0   \n",
       "Northwest Territories     Canada         64.8255 -124.8457        0        0   \n",
       "\n",
       "                                                            3/16/20  3/17/20  \\\n",
       "Province/State            Country/Region Lat     Long                          \n",
       "British Columbia          Canada         49.2827 -123.1207      103      103   \n",
       "Ontario                   Canada         51.2538 -85.3232       177      185   \n",
       "Alberta                   Canada         53.9333 -116.5765       56       74   \n",
       "Quebec                    Canada         52.9399 -73.5491        50       74   \n",
       "New Brunswick             Canada         46.5653 -66.4619         6        8   \n",
       "Manitoba                  Canada         53.7609 -98.8139         7        8   \n",
       "Saskatchewan              Canada         52.9399 -106.4509        7        7   \n",
       "Grand Princess            Canada         37.6489 -122.6655        2        8   \n",
       "Newfoundland and Labrador Canada         53.1355 -57.6604         1        3   \n",
       "Prince Edward Island      Canada         46.5107 -63.4168         1        1   \n",
       "Nova Scotia               Canada         44.6820 -63.7443         5        7   \n",
       "Northwest Territories     Canada         64.8255 -124.8457        0        0   \n",
       "\n",
       "                                                            3/18/20  3/19/20  \\\n",
       "Province/State            Country/Region Lat     Long                          \n",
       "British Columbia          Canada         49.2827 -123.1207      186      231   \n",
       "Ontario                   Canada         51.2538 -85.3232       221      257   \n",
       "Alberta                   Canada         53.9333 -116.5765       97      119   \n",
       "Quebec                    Canada         52.9399 -73.5491        94      121   \n",
       "New Brunswick             Canada         46.5653 -66.4619        11       11   \n",
       "Manitoba                  Canada         53.7609 -98.8139        15       17   \n",
       "Saskatchewan              Canada         52.9399 -106.4509        8       16   \n",
       "Grand Princess            Canada         37.6489 -122.6655        9        9   \n",
       "Newfoundland and Labrador Canada         53.1355 -57.6604         3        3   \n",
       "Prince Edward Island      Canada         46.5107 -63.4168         1        2   \n",
       "Nova Scotia               Canada         44.6820 -63.7443        12       14   \n",
       "Northwest Territories     Canada         64.8255 -124.8457        0        0   \n",
       "\n",
       "                                                            3/20/20  3/21/20  \\\n",
       "Province/State            Country/Region Lat     Long                          \n",
       "British Columbia          Canada         49.2827 -123.1207      271      424   \n",
       "Ontario                   Canada         51.2538 -85.3232       308      377   \n",
       "Alberta                   Canada         53.9333 -116.5765      146      195   \n",
       "Quebec                    Canada         52.9399 -73.5491       139      181   \n",
       "New Brunswick             Canada         46.5653 -66.4619        11       17   \n",
       "Manitoba                  Canada         53.7609 -98.8139        17       18   \n",
       "Saskatchewan              Canada         52.9399 -106.4509       20       26   \n",
       "Grand Princess            Canada         37.6489 -122.6655       10       10   \n",
       "Newfoundland and Labrador Canada         53.1355 -57.6604         4        6   \n",
       "Prince Edward Island      Canada         46.5107 -63.4168         2        2   \n",
       "Nova Scotia               Canada         44.6820 -63.7443        15       21   \n",
       "Northwest Territories     Canada         64.8255 -124.8457        0        1   \n",
       "\n",
       "                                                            3/22/20  \n",
       "Province/State            Country/Region Lat     Long                \n",
       "British Columbia          Canada         49.2827 -123.1207      424  \n",
       "Ontario                   Canada         51.2538 -85.3232       425  \n",
       "Alberta                   Canada         53.9333 -116.5765      259  \n",
       "Quebec                    Canada         52.9399 -73.5491       219  \n",
       "New Brunswick             Canada         46.5653 -66.4619        17  \n",
       "Manitoba                  Canada         53.7609 -98.8139        19  \n",
       "Saskatchewan              Canada         52.9399 -106.4509       52  \n",
       "Grand Princess            Canada         37.6489 -122.6655       13  \n",
       "Newfoundland and Labrador Canada         53.1355 -57.6604         6  \n",
       "Prince Edward Island      Canada         46.5107 -63.4168         2  \n",
       "Nova Scotia               Canada         44.6820 -63.7443        28  \n",
       "Northwest Territories     Canada         64.8255 -124.8457        1  \n",
       "\n",
       "[12 rows x 61 columns]"
      ]
     },
     "execution_count": 157,
     "metadata": {},
     "output_type": "execute_result"
    }
   ],
   "source": [
    "# getting all for canada\n",
    "corona_cases_df.loc[pd.IndexSlice[:, 'Canada'], :]"
   ]
  },
  {
   "cell_type": "code",
   "execution_count": 158,
   "metadata": {},
   "outputs": [
    {
     "name": "stdout",
     "output_type": "stream",
     "text": [
      "                                              INDEX SLICE (EXAMPLE)\n",
      "raw data\n",
      "       foo  bar\n",
      "A0 B0    0    1\n",
      "   B1    2    3\n",
      "   B2    4    5\n",
      "   B3    6    7\n",
      "A1 B0    8    9\n",
      "   B1   10   11\n",
      "   B2   12   13\n",
      "   B3   14   15\n",
      "\n",
      "Example of Index slice\n",
      "       foo  bar\n",
      "A0 B0    0    1\n",
      "   B1    2    3\n",
      "A1 B0    8    9\n",
      "   B1   10   11\n"
     ]
    }
   ],
   "source": [
    "print('                                              INDEX SLICE (EXAMPLE)')\n",
    "midx = pd.MultiIndex.from_product([['A0','A1'], ['B0','B1','B2','B3']])\n",
    "columns = ['foo', 'bar']\n",
    "dfmi = pd.DataFrame(np.arange(16).reshape((len(midx), len(columns))),\n",
    "                        index=midx, columns=columns)\n",
    "print('raw data')\n",
    "print(dfmi)\n",
    "\n",
    "idx = pd.IndexSlice\n",
    "print('')\n",
    "print('Example of Index slice')\n",
    "print(dfmi.loc[idx[:, 'B0':'B1'], :])"
   ]
  },
  {
   "cell_type": "code",
   "execution_count": 159,
   "metadata": {},
   "outputs": [],
   "source": [
    "cases_percountry = {}\n",
    "df_dict = {}\n",
    "for country in countries_list:\n",
    "    \n",
    "    # CHECK THE INDEX SLICE EXAMPLE ABOVE. WE ARE DOIGN THIS TO GET ALL THE DATA FOR THE COUNTRY WE ARE LOOKING FOR\n",
    "    # we are doing sum for the total number of cases in a country, eg: in canada we have 12 rows for wach province\n",
    "    # but we want to see for whole canada\n",
    "    cou = corona_cases_df.loc[pd.IndexSlice[:, country], :].sum()\n",
    "    \n",
    "    # getting rid of the record which has zero cases\n",
    "    cases_percountry[country] = cou[cou > 0]\n",
    "    datesformat = [datetime.strptime(da, '%m/%d/%y') for da in cases_percountry[country].index]\n",
    "    df_dict[country] = pd.DataFrame(cases_percountry[country], columns=['Cases'], index=datesformat)\n",
    "    df_dict[country]['DayCount'] = np.arange(1,cases_percountry[country].shape[0]+1)\n",
    "#df_dict has country -> date, cases: # cases that day, DayCount"
   ]
  },
  {
   "cell_type": "code",
   "execution_count": 160,
   "metadata": {},
   "outputs": [],
   "source": [
    "# there is asome manual fix of data followed online.. some numbers were not correct\n",
    "# copied from the link mentioned above\n",
    "\n",
    "confirmed_fixes_dict = {'Italy|2020-03-12': 15113,\n",
    "                        'Spain|2020-03-12': 3146,\n",
    "                        'France|2020-03-12': 2876,\n",
    "                        'United Kingdom|2020-03-12': 590,\n",
    "                        'Germany|2020-03-12': 2745,\n",
    "                        'Argentina|2020-03-12': 19,\n",
    "                        'Australia|2020-03-12': 122,\n",
    "                        'Belgium|2020-03-12': 314,\n",
    "                        'Chile|2020-03-12': 23,\n",
    "                        'Colombia|2020-03-12': 9,\n",
    "                        'Greece|2020-03-12': 98,\n",
    "                        'Indonesia|2020-03-12': 34,\n",
    "                        'Ireland|2020-03-12': 43,\n",
    "                        'Japan|2020-03-12': 620,\n",
    "                        'Netherlands|2020-03-12': 503,\n",
    "                        'Qatar|2020-03-12': 262,\n",
    "                        'Singapore|2020-03-12': 178,\n",
    "                        'France|2020-03-15': 5423,}\n",
    "                        \n",
    "deaths_fixes_dict = {'Italy|2020-03-12': 1016,\n",
    "                     'Spain|2020-03-12': 86,\n",
    "                     'France|2020-03-12': 61,\n",
    "                     'United Kingdom|2020-03-12': 10,\n",
    "                     'Germany|2020-03-12': 6,\n",
    "                     'Argentina|2020-03-12': 1,\n",
    "                     'Australia|2020-03-12': 3,\n",
    "                     'Greece|2020-03-12': 1,\n",
    "                     'Indonesia|2020-03-12': 1,\n",
    "                     'Ireland|2020-03-12': 1,\n",
    "                     'Japan|2020-03-12': 15,\n",
    "                     'Netherlands|2020-03-12': 5,\n",
    "                     'Switzerland|2020-03-12': 4,\n",
    "                     'United Kingdom|2020-03-15': 35,\n",
    "                     'France|2020-03-15': 127}\n",
    "                     \n",
    "recovered_fixes_dict = {'Italy|2020-03-12': 1258,\n",
    "                        'Spain|2020-03-12': 189,\n",
    "                        'France|2020-03-12': 12,\n",
    "                        'Germany|2020-03-12': 25}"
   ]
  },
  {
   "cell_type": "code",
   "execution_count": 161,
   "metadata": {
    "scrolled": true
   },
   "outputs": [
    {
     "name": "stdout",
     "output_type": "stream",
     "text": [
      "Confirmed\n",
      "{'Italy|2020-03-12': 15113, 'Spain|2020-03-12': 3146, 'France|2020-03-12': 2876, 'United Kingdom|2020-03-12': 590, 'Germany|2020-03-12': 2745, 'Argentina|2020-03-12': 19, 'Australia|2020-03-12': 122, 'Belgium|2020-03-12': 314, 'Chile|2020-03-12': 23, 'Colombia|2020-03-12': 9, 'Greece|2020-03-12': 98, 'Indonesia|2020-03-12': 34, 'Ireland|2020-03-12': 43, 'Japan|2020-03-12': 620, 'Netherlands|2020-03-12': 503, 'Qatar|2020-03-12': 262, 'Singapore|2020-03-12': 178, 'France|2020-03-15': 5423}\n"
     ]
    }
   ],
   "source": [
    "print(covid_id)\n",
    "if covid_id=='Confirmed':\n",
    "    fixes_dict = confirmed_fixes_dict\n",
    "    print(fixes_dict)\n",
    "    \n",
    "elif covid_id =='Deaths':\n",
    "    fixes_dict = deaths_fixes_dict\n",
    "\n",
    "elif covid_id =='Recovered':\n",
    "    fixes_dict = recovered_fixes_dict   \n",
    "\n",
    "# fixing the confirmed cases\n",
    "for key in fixes_dict.keys():\n",
    "        country_to_be_fixed = key.split('|')[0]\n",
    "        if country_to_be_fixed in df_dict.keys():\n",
    "            date_to_be_fixed = key.split('|')[1]\n",
    "            value_to_be_fixed = fixes_dict[key]\n",
    "            df_dict[country_to_be_fixed]['Cases'].loc[date_to_be_fixed] = value_to_be_fixed"
   ]
  },
  {
   "cell_type": "code",
   "execution_count": 162,
   "metadata": {},
   "outputs": [
    {
     "ename": "AttributeError",
     "evalue": "'dict' object has no attribute 'Index'",
     "output_type": "error",
     "traceback": [
      "\u001b[1;31m---------------------------------------------------------------------------\u001b[0m",
      "\u001b[1;31mAttributeError\u001b[0m                            Traceback (most recent call last)",
      "\u001b[1;32m<ipython-input-162-a2f147f7a804>\u001b[0m in \u001b[0;36m<module>\u001b[1;34m\u001b[0m\n\u001b[0;32m      1\u001b[0m \u001b[1;31m#print(df_dict.keys())\u001b[0m\u001b[1;33m\u001b[0m\u001b[1;33m\u001b[0m\u001b[1;33m\u001b[0m\u001b[0m\n\u001b[0;32m      2\u001b[0m \u001b[1;31m#print(df_dict)\u001b[0m\u001b[1;33m\u001b[0m\u001b[1;33m\u001b[0m\u001b[1;33m\u001b[0m\u001b[0m\n\u001b[1;32m----> 3\u001b[1;33m \u001b[0mprint\u001b[0m\u001b[1;33m(\u001b[0m\u001b[0mdf_dict\u001b[0m\u001b[1;33m.\u001b[0m\u001b[0mIndex\u001b[0m\u001b[1;33m(\u001b[0m\u001b[1;33m)\u001b[0m\u001b[1;33m)\u001b[0m\u001b[1;33m\u001b[0m\u001b[1;33m\u001b[0m\u001b[0m\n\u001b[0m\u001b[0;32m      4\u001b[0m \u001b[1;31m#print(df_dict['Canada']['Cases'].values)\u001b[0m\u001b[1;33m\u001b[0m\u001b[1;33m\u001b[0m\u001b[1;33m\u001b[0m\u001b[0m\n",
      "\u001b[1;31mAttributeError\u001b[0m: 'dict' object has no attribute 'Index'"
     ]
    }
   ],
   "source": [
    "#print(df_dict.keys())\n",
    "#print(df_dict)\n",
    "print(df_dict.Index())\n",
    "#print(df_dict['Canada']['Cases'].values)"
   ]
  },
  {
   "cell_type": "code",
   "execution_count": 163,
   "metadata": {},
   "outputs": [
    {
     "data": {
      "text/plain": [
       "array(['Canada', 'India', 'China', 'US'], dtype='<U6')"
      ]
     },
     "execution_count": 163,
     "metadata": {},
     "output_type": "execute_result"
    }
   ],
   "source": [
    "countries_list"
   ]
  },
  {
   "cell_type": "code",
   "execution_count": 164,
   "metadata": {},
   "outputs": [
    {
     "data": {
      "image/png": "[encoded data removed]",
      "text/plain": [
       "<Figure size 432x288 with 1 Axes>"
      ]
     },
     "metadata": {
      "needs_background": "light"
     },
     "output_type": "display_data"
    }
   ],
   "source": [
    "for country in countries_list:\n",
    "    dates_count = df_dict[country].index.values\n",
    "    plt.plot(dates_count, np.array(df_dict[country].Cases.values), label = country)\n",
    "    plt.legend()\n",
    "    plt.tick_params(rotation= 45)\n",
    "    plt.ylabel(covid_id, fontsize = 12)"
   ]
  },
  {
   "cell_type": "code",
   "execution_count": 165,
   "metadata": {
    "scrolled": true
   },
   "outputs": [
    {
     "data": {
      "image/png": "[encoded data removed]",
      "text/plain": [
       "<Figure size 432x288 with 1 Axes>"
      ]
     },
     "metadata": {
      "needs_background": "light"
     },
     "output_type": "display_data"
    }
   ],
   "source": [
    "for country in countries_list:\n",
    "    dates_count = df_dict[country].index.values\n",
    "    plt.semilogy(dates_count, np.array(df_dict[country].Cases.values), label = country)\n",
    "    plt.legend()\n",
    "    plt.tick_params(rotation= 45)\n",
    "    plt.ylabel(covid_id, fontsize = 12)"
   ]
  },
  {
   "cell_type": "code",
   "execution_count": 166,
   "metadata": {},
   "outputs": [],
   "source": [
    "# the models that I will be working on\n",
    "# Logistic: https://en.wikipedia.org/wiki/Logistic_function\n",
    "# gomperts = https://en.wikipedia.org/wiki/Gompertz_function\n",
    "# exponential function\n"
   ]
  },
  {
   "cell_type": "code",
   "execution_count": 186,
   "metadata": {},
   "outputs": [],
   "source": [
    "def mod_logistic(x,l,k,x_0):\n",
    "    return l/(1+np.exp(-k*(x-x_0)))\n",
    "\n",
    "def mod_gompertz(x,a,b,c):\n",
    "    return(a*np.exp(-b*np.exp(-c*x))) "
   ]
  },
  {
   "cell_type": "code",
   "execution_count": 201,
   "metadata": {},
   "outputs": [
    {
     "data": {
      "text/plain": [
       "<matplotlib.legend.Legend at 0x1cc167c9288>"
      ]
     },
     "execution_count": 201,
     "metadata": {},
     "output_type": "execute_result"
    },
    {
     "data": {
      "image/png": "[encoded data removed]",
      "text/plain": [
       "<Figure size 432x288 with 1 Axes>"
      ]
     },
     "metadata": {
      "needs_background": "light"
     },
     "output_type": "display_data"
    }
   ],
   "source": [
    "# leaning more about logistic function\n",
    "# how to control parameters\n",
    "plt.title('understanding change in parameters (logistic function)')\n",
    "plt.plot(tt, mod_logistic(tt,100000,0.4,50), c='r', label='Logisitc_k1')\n",
    "plt.plot(tt, mod_logistic(tt,100000,0.1,50), c='g', label='Logisitc-k2')\n",
    "plt.plot(tt, mod_logistic(tt,100000,0.2,70), c='b', label='Logisitc_x0_1')\n",
    "plt.plot(tt, mod_logistic(tt,100000,0.2,20), c='k', label='Logisitc_x0_2')\n",
    "plt.legend()\n"
   ]
  },
  {
   "cell_type": "code",
   "execution_count": 204,
   "metadata": {},
   "outputs": [
    {
     "data": {
      "text/plain": [
       "<matplotlib.legend.Legend at 0x1cc14f35488>"
      ]
     },
     "execution_count": 204,
     "metadata": {},
     "output_type": "execute_result"
    },
    {
     "data": {
      "image/png": "[encoded data removed]",
      "text/plain": [
       "<Figure size 432x288 with 1 Axes>"
      ]
     },
     "metadata": {
      "needs_background": "light"
     },
     "output_type": "display_data"
    }
   ],
   "source": [
    "plt.title('understanding change in parameters (Gompertz function)')\n",
    "plt.plot(tt, mod_gompertz(tt, 100000, 70, 0.08), c='r', label='Gompertz_b1')\n",
    "plt.axvline(x=70, c='r')\n",
    "plt.plot(tt, mod_gompertz(tt, 100000, 20, 0.08), c='g', label='Gompertz_b2')\n",
    "plt.plot(tt, mod_gompertz(tt, 100000, 50, 0.08), c='b', label='Gompertz_c1')\n",
    "plt.axvline(x=50, c='b')\n",
    "plt.plot(tt, mod_gompertz(tt, 100000, 50, 0.1), c='k', label='Gompertz_c2')\n",
    "plt.legend()"
   ]
  },
  {
   "cell_type": "code",
   "execution_count": 196,
   "metadata": {},
   "outputs": [
    {
     "data": {
      "text/plain": [
       "(-1000, 150000)"
      ]
     },
     "execution_count": 196,
     "metadata": {},
     "output_type": "execute_result"
    },
    {
     "data": {
      "image/png": "[encoded data removed]",
      "text/plain": [
       "<Figure size 432x288 with 1 Axes>"
      ]
     },
     "metadata": {
      "needs_background": "light"
     },
     "output_type": "display_data"
    }
   ],
   "source": [
    "tt= np.linspace(0,100,100)\n",
    "plt.plot(tt, mod_logistic(tt,100000,0.2,50), c='b', label='Logisitc')\n",
    "plt.plot(tt, mod_gompertz(tt, 100000, 50, 1/12), c='r', label='Gompertz')\n",
    "plt.legend()\n",
    "plt.xlabel('Time')\n",
    "plt.ylabel('Cases')\n",
    "plt.ylim(-1000,150000)"
   ]
  },
  {
   "cell_type": "code",
   "execution_count": 175,
   "metadata": {},
   "outputs": [
    {
     "ename": "TypeError",
     "evalue": "'float' object is not callable",
     "output_type": "error",
     "traceback": [
      "\u001b[1;31m---------------------------------------------------------------------------\u001b[0m",
      "\u001b[1;31mTypeError\u001b[0m                                 Traceback (most recent call last)",
      "\u001b[1;32m<ipython-input-175-96228e58dfac>\u001b[0m in \u001b[0;36m<module>\u001b[1;34m\u001b[0m\n\u001b[0;32m      1\u001b[0m \u001b[1;32mfor\u001b[0m \u001b[0mi\u001b[0m \u001b[1;32min\u001b[0m \u001b[0mrange\u001b[0m\u001b[1;33m(\u001b[0m\u001b[1;36m100\u001b[0m\u001b[1;33m)\u001b[0m\u001b[1;33m:\u001b[0m\u001b[1;33m\u001b[0m\u001b[1;33m\u001b[0m\u001b[0m\n\u001b[1;32m----> 2\u001b[1;33m     \u001b[0mprint\u001b[0m\u001b[1;33m(\u001b[0m\u001b[1;36m1000\u001b[0m\u001b[1;33m/\u001b[0m\u001b[1;33m(\u001b[0m\u001b[1;36m1\u001b[0m\u001b[1;33m+\u001b[0m\u001b[0mnp\u001b[0m\u001b[1;33m.\u001b[0m\u001b[0mexp\u001b[0m\u001b[1;33m(\u001b[0m\u001b[1;33m-\u001b[0m\u001b[1;36m0.2\u001b[0m\u001b[1;33m(\u001b[0m\u001b[1;33m-\u001b[0m\u001b[1;36m50\u001b[0m\u001b[1;33m)\u001b[0m\u001b[1;33m)\u001b[0m\u001b[1;33m)\u001b[0m\u001b[1;33m)\u001b[0m\u001b[1;33m\u001b[0m\u001b[1;33m\u001b[0m\u001b[0m\n\u001b[0m",
      "\u001b[1;31mTypeError\u001b[0m: 'float' object is not callable"
     ]
    }
   ],
   "source": [
    "for i in range(100):\n",
    "    print(1000/(1+np.exp(-0.2(-50))))"
   ]
  },
  {
   "cell_type": "code",
   "execution_count": 177,
   "metadata": {},
   "outputs": [
    {
     "data": {
      "text/plain": [
       "0.36787944117144233"
      ]
     },
     "execution_count": 177,
     "metadata": {},
     "output_type": "execute_result"
    }
   ],
   "source": [
    "np.exp(-0.2(-50))"
   ]
  },
  {
   "cell_type": "code",
   "execution_count": 178,
   "metadata": {},
   "outputs": [
    {
     "data": {
      "text/plain": [
       "22026.465794806718"
      ]
     },
     "execution_count": 178,
     "metadata": {},
     "output_type": "execute_result"
    }
   ],
   "source": [
    "np.exp(10)"
   ]
  },
  {
   "cell_type": "code",
   "execution_count": 180,
   "metadata": {},
   "outputs": [
    {
     "data": {
      "text/plain": [
       "-10.0"
      ]
     },
     "execution_count": 180,
     "metadata": {},
     "output_type": "execute_result"
    }
   ],
   "source": [
    "0.2*(-50)"
   ]
  },
  {
   "cell_type": "code",
   "execution_count": null,
   "metadata": {},
   "outputs": [],
   "source": []
  },
  {
   "cell_type": "code",
   "execution_count": null,
   "metadata": {},
   "outputs": [],
   "source": []
  }
 ],
 "metadata": {
  "kernelspec": {
   "display_name": "Python 3",
   "language": "python",
   "name": "python3"
  },
  "language_info": {
   "codemirror_mode": {
    "name": "ipython",
    "version": 3
   },
   "file_extension": ".py",
   "mimetype": "text/x-python",
   "name": "python",
   "nbconvert_exporter": "python",
   "pygments_lexer": "ipython3",
   "version": "3.7.4"
  }
 },
 "nbformat": 4,
 "nbformat_minor": 2
}
