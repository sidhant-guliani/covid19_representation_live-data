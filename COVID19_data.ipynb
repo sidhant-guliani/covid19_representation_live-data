{
 "cells": [
  {
   "cell_type": "code",
   "execution_count": 1,
   "metadata": {},
   "outputs": [],
   "source": [
    "import pandas as pd\n",
    "import numpy as np\n",
    "\n",
    "import matplotlib.pyplot as plt\n",
    "from pandas.plotting import register_matplotlib_converters\n",
    "register_matplotlib_converters()\n",
    "from countryinfo import CountryInfo # we can get the information anout country from this (population, coordinates, etc)\n",
    "\n",
    "import sklearn.metrics as sklm\n",
    "from scipy.optimize import curve_fit\n",
    "from scipy.optimize import fsolve\n",
    "\n",
    "from datetime import datetime,timedelta"
   ]
  },
  {
   "cell_type": "code",
   "execution_count": null,
   "metadata": {},
   "outputs": [],
   "source": []
  },
  {
   "cell_type": "code",
   "execution_count": 2,
   "metadata": {},
   "outputs": [],
   "source": [
    "# http://www.pisces-conservation.com/growthhelp/index.html?the_gompertz_growth_curve.htm\n",
    "# http://hplgit.github.io/prog4comp/doc/pub/._p4c-solarized-Python020.html\n",
    "# http://www.pisces-conservation.com/growthhelp/index.html?the_gompertz_growth_curve.htm\n",
    "# https://towardsdatascience.com/modeling-logistic-growth-1367dc971de2    \n",
    "# http://hplgit.github.io/prog4comp/doc/pub/._p4c-solarized-Python021.html\n",
    "# https://colab.research.google.com/drive/1Q_VWV6XsD9yMNoKEQpQ9Xe23bwb0UFym#scrollTo=GLM9MW0jdSBf"
   ]
  },
  {
   "cell_type": "code",
   "execution_count": 3,
   "metadata": {},
   "outputs": [],
   "source": [
    "# getting data from John Hopkins observatory is providing a github repository with all recent data: \n",
    "# https://github.com/CSSEGISandData/COVID-19.git"
   ]
  },
  {
   "cell_type": "code",
   "execution_count": 4,
   "metadata": {},
   "outputs": [],
   "source": [
    "giturl_confirmed = 'https://raw.githubusercontent.com/CSSEGISandData/COVID-19/master/csse_covid_19_data/csse_covid_19_time_series/time_series_covid19_confirmed_global.csv'\n",
    "deaths_data = 'https://raw.githubusercontent.com/CSSEGISandData/COVID-19/master/csse_covid_19_data/csse_covid_19_time_series/time_series_covid19_deaths_global.csv'\n",
    "recovered_data = 'https://raw.githubusercontent.com/CSSEGISandData/COVID-19/master/csse_covid_19_data/csse_covid_19_time_series/time_series_covid19_recovered_global.csv'\n"
   ]
  },
  {
   "cell_type": "code",
   "execution_count": 5,
   "metadata": {},
   "outputs": [],
   "source": [
    "covid_id='Confirmed'"
   ]
  },
  {
   "cell_type": "code",
   "execution_count": 6,
   "metadata": {},
   "outputs": [],
   "source": [
    "if covid_id=='Confirmed':\n",
    "    curl = giturl_confirmed\n",
    "elif covid_id =='Deaths':\n",
    "    curl = giturl_deaths\n",
    "elif covid_id =='Recovered':\n",
    "    curl = giturl_recovered"
   ]
  },
  {
   "cell_type": "code",
   "execution_count": 7,
   "metadata": {},
   "outputs": [],
   "source": [
    "corona_cases_df = pd.read_csv(curl)  #   use first four columns as multiindex"
   ]
  },
  {
   "cell_type": "code",
   "execution_count": 8,
   "metadata": {},
   "outputs": [
    {
     "name": "stdout",
     "output_type": "stream",
     "text": [
      "(256, 74)\n",
      "['Province/State' 'Country/Region' 'Lat' 'Long' '1/22/20' '1/23/20'\n",
      " '1/24/20' '1/25/20' '1/26/20' '1/27/20' '1/28/20' '1/29/20' '1/30/20'\n",
      " '1/31/20' '2/1/20' '2/2/20' '2/3/20' '2/4/20' '2/5/20' '2/6/20' '2/7/20'\n",
      " '2/8/20' '2/9/20' '2/10/20' '2/11/20' '2/12/20' '2/13/20' '2/14/20'\n",
      " '2/15/20' '2/16/20' '2/17/20' '2/18/20' '2/19/20' '2/20/20' '2/21/20'\n",
      " '2/22/20' '2/23/20' '2/24/20' '2/25/20' '2/26/20' '2/27/20' '2/28/20'\n",
      " '2/29/20' '3/1/20' '3/2/20' '3/3/20' '3/4/20' '3/5/20' '3/6/20' '3/7/20'\n",
      " '3/8/20' '3/9/20' '3/10/20' '3/11/20' '3/12/20' '3/13/20' '3/14/20'\n",
      " '3/15/20' '3/16/20' '3/17/20' '3/18/20' '3/19/20' '3/20/20' '3/21/20'\n",
      " '3/22/20' '3/23/20' '3/24/20' '3/25/20' '3/26/20' '3/27/20' '3/28/20'\n",
      " '3/29/20' '3/30/20' '3/31/20']\n"
     ]
    }
   ],
   "source": [
    "print(corona_cases_df.shape)\n",
    "print(corona_cases_df.columns.values)\n"
   ]
  },
  {
   "cell_type": "code",
   "execution_count": 9,
   "metadata": {},
   "outputs": [],
   "source": [
    "def countries_list():\n",
    "    # note returning countries list in confirmes cases only\n",
    "    curl = confirmed_data\n",
    "    corona_cases_df = pd.read_csv(curl, index_col=[0,1,2,3])\n",
    "    country_list = np.unique(corona_cases_df['Country/Region'].values)\n",
    "    return(country_list)"
   ]
  },
  {
   "cell_type": "code",
   "execution_count": 10,
   "metadata": {},
   "outputs": [],
   "source": [
    "curl = giturl_confirmed\n",
    "corona_cases_df = pd.read_csv(curl)"
   ]
  },
  {
   "cell_type": "code",
   "execution_count": 11,
   "metadata": {},
   "outputs": [
    {
     "data": {
      "text/plain": [
       "Index(['Province/State', 'Country/Region', 'Lat', 'Long', '1/22/20', '1/23/20',\n",
       "       '1/24/20', '1/25/20', '1/26/20', '1/27/20', '1/28/20', '1/29/20',\n",
       "       '1/30/20', '1/31/20', '2/1/20', '2/2/20', '2/3/20', '2/4/20', '2/5/20',\n",
       "       '2/6/20', '2/7/20', '2/8/20', '2/9/20', '2/10/20', '2/11/20', '2/12/20',\n",
       "       '2/13/20', '2/14/20', '2/15/20', '2/16/20', '2/17/20', '2/18/20',\n",
       "       '2/19/20', '2/20/20', '2/21/20', '2/22/20', '2/23/20', '2/24/20',\n",
       "       '2/25/20', '2/26/20', '2/27/20', '2/28/20', '2/29/20', '3/1/20',\n",
       "       '3/2/20', '3/3/20', '3/4/20', '3/5/20', '3/6/20', '3/7/20', '3/8/20',\n",
       "       '3/9/20', '3/10/20', '3/11/20', '3/12/20', '3/13/20', '3/14/20',\n",
       "       '3/15/20', '3/16/20', '3/17/20', '3/18/20', '3/19/20', '3/20/20',\n",
       "       '3/21/20', '3/22/20', '3/23/20', '3/24/20', '3/25/20', '3/26/20',\n",
       "       '3/27/20', '3/28/20', '3/29/20', '3/30/20', '3/31/20'],\n",
       "      dtype='object')"
      ]
     },
     "execution_count": 11,
     "metadata": {},
     "output_type": "execute_result"
    }
   ],
   "source": [
    "corona_cases_df.columns"
   ]
  },
  {
   "cell_type": "code",
   "execution_count": 12,
   "metadata": {
    "scrolled": true
   },
   "outputs": [],
   "source": [
    "corona_cases_df = pd.read_csv(curl, index_col=[0,1,2,3])  #   use first four columns as multiindex\n",
    "#corona_cases_df.columns.values[4:]"
   ]
  },
  {
   "cell_type": "code",
   "execution_count": 13,
   "metadata": {},
   "outputs": [],
   "source": [
    "#countries = ['China', 'Canada', 'India']\n",
    "datesformat = [datetime.strptime(da, '%m/%d/%y') for da in corona_cases_df.columns.values]\n",
    "daterange = pd.DatetimeIndex(datesformat)"
   ]
  },
  {
   "cell_type": "code",
   "execution_count": 14,
   "metadata": {
    "scrolled": true
   },
   "outputs": [
    {
     "name": "stdout",
     "output_type": "stream",
     "text": [
      "DatetimeIndex(['2020-01-22', '2020-01-23', '2020-01-24', '2020-01-25',\n",
      "               '2020-01-26', '2020-01-27', '2020-01-28', '2020-01-29',\n",
      "               '2020-01-30', '2020-01-31', '2020-02-01', '2020-02-02',\n",
      "               '2020-02-03', '2020-02-04', '2020-02-05', '2020-02-06',\n",
      "               '2020-02-07', '2020-02-08', '2020-02-09', '2020-02-10',\n",
      "               '2020-02-11', '2020-02-12', '2020-02-13', '2020-02-14',\n",
      "               '2020-02-15', '2020-02-16', '2020-02-17', '2020-02-18',\n",
      "               '2020-02-19', '2020-02-20', '2020-02-21', '2020-02-22',\n",
      "               '2020-02-23', '2020-02-24', '2020-02-25', '2020-02-26',\n",
      "               '2020-02-27', '2020-02-28', '2020-02-29', '2020-03-01',\n",
      "               '2020-03-02', '2020-03-03', '2020-03-04', '2020-03-05',\n",
      "               '2020-03-06', '2020-03-07', '2020-03-08', '2020-03-09',\n",
      "               '2020-03-10', '2020-03-11', '2020-03-12', '2020-03-13',\n",
      "               '2020-03-14', '2020-03-15', '2020-03-16', '2020-03-17',\n",
      "               '2020-03-18', '2020-03-19', '2020-03-20', '2020-03-21',\n",
      "               '2020-03-22', '2020-03-23', '2020-03-24', '2020-03-25',\n",
      "               '2020-03-26', '2020-03-27', '2020-03-28', '2020-03-29',\n",
      "               '2020-03-30', '2020-03-31'],\n",
      "              dtype='datetime64[ns]', freq=None)\n"
     ]
    }
   ],
   "source": [
    "print(daterange)"
   ]
  },
  {
   "cell_type": "code",
   "execution_count": 15,
   "metadata": {
    "scrolled": true
   },
   "outputs": [
    {
     "name": "stdout",
     "output_type": "stream",
     "text": [
      "['Afghanistan' 'Albania' 'Algeria' 'Andorra' 'Angola'\n",
      " 'Antigua and Barbuda' 'Argentina' 'Armenia' 'Australia' 'Australia'\n",
      " 'Australia' 'Australia' 'Australia' 'Australia' 'Australia' 'Australia'\n",
      " 'Austria' 'Azerbaijan' 'Bahamas' 'Bahrain' 'Bangladesh' 'Barbados'\n",
      " 'Belarus' 'Belgium' 'Benin' 'Bhutan' 'Bolivia' 'Bosnia and Herzegovina'\n",
      " 'Brazil' 'Brunei' 'Bulgaria' 'Burkina Faso' 'Cabo Verde' 'Cambodia'\n",
      " 'Cameroon' 'Canada' 'Canada' 'Canada' 'Canada' 'Canada' 'Canada' 'Canada'\n",
      " 'Canada' 'Canada' 'Canada' 'Canada' 'Central African Republic' 'Chad'\n",
      " 'Chile' 'China' 'China' 'China' 'China' 'China' 'China' 'China' 'China'\n",
      " 'China' 'China' 'China' 'China' 'China' 'China' 'China' 'China' 'China'\n",
      " 'China' 'China' 'China' 'China' 'China' 'China' 'China' 'China' 'China'\n",
      " 'China' 'China' 'China' 'China' 'China' 'China' 'China' 'Colombia'\n",
      " 'Congo (Brazzaville)' 'Congo (Kinshasa)' 'Costa Rica' \"Cote d'Ivoire\"\n",
      " 'Croatia' 'Diamond Princess' 'Cuba' 'Cyprus' 'Czechia' 'Denmark'\n",
      " 'Denmark' 'Denmark' 'Djibouti' 'Dominican Republic' 'Ecuador' 'Egypt'\n",
      " 'El Salvador' 'Equatorial Guinea' 'Eritrea' 'Estonia' 'Eswatini'\n",
      " 'Ethiopia' 'Fiji' 'Finland' 'France' 'France' 'France' 'France' 'France'\n",
      " 'France' 'France' 'France' 'France' 'France' 'Gabon' 'Gambia' 'Georgia'\n",
      " 'Germany' 'Ghana' 'Greece' 'Guatemala' 'Guinea' 'Guyana' 'Haiti'\n",
      " 'Holy See' 'Honduras' 'Hungary' 'Iceland' 'India' 'Indonesia' 'Iran'\n",
      " 'Iraq' 'Ireland' 'Israel' 'Italy' 'Jamaica' 'Japan' 'Jordan' 'Kazakhstan'\n",
      " 'Kenya' 'Korea, South' 'Kuwait' 'Kyrgyzstan' 'Latvia' 'Lebanon' 'Liberia'\n",
      " 'Liechtenstein' 'Lithuania' 'Luxembourg' 'Madagascar' 'Malaysia'\n",
      " 'Maldives' 'Malta' 'Mauritania' 'Mauritius' 'Mexico' 'Moldova' 'Monaco'\n",
      " 'Mongolia' 'Montenegro' 'Morocco' 'Namibia' 'Nepal' 'Netherlands'\n",
      " 'Netherlands' 'Netherlands' 'Netherlands' 'New Zealand' 'Nicaragua'\n",
      " 'Niger' 'Nigeria' 'North Macedonia' 'Norway' 'Oman' 'Pakistan' 'Panama'\n",
      " 'Papua New Guinea' 'Paraguay' 'Peru' 'Philippines' 'Poland' 'Portugal'\n",
      " 'Qatar' 'Romania' 'Russia' 'Rwanda' 'Saint Lucia'\n",
      " 'Saint Vincent and the Grenadines' 'San Marino' 'Saudi Arabia' 'Senegal'\n",
      " 'Serbia' 'Seychelles' 'Singapore' 'Slovakia' 'Slovenia' 'Somalia'\n",
      " 'South Africa' 'Spain' 'Sri Lanka' 'Sudan' 'Suriname' 'Sweden'\n",
      " 'Switzerland' 'Taiwan*' 'Tanzania' 'Thailand' 'Togo'\n",
      " 'Trinidad and Tobago' 'Tunisia' 'Turkey' 'Uganda' 'Ukraine'\n",
      " 'United Arab Emirates' 'United Kingdom' 'United Kingdom' 'United Kingdom'\n",
      " 'United Kingdom' 'United Kingdom' 'United Kingdom' 'United Kingdom'\n",
      " 'Uruguay' 'US' 'Uzbekistan' 'Venezuela' 'Vietnam' 'Zambia' 'Zimbabwe'\n",
      " 'Canada' 'Dominica' 'Grenada' 'Mozambique' 'Syria' 'Timor-Leste' 'Belize'\n",
      " 'Canada' 'Laos' 'Libya' 'West Bank and Gaza' 'Guinea-Bissau' 'Mali'\n",
      " 'Saint Kitts and Nevis' 'Canada' 'Canada' 'Kosovo' 'Burma'\n",
      " 'United Kingdom' 'United Kingdom' 'United Kingdom' 'MS Zaandam'\n",
      " 'Botswana' 'Burundi' 'Sierra Leone']\n"
     ]
    }
   ],
   "source": [
    "country_official_list = (corona_cases_df.index.get_level_values('Country/Region').values)\n",
    "print(country_official_list)"
   ]
  },
  {
   "cell_type": "code",
   "execution_count": 19,
   "metadata": {
    "scrolled": true
   },
   "outputs": [
    {
     "name": "stdout",
     "output_type": "stream",
     "text": [
      "['Canada' 'India' 'China' 'US']\n"
     ]
    }
   ],
   "source": [
    "wanted_countries = ['Canada', 'India','China', 'US']\n",
    "\n",
    "country_list = (corona_cases_df.index.get_level_values('Country/Region').values)\n",
    "countries_list = [np.unique(np.array([s for s in country_list if cou in s])) for cou in wanted_countries]\n",
    "countries_list = np.array(countries_list).flatten()\n",
    "print((countries_list))"
   ]
  },
  {
   "cell_type": "code",
   "execution_count": 20,
   "metadata": {},
   "outputs": [],
   "source": [
    "country_list = (corona_cases_df.index.get_level_values('Country/Region').values)\n"
   ]
  },
  {
   "cell_type": "code",
   "execution_count": null,
   "metadata": {},
   "outputs": [],
   "source": []
  },
  {
   "cell_type": "code",
   "execution_count": 20,
   "metadata": {},
   "outputs": [
    {
     "data": {
      "text/plain": [
       "'for cou in wanted_countries:\\n    for s in country_list:\\n        if cou in s:\\n            print(cou)'"
      ]
     },
     "execution_count": 20,
     "metadata": {},
     "output_type": "execute_result"
    }
   ],
   "source": [
    "'''for cou in wanted_countries:\n",
    "    for s in country_list:\n",
    "        if cou in s:\n",
    "            print(cou)'''"
   ]
  },
  {
   "cell_type": "code",
   "execution_count": 22,
   "metadata": {},
   "outputs": [
    {
     "data": {
      "text/plain": [
       "'Canada'"
      ]
     },
     "execution_count": 22,
     "metadata": {},
     "output_type": "execute_result"
    }
   ],
   "source": [
    "countries_list[0]"
   ]
  },
  {
   "cell_type": "code",
   "execution_count": 23,
   "metadata": {
    "scrolled": true
   },
   "outputs": [
    {
     "data": {
      "text/html": [
       "<div>\n",
       "<style scoped>\n",
       "    .dataframe tbody tr th:only-of-type {\n",
       "        vertical-align: middle;\n",
       "    }\n",
       "\n",
       "    .dataframe tbody tr th {\n",
       "        vertical-align: top;\n",
       "    }\n",
       "\n",
       "    .dataframe thead th {\n",
       "        text-align: right;\n",
       "    }\n",
       "</style>\n",
       "<table border=\"1\" class=\"dataframe\">\n",
       "  <thead>\n",
       "    <tr style=\"text-align: right;\">\n",
       "      <th></th>\n",
       "      <th></th>\n",
       "      <th></th>\n",
       "      <th></th>\n",
       "      <th>1/22/20</th>\n",
       "      <th>1/23/20</th>\n",
       "      <th>1/24/20</th>\n",
       "      <th>1/25/20</th>\n",
       "      <th>1/26/20</th>\n",
       "      <th>1/27/20</th>\n",
       "      <th>1/28/20</th>\n",
       "      <th>1/29/20</th>\n",
       "      <th>1/30/20</th>\n",
       "      <th>1/31/20</th>\n",
       "      <th>...</th>\n",
       "      <th>3/22/20</th>\n",
       "      <th>3/23/20</th>\n",
       "      <th>3/24/20</th>\n",
       "      <th>3/25/20</th>\n",
       "      <th>3/26/20</th>\n",
       "      <th>3/27/20</th>\n",
       "      <th>3/28/20</th>\n",
       "      <th>3/29/20</th>\n",
       "      <th>3/30/20</th>\n",
       "      <th>3/31/20</th>\n",
       "    </tr>\n",
       "    <tr>\n",
       "      <th>Province/State</th>\n",
       "      <th>Country/Region</th>\n",
       "      <th>Lat</th>\n",
       "      <th>Long</th>\n",
       "      <th></th>\n",
       "      <th></th>\n",
       "      <th></th>\n",
       "      <th></th>\n",
       "      <th></th>\n",
       "      <th></th>\n",
       "      <th></th>\n",
       "      <th></th>\n",
       "      <th></th>\n",
       "      <th></th>\n",
       "      <th></th>\n",
       "      <th></th>\n",
       "      <th></th>\n",
       "      <th></th>\n",
       "      <th></th>\n",
       "      <th></th>\n",
       "      <th></th>\n",
       "      <th></th>\n",
       "      <th></th>\n",
       "      <th></th>\n",
       "      <th></th>\n",
       "    </tr>\n",
       "  </thead>\n",
       "  <tbody>\n",
       "    <tr>\n",
       "      <td>Anhui</td>\n",
       "      <td>China</td>\n",
       "      <td>31.8257</td>\n",
       "      <td>117.2264</td>\n",
       "      <td>1</td>\n",
       "      <td>9</td>\n",
       "      <td>15</td>\n",
       "      <td>39</td>\n",
       "      <td>60</td>\n",
       "      <td>70</td>\n",
       "      <td>106</td>\n",
       "      <td>152</td>\n",
       "      <td>200</td>\n",
       "      <td>237</td>\n",
       "      <td>...</td>\n",
       "      <td>990</td>\n",
       "      <td>990</td>\n",
       "      <td>990</td>\n",
       "      <td>990</td>\n",
       "      <td>990</td>\n",
       "      <td>990</td>\n",
       "      <td>990</td>\n",
       "      <td>990</td>\n",
       "      <td>990</td>\n",
       "      <td>990</td>\n",
       "    </tr>\n",
       "    <tr>\n",
       "      <td>Beijing</td>\n",
       "      <td>China</td>\n",
       "      <td>40.1824</td>\n",
       "      <td>116.4142</td>\n",
       "      <td>14</td>\n",
       "      <td>22</td>\n",
       "      <td>36</td>\n",
       "      <td>41</td>\n",
       "      <td>68</td>\n",
       "      <td>80</td>\n",
       "      <td>91</td>\n",
       "      <td>111</td>\n",
       "      <td>114</td>\n",
       "      <td>139</td>\n",
       "      <td>...</td>\n",
       "      <td>522</td>\n",
       "      <td>537</td>\n",
       "      <td>558</td>\n",
       "      <td>561</td>\n",
       "      <td>566</td>\n",
       "      <td>569</td>\n",
       "      <td>573</td>\n",
       "      <td>577</td>\n",
       "      <td>577</td>\n",
       "      <td>580</td>\n",
       "    </tr>\n",
       "    <tr>\n",
       "      <td>Chongqing</td>\n",
       "      <td>China</td>\n",
       "      <td>30.0572</td>\n",
       "      <td>107.8740</td>\n",
       "      <td>6</td>\n",
       "      <td>9</td>\n",
       "      <td>27</td>\n",
       "      <td>57</td>\n",
       "      <td>75</td>\n",
       "      <td>110</td>\n",
       "      <td>132</td>\n",
       "      <td>147</td>\n",
       "      <td>182</td>\n",
       "      <td>211</td>\n",
       "      <td>...</td>\n",
       "      <td>577</td>\n",
       "      <td>578</td>\n",
       "      <td>578</td>\n",
       "      <td>578</td>\n",
       "      <td>578</td>\n",
       "      <td>578</td>\n",
       "      <td>578</td>\n",
       "      <td>579</td>\n",
       "      <td>579</td>\n",
       "      <td>579</td>\n",
       "    </tr>\n",
       "    <tr>\n",
       "      <td>Fujian</td>\n",
       "      <td>China</td>\n",
       "      <td>26.0789</td>\n",
       "      <td>117.9874</td>\n",
       "      <td>1</td>\n",
       "      <td>5</td>\n",
       "      <td>10</td>\n",
       "      <td>18</td>\n",
       "      <td>35</td>\n",
       "      <td>59</td>\n",
       "      <td>80</td>\n",
       "      <td>84</td>\n",
       "      <td>101</td>\n",
       "      <td>120</td>\n",
       "      <td>...</td>\n",
       "      <td>313</td>\n",
       "      <td>313</td>\n",
       "      <td>318</td>\n",
       "      <td>322</td>\n",
       "      <td>328</td>\n",
       "      <td>331</td>\n",
       "      <td>337</td>\n",
       "      <td>338</td>\n",
       "      <td>340</td>\n",
       "      <td>343</td>\n",
       "    </tr>\n",
       "    <tr>\n",
       "      <td>Gansu</td>\n",
       "      <td>China</td>\n",
       "      <td>37.8099</td>\n",
       "      <td>101.0583</td>\n",
       "      <td>0</td>\n",
       "      <td>2</td>\n",
       "      <td>2</td>\n",
       "      <td>4</td>\n",
       "      <td>7</td>\n",
       "      <td>14</td>\n",
       "      <td>19</td>\n",
       "      <td>24</td>\n",
       "      <td>26</td>\n",
       "      <td>29</td>\n",
       "      <td>...</td>\n",
       "      <td>136</td>\n",
       "      <td>136</td>\n",
       "      <td>136</td>\n",
       "      <td>136</td>\n",
       "      <td>136</td>\n",
       "      <td>136</td>\n",
       "      <td>136</td>\n",
       "      <td>138</td>\n",
       "      <td>138</td>\n",
       "      <td>138</td>\n",
       "    </tr>\n",
       "    <tr>\n",
       "      <td>Guangdong</td>\n",
       "      <td>China</td>\n",
       "      <td>23.3417</td>\n",
       "      <td>113.4244</td>\n",
       "      <td>26</td>\n",
       "      <td>32</td>\n",
       "      <td>53</td>\n",
       "      <td>78</td>\n",
       "      <td>111</td>\n",
       "      <td>151</td>\n",
       "      <td>207</td>\n",
       "      <td>277</td>\n",
       "      <td>354</td>\n",
       "      <td>436</td>\n",
       "      <td>...</td>\n",
       "      <td>1413</td>\n",
       "      <td>1415</td>\n",
       "      <td>1428</td>\n",
       "      <td>1433</td>\n",
       "      <td>1448</td>\n",
       "      <td>1456</td>\n",
       "      <td>1467</td>\n",
       "      <td>1475</td>\n",
       "      <td>1484</td>\n",
       "      <td>1494</td>\n",
       "    </tr>\n",
       "    <tr>\n",
       "      <td>Guangxi</td>\n",
       "      <td>China</td>\n",
       "      <td>23.8298</td>\n",
       "      <td>108.7881</td>\n",
       "      <td>2</td>\n",
       "      <td>5</td>\n",
       "      <td>23</td>\n",
       "      <td>23</td>\n",
       "      <td>36</td>\n",
       "      <td>46</td>\n",
       "      <td>51</td>\n",
       "      <td>58</td>\n",
       "      <td>78</td>\n",
       "      <td>87</td>\n",
       "      <td>...</td>\n",
       "      <td>254</td>\n",
       "      <td>254</td>\n",
       "      <td>254</td>\n",
       "      <td>254</td>\n",
       "      <td>254</td>\n",
       "      <td>254</td>\n",
       "      <td>254</td>\n",
       "      <td>254</td>\n",
       "      <td>254</td>\n",
       "      <td>254</td>\n",
       "    </tr>\n",
       "    <tr>\n",
       "      <td>Guizhou</td>\n",
       "      <td>China</td>\n",
       "      <td>26.8154</td>\n",
       "      <td>106.8748</td>\n",
       "      <td>1</td>\n",
       "      <td>3</td>\n",
       "      <td>3</td>\n",
       "      <td>4</td>\n",
       "      <td>5</td>\n",
       "      <td>7</td>\n",
       "      <td>9</td>\n",
       "      <td>9</td>\n",
       "      <td>12</td>\n",
       "      <td>29</td>\n",
       "      <td>...</td>\n",
       "      <td>146</td>\n",
       "      <td>146</td>\n",
       "      <td>146</td>\n",
       "      <td>146</td>\n",
       "      <td>146</td>\n",
       "      <td>146</td>\n",
       "      <td>146</td>\n",
       "      <td>146</td>\n",
       "      <td>146</td>\n",
       "      <td>146</td>\n",
       "    </tr>\n",
       "    <tr>\n",
       "      <td>Hainan</td>\n",
       "      <td>China</td>\n",
       "      <td>19.1959</td>\n",
       "      <td>109.7453</td>\n",
       "      <td>4</td>\n",
       "      <td>5</td>\n",
       "      <td>8</td>\n",
       "      <td>19</td>\n",
       "      <td>22</td>\n",
       "      <td>33</td>\n",
       "      <td>40</td>\n",
       "      <td>43</td>\n",
       "      <td>46</td>\n",
       "      <td>52</td>\n",
       "      <td>...</td>\n",
       "      <td>168</td>\n",
       "      <td>168</td>\n",
       "      <td>168</td>\n",
       "      <td>168</td>\n",
       "      <td>168</td>\n",
       "      <td>168</td>\n",
       "      <td>168</td>\n",
       "      <td>168</td>\n",
       "      <td>168</td>\n",
       "      <td>168</td>\n",
       "    </tr>\n",
       "    <tr>\n",
       "      <td>Hebei</td>\n",
       "      <td>China</td>\n",
       "      <td>39.5490</td>\n",
       "      <td>116.1306</td>\n",
       "      <td>1</td>\n",
       "      <td>1</td>\n",
       "      <td>2</td>\n",
       "      <td>8</td>\n",
       "      <td>13</td>\n",
       "      <td>18</td>\n",
       "      <td>33</td>\n",
       "      <td>48</td>\n",
       "      <td>65</td>\n",
       "      <td>82</td>\n",
       "      <td>...</td>\n",
       "      <td>319</td>\n",
       "      <td>319</td>\n",
       "      <td>319</td>\n",
       "      <td>319</td>\n",
       "      <td>319</td>\n",
       "      <td>319</td>\n",
       "      <td>319</td>\n",
       "      <td>319</td>\n",
       "      <td>321</td>\n",
       "      <td>321</td>\n",
       "    </tr>\n",
       "    <tr>\n",
       "      <td>Heilongjiang</td>\n",
       "      <td>China</td>\n",
       "      <td>47.8620</td>\n",
       "      <td>127.7615</td>\n",
       "      <td>0</td>\n",
       "      <td>2</td>\n",
       "      <td>4</td>\n",
       "      <td>9</td>\n",
       "      <td>15</td>\n",
       "      <td>21</td>\n",
       "      <td>33</td>\n",
       "      <td>38</td>\n",
       "      <td>44</td>\n",
       "      <td>59</td>\n",
       "      <td>...</td>\n",
       "      <td>484</td>\n",
       "      <td>484</td>\n",
       "      <td>484</td>\n",
       "      <td>484</td>\n",
       "      <td>484</td>\n",
       "      <td>484</td>\n",
       "      <td>484</td>\n",
       "      <td>484</td>\n",
       "      <td>484</td>\n",
       "      <td>484</td>\n",
       "    </tr>\n",
       "    <tr>\n",
       "      <td>Henan</td>\n",
       "      <td>China</td>\n",
       "      <td>33.8820</td>\n",
       "      <td>113.6140</td>\n",
       "      <td>5</td>\n",
       "      <td>5</td>\n",
       "      <td>9</td>\n",
       "      <td>32</td>\n",
       "      <td>83</td>\n",
       "      <td>128</td>\n",
       "      <td>168</td>\n",
       "      <td>206</td>\n",
       "      <td>278</td>\n",
       "      <td>352</td>\n",
       "      <td>...</td>\n",
       "      <td>1274</td>\n",
       "      <td>1274</td>\n",
       "      <td>1274</td>\n",
       "      <td>1274</td>\n",
       "      <td>1275</td>\n",
       "      <td>1275</td>\n",
       "      <td>1275</td>\n",
       "      <td>1276</td>\n",
       "      <td>1276</td>\n",
       "      <td>1276</td>\n",
       "    </tr>\n",
       "    <tr>\n",
       "      <td>Hong Kong</td>\n",
       "      <td>China</td>\n",
       "      <td>22.3000</td>\n",
       "      <td>114.2000</td>\n",
       "      <td>0</td>\n",
       "      <td>2</td>\n",
       "      <td>2</td>\n",
       "      <td>5</td>\n",
       "      <td>8</td>\n",
       "      <td>8</td>\n",
       "      <td>8</td>\n",
       "      <td>10</td>\n",
       "      <td>10</td>\n",
       "      <td>12</td>\n",
       "      <td>...</td>\n",
       "      <td>317</td>\n",
       "      <td>356</td>\n",
       "      <td>386</td>\n",
       "      <td>410</td>\n",
       "      <td>453</td>\n",
       "      <td>519</td>\n",
       "      <td>561</td>\n",
       "      <td>641</td>\n",
       "      <td>682</td>\n",
       "      <td>714</td>\n",
       "    </tr>\n",
       "    <tr>\n",
       "      <td>Hubei</td>\n",
       "      <td>China</td>\n",
       "      <td>30.9756</td>\n",
       "      <td>112.2707</td>\n",
       "      <td>444</td>\n",
       "      <td>444</td>\n",
       "      <td>549</td>\n",
       "      <td>761</td>\n",
       "      <td>1058</td>\n",
       "      <td>1423</td>\n",
       "      <td>3554</td>\n",
       "      <td>3554</td>\n",
       "      <td>4903</td>\n",
       "      <td>5806</td>\n",
       "      <td>...</td>\n",
       "      <td>67800</td>\n",
       "      <td>67800</td>\n",
       "      <td>67801</td>\n",
       "      <td>67801</td>\n",
       "      <td>67801</td>\n",
       "      <td>67801</td>\n",
       "      <td>67801</td>\n",
       "      <td>67801</td>\n",
       "      <td>67801</td>\n",
       "      <td>67801</td>\n",
       "    </tr>\n",
       "    <tr>\n",
       "      <td>Hunan</td>\n",
       "      <td>China</td>\n",
       "      <td>27.6104</td>\n",
       "      <td>111.7088</td>\n",
       "      <td>4</td>\n",
       "      <td>9</td>\n",
       "      <td>24</td>\n",
       "      <td>43</td>\n",
       "      <td>69</td>\n",
       "      <td>100</td>\n",
       "      <td>143</td>\n",
       "      <td>221</td>\n",
       "      <td>277</td>\n",
       "      <td>332</td>\n",
       "      <td>...</td>\n",
       "      <td>1018</td>\n",
       "      <td>1018</td>\n",
       "      <td>1018</td>\n",
       "      <td>1018</td>\n",
       "      <td>1018</td>\n",
       "      <td>1018</td>\n",
       "      <td>1018</td>\n",
       "      <td>1018</td>\n",
       "      <td>1018</td>\n",
       "      <td>1018</td>\n",
       "    </tr>\n",
       "    <tr>\n",
       "      <td>Inner Mongolia</td>\n",
       "      <td>China</td>\n",
       "      <td>44.0935</td>\n",
       "      <td>113.9448</td>\n",
       "      <td>0</td>\n",
       "      <td>0</td>\n",
       "      <td>1</td>\n",
       "      <td>7</td>\n",
       "      <td>7</td>\n",
       "      <td>11</td>\n",
       "      <td>15</td>\n",
       "      <td>16</td>\n",
       "      <td>19</td>\n",
       "      <td>20</td>\n",
       "      <td>...</td>\n",
       "      <td>75</td>\n",
       "      <td>75</td>\n",
       "      <td>75</td>\n",
       "      <td>77</td>\n",
       "      <td>89</td>\n",
       "      <td>92</td>\n",
       "      <td>94</td>\n",
       "      <td>95</td>\n",
       "      <td>97</td>\n",
       "      <td>107</td>\n",
       "    </tr>\n",
       "    <tr>\n",
       "      <td>Jiangsu</td>\n",
       "      <td>China</td>\n",
       "      <td>32.9711</td>\n",
       "      <td>119.4550</td>\n",
       "      <td>1</td>\n",
       "      <td>5</td>\n",
       "      <td>9</td>\n",
       "      <td>18</td>\n",
       "      <td>33</td>\n",
       "      <td>47</td>\n",
       "      <td>70</td>\n",
       "      <td>99</td>\n",
       "      <td>129</td>\n",
       "      <td>168</td>\n",
       "      <td>...</td>\n",
       "      <td>633</td>\n",
       "      <td>633</td>\n",
       "      <td>636</td>\n",
       "      <td>638</td>\n",
       "      <td>640</td>\n",
       "      <td>641</td>\n",
       "      <td>641</td>\n",
       "      <td>644</td>\n",
       "      <td>645</td>\n",
       "      <td>646</td>\n",
       "    </tr>\n",
       "    <tr>\n",
       "      <td>Jiangxi</td>\n",
       "      <td>China</td>\n",
       "      <td>27.6140</td>\n",
       "      <td>115.7221</td>\n",
       "      <td>2</td>\n",
       "      <td>7</td>\n",
       "      <td>18</td>\n",
       "      <td>18</td>\n",
       "      <td>36</td>\n",
       "      <td>72</td>\n",
       "      <td>109</td>\n",
       "      <td>109</td>\n",
       "      <td>162</td>\n",
       "      <td>240</td>\n",
       "      <td>...</td>\n",
       "      <td>936</td>\n",
       "      <td>936</td>\n",
       "      <td>936</td>\n",
       "      <td>936</td>\n",
       "      <td>936</td>\n",
       "      <td>936</td>\n",
       "      <td>936</td>\n",
       "      <td>937</td>\n",
       "      <td>937</td>\n",
       "      <td>937</td>\n",
       "    </tr>\n",
       "    <tr>\n",
       "      <td>Jilin</td>\n",
       "      <td>China</td>\n",
       "      <td>43.6661</td>\n",
       "      <td>126.1923</td>\n",
       "      <td>0</td>\n",
       "      <td>1</td>\n",
       "      <td>3</td>\n",
       "      <td>4</td>\n",
       "      <td>4</td>\n",
       "      <td>6</td>\n",
       "      <td>8</td>\n",
       "      <td>9</td>\n",
       "      <td>14</td>\n",
       "      <td>14</td>\n",
       "      <td>...</td>\n",
       "      <td>93</td>\n",
       "      <td>93</td>\n",
       "      <td>93</td>\n",
       "      <td>94</td>\n",
       "      <td>95</td>\n",
       "      <td>95</td>\n",
       "      <td>97</td>\n",
       "      <td>98</td>\n",
       "      <td>98</td>\n",
       "      <td>98</td>\n",
       "    </tr>\n",
       "    <tr>\n",
       "      <td>Liaoning</td>\n",
       "      <td>China</td>\n",
       "      <td>41.2956</td>\n",
       "      <td>122.6085</td>\n",
       "      <td>2</td>\n",
       "      <td>3</td>\n",
       "      <td>4</td>\n",
       "      <td>17</td>\n",
       "      <td>21</td>\n",
       "      <td>27</td>\n",
       "      <td>34</td>\n",
       "      <td>39</td>\n",
       "      <td>41</td>\n",
       "      <td>48</td>\n",
       "      <td>...</td>\n",
       "      <td>127</td>\n",
       "      <td>127</td>\n",
       "      <td>127</td>\n",
       "      <td>127</td>\n",
       "      <td>128</td>\n",
       "      <td>128</td>\n",
       "      <td>132</td>\n",
       "      <td>134</td>\n",
       "      <td>136</td>\n",
       "      <td>139</td>\n",
       "    </tr>\n",
       "    <tr>\n",
       "      <td>Macau</td>\n",
       "      <td>China</td>\n",
       "      <td>22.1667</td>\n",
       "      <td>113.5500</td>\n",
       "      <td>1</td>\n",
       "      <td>2</td>\n",
       "      <td>2</td>\n",
       "      <td>2</td>\n",
       "      <td>5</td>\n",
       "      <td>6</td>\n",
       "      <td>7</td>\n",
       "      <td>7</td>\n",
       "      <td>7</td>\n",
       "      <td>7</td>\n",
       "      <td>...</td>\n",
       "      <td>24</td>\n",
       "      <td>24</td>\n",
       "      <td>25</td>\n",
       "      <td>30</td>\n",
       "      <td>31</td>\n",
       "      <td>33</td>\n",
       "      <td>37</td>\n",
       "      <td>37</td>\n",
       "      <td>38</td>\n",
       "      <td>41</td>\n",
       "    </tr>\n",
       "    <tr>\n",
       "      <td>Ningxia</td>\n",
       "      <td>China</td>\n",
       "      <td>37.2692</td>\n",
       "      <td>106.1655</td>\n",
       "      <td>1</td>\n",
       "      <td>1</td>\n",
       "      <td>2</td>\n",
       "      <td>3</td>\n",
       "      <td>4</td>\n",
       "      <td>7</td>\n",
       "      <td>11</td>\n",
       "      <td>12</td>\n",
       "      <td>17</td>\n",
       "      <td>21</td>\n",
       "      <td>...</td>\n",
       "      <td>75</td>\n",
       "      <td>75</td>\n",
       "      <td>75</td>\n",
       "      <td>75</td>\n",
       "      <td>75</td>\n",
       "      <td>75</td>\n",
       "      <td>75</td>\n",
       "      <td>75</td>\n",
       "      <td>75</td>\n",
       "      <td>75</td>\n",
       "    </tr>\n",
       "    <tr>\n",
       "      <td>Qinghai</td>\n",
       "      <td>China</td>\n",
       "      <td>35.7452</td>\n",
       "      <td>95.9956</td>\n",
       "      <td>0</td>\n",
       "      <td>0</td>\n",
       "      <td>0</td>\n",
       "      <td>1</td>\n",
       "      <td>1</td>\n",
       "      <td>6</td>\n",
       "      <td>6</td>\n",
       "      <td>6</td>\n",
       "      <td>8</td>\n",
       "      <td>8</td>\n",
       "      <td>...</td>\n",
       "      <td>18</td>\n",
       "      <td>18</td>\n",
       "      <td>18</td>\n",
       "      <td>18</td>\n",
       "      <td>18</td>\n",
       "      <td>18</td>\n",
       "      <td>18</td>\n",
       "      <td>18</td>\n",
       "      <td>18</td>\n",
       "      <td>18</td>\n",
       "    </tr>\n",
       "    <tr>\n",
       "      <td>Shaanxi</td>\n",
       "      <td>China</td>\n",
       "      <td>35.1917</td>\n",
       "      <td>108.8701</td>\n",
       "      <td>0</td>\n",
       "      <td>3</td>\n",
       "      <td>5</td>\n",
       "      <td>15</td>\n",
       "      <td>22</td>\n",
       "      <td>35</td>\n",
       "      <td>46</td>\n",
       "      <td>56</td>\n",
       "      <td>63</td>\n",
       "      <td>87</td>\n",
       "      <td>...</td>\n",
       "      <td>248</td>\n",
       "      <td>248</td>\n",
       "      <td>249</td>\n",
       "      <td>250</td>\n",
       "      <td>253</td>\n",
       "      <td>253</td>\n",
       "      <td>253</td>\n",
       "      <td>253</td>\n",
       "      <td>253</td>\n",
       "      <td>253</td>\n",
       "    </tr>\n",
       "    <tr>\n",
       "      <td>Shandong</td>\n",
       "      <td>China</td>\n",
       "      <td>36.3427</td>\n",
       "      <td>118.1498</td>\n",
       "      <td>2</td>\n",
       "      <td>6</td>\n",
       "      <td>15</td>\n",
       "      <td>27</td>\n",
       "      <td>46</td>\n",
       "      <td>75</td>\n",
       "      <td>95</td>\n",
       "      <td>130</td>\n",
       "      <td>158</td>\n",
       "      <td>184</td>\n",
       "      <td>...</td>\n",
       "      <td>767</td>\n",
       "      <td>768</td>\n",
       "      <td>768</td>\n",
       "      <td>769</td>\n",
       "      <td>771</td>\n",
       "      <td>772</td>\n",
       "      <td>772</td>\n",
       "      <td>772</td>\n",
       "      <td>773</td>\n",
       "      <td>774</td>\n",
       "    </tr>\n",
       "    <tr>\n",
       "      <td>Shanghai</td>\n",
       "      <td>China</td>\n",
       "      <td>31.2020</td>\n",
       "      <td>121.4491</td>\n",
       "      <td>9</td>\n",
       "      <td>16</td>\n",
       "      <td>20</td>\n",
       "      <td>33</td>\n",
       "      <td>40</td>\n",
       "      <td>53</td>\n",
       "      <td>66</td>\n",
       "      <td>96</td>\n",
       "      <td>112</td>\n",
       "      <td>135</td>\n",
       "      <td>...</td>\n",
       "      <td>404</td>\n",
       "      <td>404</td>\n",
       "      <td>414</td>\n",
       "      <td>433</td>\n",
       "      <td>451</td>\n",
       "      <td>468</td>\n",
       "      <td>485</td>\n",
       "      <td>492</td>\n",
       "      <td>498</td>\n",
       "      <td>509</td>\n",
       "    </tr>\n",
       "    <tr>\n",
       "      <td>Shanxi</td>\n",
       "      <td>China</td>\n",
       "      <td>37.5777</td>\n",
       "      <td>112.2922</td>\n",
       "      <td>1</td>\n",
       "      <td>1</td>\n",
       "      <td>1</td>\n",
       "      <td>6</td>\n",
       "      <td>9</td>\n",
       "      <td>13</td>\n",
       "      <td>27</td>\n",
       "      <td>27</td>\n",
       "      <td>35</td>\n",
       "      <td>39</td>\n",
       "      <td>...</td>\n",
       "      <td>133</td>\n",
       "      <td>134</td>\n",
       "      <td>134</td>\n",
       "      <td>134</td>\n",
       "      <td>135</td>\n",
       "      <td>135</td>\n",
       "      <td>135</td>\n",
       "      <td>136</td>\n",
       "      <td>136</td>\n",
       "      <td>136</td>\n",
       "    </tr>\n",
       "    <tr>\n",
       "      <td>Sichuan</td>\n",
       "      <td>China</td>\n",
       "      <td>30.6171</td>\n",
       "      <td>102.7103</td>\n",
       "      <td>5</td>\n",
       "      <td>8</td>\n",
       "      <td>15</td>\n",
       "      <td>28</td>\n",
       "      <td>44</td>\n",
       "      <td>69</td>\n",
       "      <td>90</td>\n",
       "      <td>108</td>\n",
       "      <td>142</td>\n",
       "      <td>177</td>\n",
       "      <td>...</td>\n",
       "      <td>543</td>\n",
       "      <td>543</td>\n",
       "      <td>545</td>\n",
       "      <td>547</td>\n",
       "      <td>547</td>\n",
       "      <td>548</td>\n",
       "      <td>548</td>\n",
       "      <td>550</td>\n",
       "      <td>550</td>\n",
       "      <td>550</td>\n",
       "    </tr>\n",
       "    <tr>\n",
       "      <td>Tianjin</td>\n",
       "      <td>China</td>\n",
       "      <td>39.3054</td>\n",
       "      <td>117.3230</td>\n",
       "      <td>4</td>\n",
       "      <td>4</td>\n",
       "      <td>8</td>\n",
       "      <td>10</td>\n",
       "      <td>14</td>\n",
       "      <td>23</td>\n",
       "      <td>24</td>\n",
       "      <td>27</td>\n",
       "      <td>31</td>\n",
       "      <td>32</td>\n",
       "      <td>...</td>\n",
       "      <td>137</td>\n",
       "      <td>141</td>\n",
       "      <td>145</td>\n",
       "      <td>145</td>\n",
       "      <td>151</td>\n",
       "      <td>155</td>\n",
       "      <td>161</td>\n",
       "      <td>166</td>\n",
       "      <td>174</td>\n",
       "      <td>174</td>\n",
       "    </tr>\n",
       "    <tr>\n",
       "      <td>Tibet</td>\n",
       "      <td>China</td>\n",
       "      <td>31.6927</td>\n",
       "      <td>88.0924</td>\n",
       "      <td>0</td>\n",
       "      <td>0</td>\n",
       "      <td>0</td>\n",
       "      <td>0</td>\n",
       "      <td>0</td>\n",
       "      <td>0</td>\n",
       "      <td>0</td>\n",
       "      <td>0</td>\n",
       "      <td>1</td>\n",
       "      <td>1</td>\n",
       "      <td>...</td>\n",
       "      <td>1</td>\n",
       "      <td>1</td>\n",
       "      <td>1</td>\n",
       "      <td>1</td>\n",
       "      <td>1</td>\n",
       "      <td>1</td>\n",
       "      <td>1</td>\n",
       "      <td>1</td>\n",
       "      <td>1</td>\n",
       "      <td>1</td>\n",
       "    </tr>\n",
       "    <tr>\n",
       "      <td>Xinjiang</td>\n",
       "      <td>China</td>\n",
       "      <td>41.1129</td>\n",
       "      <td>85.2401</td>\n",
       "      <td>0</td>\n",
       "      <td>2</td>\n",
       "      <td>2</td>\n",
       "      <td>3</td>\n",
       "      <td>4</td>\n",
       "      <td>5</td>\n",
       "      <td>10</td>\n",
       "      <td>13</td>\n",
       "      <td>14</td>\n",
       "      <td>17</td>\n",
       "      <td>...</td>\n",
       "      <td>76</td>\n",
       "      <td>76</td>\n",
       "      <td>76</td>\n",
       "      <td>76</td>\n",
       "      <td>76</td>\n",
       "      <td>76</td>\n",
       "      <td>76</td>\n",
       "      <td>76</td>\n",
       "      <td>76</td>\n",
       "      <td>76</td>\n",
       "    </tr>\n",
       "    <tr>\n",
       "      <td>Yunnan</td>\n",
       "      <td>China</td>\n",
       "      <td>24.9740</td>\n",
       "      <td>101.4870</td>\n",
       "      <td>1</td>\n",
       "      <td>2</td>\n",
       "      <td>5</td>\n",
       "      <td>11</td>\n",
       "      <td>16</td>\n",
       "      <td>26</td>\n",
       "      <td>44</td>\n",
       "      <td>55</td>\n",
       "      <td>70</td>\n",
       "      <td>83</td>\n",
       "      <td>...</td>\n",
       "      <td>176</td>\n",
       "      <td>176</td>\n",
       "      <td>176</td>\n",
       "      <td>176</td>\n",
       "      <td>178</td>\n",
       "      <td>180</td>\n",
       "      <td>180</td>\n",
       "      <td>180</td>\n",
       "      <td>180</td>\n",
       "      <td>182</td>\n",
       "    </tr>\n",
       "    <tr>\n",
       "      <td>Zhejiang</td>\n",
       "      <td>China</td>\n",
       "      <td>29.1832</td>\n",
       "      <td>120.0934</td>\n",
       "      <td>10</td>\n",
       "      <td>27</td>\n",
       "      <td>43</td>\n",
       "      <td>62</td>\n",
       "      <td>104</td>\n",
       "      <td>128</td>\n",
       "      <td>173</td>\n",
       "      <td>296</td>\n",
       "      <td>428</td>\n",
       "      <td>538</td>\n",
       "      <td>...</td>\n",
       "      <td>1238</td>\n",
       "      <td>1238</td>\n",
       "      <td>1240</td>\n",
       "      <td>1241</td>\n",
       "      <td>1243</td>\n",
       "      <td>1247</td>\n",
       "      <td>1251</td>\n",
       "      <td>1254</td>\n",
       "      <td>1255</td>\n",
       "      <td>1257</td>\n",
       "    </tr>\n",
       "  </tbody>\n",
       "</table>\n",
       "<p>33 rows × 70 columns</p>\n",
       "</div>"
      ],
      "text/plain": [
       "                                                1/22/20  1/23/20  1/24/20  \\\n",
       "Province/State Country/Region Lat     Long                                  \n",
       "Anhui          China          31.8257 117.2264        1        9       15   \n",
       "Beijing        China          40.1824 116.4142       14       22       36   \n",
       "Chongqing      China          30.0572 107.8740        6        9       27   \n",
       "Fujian         China          26.0789 117.9874        1        5       10   \n",
       "Gansu          China          37.8099 101.0583        0        2        2   \n",
       "Guangdong      China          23.3417 113.4244       26       32       53   \n",
       "Guangxi        China          23.8298 108.7881        2        5       23   \n",
       "Guizhou        China          26.8154 106.8748        1        3        3   \n",
       "Hainan         China          19.1959 109.7453        4        5        8   \n",
       "Hebei          China          39.5490 116.1306        1        1        2   \n",
       "Heilongjiang   China          47.8620 127.7615        0        2        4   \n",
       "Henan          China          33.8820 113.6140        5        5        9   \n",
       "Hong Kong      China          22.3000 114.2000        0        2        2   \n",
       "Hubei          China          30.9756 112.2707      444      444      549   \n",
       "Hunan          China          27.6104 111.7088        4        9       24   \n",
       "Inner Mongolia China          44.0935 113.9448        0        0        1   \n",
       "Jiangsu        China          32.9711 119.4550        1        5        9   \n",
       "Jiangxi        China          27.6140 115.7221        2        7       18   \n",
       "Jilin          China          43.6661 126.1923        0        1        3   \n",
       "Liaoning       China          41.2956 122.6085        2        3        4   \n",
       "Macau          China          22.1667 113.5500        1        2        2   \n",
       "Ningxia        China          37.2692 106.1655        1        1        2   \n",
       "Qinghai        China          35.7452 95.9956         0        0        0   \n",
       "Shaanxi        China          35.1917 108.8701        0        3        5   \n",
       "Shandong       China          36.3427 118.1498        2        6       15   \n",
       "Shanghai       China          31.2020 121.4491        9       16       20   \n",
       "Shanxi         China          37.5777 112.2922        1        1        1   \n",
       "Sichuan        China          30.6171 102.7103        5        8       15   \n",
       "Tianjin        China          39.3054 117.3230        4        4        8   \n",
       "Tibet          China          31.6927 88.0924         0        0        0   \n",
       "Xinjiang       China          41.1129 85.2401         0        2        2   \n",
       "Yunnan         China          24.9740 101.4870        1        2        5   \n",
       "Zhejiang       China          29.1832 120.0934       10       27       43   \n",
       "\n",
       "                                                1/25/20  1/26/20  1/27/20  \\\n",
       "Province/State Country/Region Lat     Long                                  \n",
       "Anhui          China          31.8257 117.2264       39       60       70   \n",
       "Beijing        China          40.1824 116.4142       41       68       80   \n",
       "Chongqing      China          30.0572 107.8740       57       75      110   \n",
       "Fujian         China          26.0789 117.9874       18       35       59   \n",
       "Gansu          China          37.8099 101.0583        4        7       14   \n",
       "Guangdong      China          23.3417 113.4244       78      111      151   \n",
       "Guangxi        China          23.8298 108.7881       23       36       46   \n",
       "Guizhou        China          26.8154 106.8748        4        5        7   \n",
       "Hainan         China          19.1959 109.7453       19       22       33   \n",
       "Hebei          China          39.5490 116.1306        8       13       18   \n",
       "Heilongjiang   China          47.8620 127.7615        9       15       21   \n",
       "Henan          China          33.8820 113.6140       32       83      128   \n",
       "Hong Kong      China          22.3000 114.2000        5        8        8   \n",
       "Hubei          China          30.9756 112.2707      761     1058     1423   \n",
       "Hunan          China          27.6104 111.7088       43       69      100   \n",
       "Inner Mongolia China          44.0935 113.9448        7        7       11   \n",
       "Jiangsu        China          32.9711 119.4550       18       33       47   \n",
       "Jiangxi        China          27.6140 115.7221       18       36       72   \n",
       "Jilin          China          43.6661 126.1923        4        4        6   \n",
       "Liaoning       China          41.2956 122.6085       17       21       27   \n",
       "Macau          China          22.1667 113.5500        2        5        6   \n",
       "Ningxia        China          37.2692 106.1655        3        4        7   \n",
       "Qinghai        China          35.7452 95.9956         1        1        6   \n",
       "Shaanxi        China          35.1917 108.8701       15       22       35   \n",
       "Shandong       China          36.3427 118.1498       27       46       75   \n",
       "Shanghai       China          31.2020 121.4491       33       40       53   \n",
       "Shanxi         China          37.5777 112.2922        6        9       13   \n",
       "Sichuan        China          30.6171 102.7103       28       44       69   \n",
       "Tianjin        China          39.3054 117.3230       10       14       23   \n",
       "Tibet          China          31.6927 88.0924         0        0        0   \n",
       "Xinjiang       China          41.1129 85.2401         3        4        5   \n",
       "Yunnan         China          24.9740 101.4870       11       16       26   \n",
       "Zhejiang       China          29.1832 120.0934       62      104      128   \n",
       "\n",
       "                                                1/28/20  1/29/20  1/30/20  \\\n",
       "Province/State Country/Region Lat     Long                                  \n",
       "Anhui          China          31.8257 117.2264      106      152      200   \n",
       "Beijing        China          40.1824 116.4142       91      111      114   \n",
       "Chongqing      China          30.0572 107.8740      132      147      182   \n",
       "Fujian         China          26.0789 117.9874       80       84      101   \n",
       "Gansu          China          37.8099 101.0583       19       24       26   \n",
       "Guangdong      China          23.3417 113.4244      207      277      354   \n",
       "Guangxi        China          23.8298 108.7881       51       58       78   \n",
       "Guizhou        China          26.8154 106.8748        9        9       12   \n",
       "Hainan         China          19.1959 109.7453       40       43       46   \n",
       "Hebei          China          39.5490 116.1306       33       48       65   \n",
       "Heilongjiang   China          47.8620 127.7615       33       38       44   \n",
       "Henan          China          33.8820 113.6140      168      206      278   \n",
       "Hong Kong      China          22.3000 114.2000        8       10       10   \n",
       "Hubei          China          30.9756 112.2707     3554     3554     4903   \n",
       "Hunan          China          27.6104 111.7088      143      221      277   \n",
       "Inner Mongolia China          44.0935 113.9448       15       16       19   \n",
       "Jiangsu        China          32.9711 119.4550       70       99      129   \n",
       "Jiangxi        China          27.6140 115.7221      109      109      162   \n",
       "Jilin          China          43.6661 126.1923        8        9       14   \n",
       "Liaoning       China          41.2956 122.6085       34       39       41   \n",
       "Macau          China          22.1667 113.5500        7        7        7   \n",
       "Ningxia        China          37.2692 106.1655       11       12       17   \n",
       "Qinghai        China          35.7452 95.9956         6        6        8   \n",
       "Shaanxi        China          35.1917 108.8701       46       56       63   \n",
       "Shandong       China          36.3427 118.1498       95      130      158   \n",
       "Shanghai       China          31.2020 121.4491       66       96      112   \n",
       "Shanxi         China          37.5777 112.2922       27       27       35   \n",
       "Sichuan        China          30.6171 102.7103       90      108      142   \n",
       "Tianjin        China          39.3054 117.3230       24       27       31   \n",
       "Tibet          China          31.6927 88.0924         0        0        1   \n",
       "Xinjiang       China          41.1129 85.2401        10       13       14   \n",
       "Yunnan         China          24.9740 101.4870       44       55       70   \n",
       "Zhejiang       China          29.1832 120.0934      173      296      428   \n",
       "\n",
       "                                                1/31/20  ...  3/22/20  \\\n",
       "Province/State Country/Region Lat     Long               ...            \n",
       "Anhui          China          31.8257 117.2264      237  ...      990   \n",
       "Beijing        China          40.1824 116.4142      139  ...      522   \n",
       "Chongqing      China          30.0572 107.8740      211  ...      577   \n",
       "Fujian         China          26.0789 117.9874      120  ...      313   \n",
       "Gansu          China          37.8099 101.0583       29  ...      136   \n",
       "Guangdong      China          23.3417 113.4244      436  ...     1413   \n",
       "Guangxi        China          23.8298 108.7881       87  ...      254   \n",
       "Guizhou        China          26.8154 106.8748       29  ...      146   \n",
       "Hainan         China          19.1959 109.7453       52  ...      168   \n",
       "Hebei          China          39.5490 116.1306       82  ...      319   \n",
       "Heilongjiang   China          47.8620 127.7615       59  ...      484   \n",
       "Henan          China          33.8820 113.6140      352  ...     1274   \n",
       "Hong Kong      China          22.3000 114.2000       12  ...      317   \n",
       "Hubei          China          30.9756 112.2707     5806  ...    67800   \n",
       "Hunan          China          27.6104 111.7088      332  ...     1018   \n",
       "Inner Mongolia China          44.0935 113.9448       20  ...       75   \n",
       "Jiangsu        China          32.9711 119.4550      168  ...      633   \n",
       "Jiangxi        China          27.6140 115.7221      240  ...      936   \n",
       "Jilin          China          43.6661 126.1923       14  ...       93   \n",
       "Liaoning       China          41.2956 122.6085       48  ...      127   \n",
       "Macau          China          22.1667 113.5500        7  ...       24   \n",
       "Ningxia        China          37.2692 106.1655       21  ...       75   \n",
       "Qinghai        China          35.7452 95.9956         8  ...       18   \n",
       "Shaanxi        China          35.1917 108.8701       87  ...      248   \n",
       "Shandong       China          36.3427 118.1498      184  ...      767   \n",
       "Shanghai       China          31.2020 121.4491      135  ...      404   \n",
       "Shanxi         China          37.5777 112.2922       39  ...      133   \n",
       "Sichuan        China          30.6171 102.7103      177  ...      543   \n",
       "Tianjin        China          39.3054 117.3230       32  ...      137   \n",
       "Tibet          China          31.6927 88.0924         1  ...        1   \n",
       "Xinjiang       China          41.1129 85.2401        17  ...       76   \n",
       "Yunnan         China          24.9740 101.4870       83  ...      176   \n",
       "Zhejiang       China          29.1832 120.0934      538  ...     1238   \n",
       "\n",
       "                                                3/23/20  3/24/20  3/25/20  \\\n",
       "Province/State Country/Region Lat     Long                                  \n",
       "Anhui          China          31.8257 117.2264      990      990      990   \n",
       "Beijing        China          40.1824 116.4142      537      558      561   \n",
       "Chongqing      China          30.0572 107.8740      578      578      578   \n",
       "Fujian         China          26.0789 117.9874      313      318      322   \n",
       "Gansu          China          37.8099 101.0583      136      136      136   \n",
       "Guangdong      China          23.3417 113.4244     1415     1428     1433   \n",
       "Guangxi        China          23.8298 108.7881      254      254      254   \n",
       "Guizhou        China          26.8154 106.8748      146      146      146   \n",
       "Hainan         China          19.1959 109.7453      168      168      168   \n",
       "Hebei          China          39.5490 116.1306      319      319      319   \n",
       "Heilongjiang   China          47.8620 127.7615      484      484      484   \n",
       "Henan          China          33.8820 113.6140     1274     1274     1274   \n",
       "Hong Kong      China          22.3000 114.2000      356      386      410   \n",
       "Hubei          China          30.9756 112.2707    67800    67801    67801   \n",
       "Hunan          China          27.6104 111.7088     1018     1018     1018   \n",
       "Inner Mongolia China          44.0935 113.9448       75       75       77   \n",
       "Jiangsu        China          32.9711 119.4550      633      636      638   \n",
       "Jiangxi        China          27.6140 115.7221      936      936      936   \n",
       "Jilin          China          43.6661 126.1923       93       93       94   \n",
       "Liaoning       China          41.2956 122.6085      127      127      127   \n",
       "Macau          China          22.1667 113.5500       24       25       30   \n",
       "Ningxia        China          37.2692 106.1655       75       75       75   \n",
       "Qinghai        China          35.7452 95.9956        18       18       18   \n",
       "Shaanxi        China          35.1917 108.8701      248      249      250   \n",
       "Shandong       China          36.3427 118.1498      768      768      769   \n",
       "Shanghai       China          31.2020 121.4491      404      414      433   \n",
       "Shanxi         China          37.5777 112.2922      134      134      134   \n",
       "Sichuan        China          30.6171 102.7103      543      545      547   \n",
       "Tianjin        China          39.3054 117.3230      141      145      145   \n",
       "Tibet          China          31.6927 88.0924         1        1        1   \n",
       "Xinjiang       China          41.1129 85.2401        76       76       76   \n",
       "Yunnan         China          24.9740 101.4870      176      176      176   \n",
       "Zhejiang       China          29.1832 120.0934     1238     1240     1241   \n",
       "\n",
       "                                                3/26/20  3/27/20  3/28/20  \\\n",
       "Province/State Country/Region Lat     Long                                  \n",
       "Anhui          China          31.8257 117.2264      990      990      990   \n",
       "Beijing        China          40.1824 116.4142      566      569      573   \n",
       "Chongqing      China          30.0572 107.8740      578      578      578   \n",
       "Fujian         China          26.0789 117.9874      328      331      337   \n",
       "Gansu          China          37.8099 101.0583      136      136      136   \n",
       "Guangdong      China          23.3417 113.4244     1448     1456     1467   \n",
       "Guangxi        China          23.8298 108.7881      254      254      254   \n",
       "Guizhou        China          26.8154 106.8748      146      146      146   \n",
       "Hainan         China          19.1959 109.7453      168      168      168   \n",
       "Hebei          China          39.5490 116.1306      319      319      319   \n",
       "Heilongjiang   China          47.8620 127.7615      484      484      484   \n",
       "Henan          China          33.8820 113.6140     1275     1275     1275   \n",
       "Hong Kong      China          22.3000 114.2000      453      519      561   \n",
       "Hubei          China          30.9756 112.2707    67801    67801    67801   \n",
       "Hunan          China          27.6104 111.7088     1018     1018     1018   \n",
       "Inner Mongolia China          44.0935 113.9448       89       92       94   \n",
       "Jiangsu        China          32.9711 119.4550      640      641      641   \n",
       "Jiangxi        China          27.6140 115.7221      936      936      936   \n",
       "Jilin          China          43.6661 126.1923       95       95       97   \n",
       "Liaoning       China          41.2956 122.6085      128      128      132   \n",
       "Macau          China          22.1667 113.5500       31       33       37   \n",
       "Ningxia        China          37.2692 106.1655       75       75       75   \n",
       "Qinghai        China          35.7452 95.9956        18       18       18   \n",
       "Shaanxi        China          35.1917 108.8701      253      253      253   \n",
       "Shandong       China          36.3427 118.1498      771      772      772   \n",
       "Shanghai       China          31.2020 121.4491      451      468      485   \n",
       "Shanxi         China          37.5777 112.2922      135      135      135   \n",
       "Sichuan        China          30.6171 102.7103      547      548      548   \n",
       "Tianjin        China          39.3054 117.3230      151      155      161   \n",
       "Tibet          China          31.6927 88.0924         1        1        1   \n",
       "Xinjiang       China          41.1129 85.2401        76       76       76   \n",
       "Yunnan         China          24.9740 101.4870      178      180      180   \n",
       "Zhejiang       China          29.1832 120.0934     1243     1247     1251   \n",
       "\n",
       "                                                3/29/20  3/30/20  3/31/20  \n",
       "Province/State Country/Region Lat     Long                                 \n",
       "Anhui          China          31.8257 117.2264      990      990      990  \n",
       "Beijing        China          40.1824 116.4142      577      577      580  \n",
       "Chongqing      China          30.0572 107.8740      579      579      579  \n",
       "Fujian         China          26.0789 117.9874      338      340      343  \n",
       "Gansu          China          37.8099 101.0583      138      138      138  \n",
       "Guangdong      China          23.3417 113.4244     1475     1484     1494  \n",
       "Guangxi        China          23.8298 108.7881      254      254      254  \n",
       "Guizhou        China          26.8154 106.8748      146      146      146  \n",
       "Hainan         China          19.1959 109.7453      168      168      168  \n",
       "Hebei          China          39.5490 116.1306      319      321      321  \n",
       "Heilongjiang   China          47.8620 127.7615      484      484      484  \n",
       "Henan          China          33.8820 113.6140     1276     1276     1276  \n",
       "Hong Kong      China          22.3000 114.2000      641      682      714  \n",
       "Hubei          China          30.9756 112.2707    67801    67801    67801  \n",
       "Hunan          China          27.6104 111.7088     1018     1018     1018  \n",
       "Inner Mongolia China          44.0935 113.9448       95       97      107  \n",
       "Jiangsu        China          32.9711 119.4550      644      645      646  \n",
       "Jiangxi        China          27.6140 115.7221      937      937      937  \n",
       "Jilin          China          43.6661 126.1923       98       98       98  \n",
       "Liaoning       China          41.2956 122.6085      134      136      139  \n",
       "Macau          China          22.1667 113.5500       37       38       41  \n",
       "Ningxia        China          37.2692 106.1655       75       75       75  \n",
       "Qinghai        China          35.7452 95.9956        18       18       18  \n",
       "Shaanxi        China          35.1917 108.8701      253      253      253  \n",
       "Shandong       China          36.3427 118.1498      772      773      774  \n",
       "Shanghai       China          31.2020 121.4491      492      498      509  \n",
       "Shanxi         China          37.5777 112.2922      136      136      136  \n",
       "Sichuan        China          30.6171 102.7103      550      550      550  \n",
       "Tianjin        China          39.3054 117.3230      166      174      174  \n",
       "Tibet          China          31.6927 88.0924         1        1        1  \n",
       "Xinjiang       China          41.1129 85.2401        76       76       76  \n",
       "Yunnan         China          24.9740 101.4870      180      180      182  \n",
       "Zhejiang       China          29.1832 120.0934     1254     1255     1257  \n",
       "\n",
       "[33 rows x 70 columns]"
      ]
     },
     "execution_count": 23,
     "metadata": {},
     "output_type": "execute_result"
    }
   ],
   "source": [
    "# getting all for canada\n",
    "corona_cases_df.loc[pd.IndexSlice[:, 'China'], :]"
   ]
  },
  {
   "cell_type": "code",
   "execution_count": 24,
   "metadata": {},
   "outputs": [
    {
     "name": "stdout",
     "output_type": "stream",
     "text": [
      "                                              INDEX SLICE (EXAMPLE)\n",
      "raw data\n",
      "       foo  bar\n",
      "A0 B0    0    1\n",
      "   B1    2    3\n",
      "   B2    4    5\n",
      "   B3    6    7\n",
      "A1 B0    8    9\n",
      "   B1   10   11\n",
      "   B2   12   13\n",
      "   B3   14   15\n",
      "\n",
      "Example of Index slice\n",
      "       foo  bar\n",
      "A0 B0    0    1\n",
      "   B1    2    3\n",
      "A1 B0    8    9\n",
      "   B1   10   11\n"
     ]
    }
   ],
   "source": [
    "print('                                              INDEX SLICE (EXAMPLE)')\n",
    "midx = pd.MultiIndex.from_product([['A0','A1'], ['B0','B1','B2','B3']])\n",
    "columns = ['foo', 'bar']\n",
    "dfmi = pd.DataFrame(np.arange(16).reshape((len(midx), len(columns))),\n",
    "                        index=midx, columns=columns)\n",
    "print('raw data')\n",
    "print(dfmi)\n",
    "\n",
    "idx = pd.IndexSlice\n",
    "print('')\n",
    "print('Example of Index slice')\n",
    "print(dfmi.loc[idx[:, 'B0':'B1'], :])"
   ]
  },
  {
   "cell_type": "code",
   "execution_count": 25,
   "metadata": {},
   "outputs": [],
   "source": [
    "cases_percountry = {}\n",
    "df_dict = {}\n",
    "for country in countries_list:\n",
    "    \n",
    "    # CHECK THE INDEX SLICE EXAMPLE ABOVE. WE ARE DOIGN THIS TO GET ALL THE DATA FOR THE COUNTRY WE ARE LOOKING FOR\n",
    "    # we are doing sum for the total number of cases in a country, eg: in canada we have 12 rows for wach province\n",
    "    # but we want to see for whole canada\n",
    "    cou = corona_cases_df.loc[pd.IndexSlice[:, country], :].sum()\n",
    "    \n",
    "    # getting rid of the record which has zero cases\n",
    "    cases_percountry[country] = cou[cou > 0]\n",
    "    datesformat = [datetime.strptime(da, '%m/%d/%y') for da in cases_percountry[country].index]\n",
    "    #print(datesformat)\n",
    "    df_dict[country] = pd.DataFrame(cases_percountry[country], columns=['Cases'], index=datesformat)\n",
    "    df_dict[country]['DayCount'] = np.arange(1,cases_percountry[country].shape[0]+1)\n",
    "#df_dict has country -> date, cases: # cases that day, DayCount"
   ]
  },
  {
   "cell_type": "code",
   "execution_count": 26,
   "metadata": {},
   "outputs": [],
   "source": [
    "# there is asome manual fix of data followed online.. some numbers were not correct\n",
    "# copied from the link mentioned above\n",
    "\n",
    "confirmed_fixes_dict = {'Italy|2020-03-12': 15113,\n",
    "                        'Spain|2020-03-12': 3146,\n",
    "                        'France|2020-03-12': 2876,\n",
    "                        'United Kingdom|2020-03-12': 590,\n",
    "                        'Germany|2020-03-12': 2745,\n",
    "                        'Argentina|2020-03-12': 19,\n",
    "                        'Australia|2020-03-12': 122,\n",
    "                        'Belgium|2020-03-12': 314,\n",
    "                        'Chile|2020-03-12': 23,\n",
    "                        'Colombia|2020-03-12': 9,\n",
    "                        'Greece|2020-03-12': 98,\n",
    "                        'Indonesia|2020-03-12': 34,\n",
    "                        'Ireland|2020-03-12': 43,\n",
    "                        'Japan|2020-03-12': 620,\n",
    "                        'Netherlands|2020-03-12': 503,\n",
    "                        'Qatar|2020-03-12': 262,\n",
    "                        'Singapore|2020-03-12': 178,\n",
    "                        'France|2020-03-15': 5423,}\n",
    "                        \n",
    "deaths_fixes_dict = {'Italy|2020-03-12': 1016,\n",
    "                     'Spain|2020-03-12': 86,\n",
    "                     'France|2020-03-12': 61,\n",
    "                     'United Kingdom|2020-03-12': 10,\n",
    "                     'Germany|2020-03-12': 6,\n",
    "                     'Argentina|2020-03-12': 1,\n",
    "                     'Australia|2020-03-12': 3,\n",
    "                     'Greece|2020-03-12': 1,\n",
    "                     'Indonesia|2020-03-12': 1,\n",
    "                     'Ireland|2020-03-12': 1,\n",
    "                     'Japan|2020-03-12': 15,\n",
    "                     'Netherlands|2020-03-12': 5,\n",
    "                     'Switzerland|2020-03-12': 4,\n",
    "                     'United Kingdom|2020-03-15': 35,\n",
    "                     'France|2020-03-15': 127}\n",
    "                     \n",
    "recovered_fixes_dict = {'Italy|2020-03-12': 1258,\n",
    "                        'Spain|2020-03-12': 189,\n",
    "                        'France|2020-03-12': 12,\n",
    "                        'Germany|2020-03-12': 25}"
   ]
  },
  {
   "cell_type": "code",
   "execution_count": 27,
   "metadata": {},
   "outputs": [
    {
     "name": "stdout",
     "output_type": "stream",
     "text": [
      "['Afghanistan' 'Albania' 'Algeria' 'Andorra' 'Angola'\n",
      " 'Antigua and Barbuda' 'Argentina' 'Armenia' 'Australia' 'Australia'\n",
      " 'Australia' 'Australia' 'Australia' 'Australia' 'Australia' 'Australia'\n",
      " 'Austria' 'Azerbaijan' 'Bahamas' 'Bahrain' 'Bangladesh' 'Barbados'\n",
      " 'Belarus' 'Belgium' 'Benin' 'Bhutan' 'Bolivia' 'Bosnia and Herzegovina'\n",
      " 'Brazil' 'Brunei' 'Bulgaria' 'Burkina Faso' 'Cabo Verde' 'Cambodia'\n",
      " 'Cameroon' 'Canada' 'Canada' 'Canada' 'Canada' 'Canada' 'Canada' 'Canada'\n",
      " 'Canada' 'Canada' 'Canada' 'Canada' 'Central African Republic' 'Chad'\n",
      " 'Chile' 'China' 'China' 'China' 'China' 'China' 'China' 'China' 'China'\n",
      " 'China' 'China' 'China' 'China' 'China' 'China' 'China' 'China' 'China'\n",
      " 'China' 'China' 'China' 'China' 'China' 'China' 'China' 'China' 'China'\n",
      " 'China' 'China' 'China' 'China' 'China' 'China' 'China' 'Colombia'\n",
      " 'Congo (Brazzaville)' 'Congo (Kinshasa)' 'Costa Rica' \"Cote d'Ivoire\"\n",
      " 'Croatia' 'Diamond Princess' 'Cuba' 'Cyprus' 'Czechia' 'Denmark'\n",
      " 'Denmark' 'Denmark' 'Djibouti' 'Dominican Republic' 'Ecuador' 'Egypt'\n",
      " 'El Salvador' 'Equatorial Guinea' 'Eritrea' 'Estonia' 'Eswatini'\n",
      " 'Ethiopia' 'Fiji' 'Finland' 'France' 'France' 'France' 'France' 'France'\n",
      " 'France' 'France' 'France' 'France' 'France' 'Gabon' 'Gambia' 'Georgia'\n",
      " 'Germany' 'Ghana' 'Greece' 'Guatemala' 'Guinea' 'Guyana' 'Haiti'\n",
      " 'Holy See' 'Honduras' 'Hungary' 'Iceland' 'India' 'Indonesia' 'Iran'\n",
      " 'Iraq' 'Ireland' 'Israel' 'Italy' 'Jamaica' 'Japan' 'Jordan' 'Kazakhstan'\n",
      " 'Kenya' 'Korea, South' 'Kuwait' 'Kyrgyzstan' 'Latvia' 'Lebanon' 'Liberia'\n",
      " 'Liechtenstein' 'Lithuania' 'Luxembourg' 'Madagascar' 'Malaysia'\n",
      " 'Maldives' 'Malta' 'Mauritania' 'Mauritius' 'Mexico' 'Moldova' 'Monaco'\n",
      " 'Mongolia' 'Montenegro' 'Morocco' 'Namibia' 'Nepal' 'Netherlands'\n",
      " 'Netherlands' 'Netherlands' 'Netherlands' 'New Zealand' 'Nicaragua'\n",
      " 'Niger' 'Nigeria' 'North Macedonia' 'Norway' 'Oman' 'Pakistan' 'Panama'\n",
      " 'Papua New Guinea' 'Paraguay' 'Peru' 'Philippines' 'Poland' 'Portugal'\n",
      " 'Qatar' 'Romania' 'Russia' 'Rwanda' 'Saint Lucia'\n",
      " 'Saint Vincent and the Grenadines' 'San Marino' 'Saudi Arabia' 'Senegal'\n",
      " 'Serbia' 'Seychelles' 'Singapore' 'Slovakia' 'Slovenia' 'Somalia'\n",
      " 'South Africa' 'Spain' 'Sri Lanka' 'Sudan' 'Suriname' 'Sweden'\n",
      " 'Switzerland' 'Taiwan*' 'Tanzania' 'Thailand' 'Togo'\n",
      " 'Trinidad and Tobago' 'Tunisia' 'Turkey' 'Uganda' 'Ukraine'\n",
      " 'United Arab Emirates' 'United Kingdom' 'United Kingdom' 'United Kingdom'\n",
      " 'United Kingdom' 'United Kingdom' 'United Kingdom' 'United Kingdom'\n",
      " 'Uruguay' 'US' 'Uzbekistan' 'Venezuela' 'Vietnam' 'Zambia' 'Zimbabwe'\n",
      " 'Canada' 'Dominica' 'Grenada' 'Mozambique' 'Syria' 'Timor-Leste' 'Belize'\n",
      " 'Canada' 'Laos' 'Libya' 'West Bank and Gaza' 'Guinea-Bissau' 'Mali'\n",
      " 'Saint Kitts and Nevis' 'Canada' 'Canada' 'Kosovo' 'Burma'\n",
      " 'United Kingdom' 'United Kingdom' 'United Kingdom' 'MS Zaandam'\n",
      " 'Botswana' 'Burundi' 'Sierra Leone']\n"
     ]
    }
   ],
   "source": [
    "country_list = (corona_cases_df.index.get_level_values('Country/Region').values)\n",
    "print(country_list)"
   ]
  },
  {
   "cell_type": "code",
   "execution_count": 28,
   "metadata": {
    "scrolled": true
   },
   "outputs": [
    {
     "name": "stdout",
     "output_type": "stream",
     "text": [
      "Confirmed\n",
      "{'Italy|2020-03-12': 15113, 'Spain|2020-03-12': 3146, 'France|2020-03-12': 2876, 'United Kingdom|2020-03-12': 590, 'Germany|2020-03-12': 2745, 'Argentina|2020-03-12': 19, 'Australia|2020-03-12': 122, 'Belgium|2020-03-12': 314, 'Chile|2020-03-12': 23, 'Colombia|2020-03-12': 9, 'Greece|2020-03-12': 98, 'Indonesia|2020-03-12': 34, 'Ireland|2020-03-12': 43, 'Japan|2020-03-12': 620, 'Netherlands|2020-03-12': 503, 'Qatar|2020-03-12': 262, 'Singapore|2020-03-12': 178, 'France|2020-03-15': 5423}\n"
     ]
    }
   ],
   "source": [
    "print(covid_id)\n",
    "if covid_id=='Confirmed':\n",
    "    fixes_dict = confirmed_fixes_dict\n",
    "    print(fixes_dict)\n",
    "    \n",
    "elif covid_id =='Deaths':\n",
    "    fixes_dict = deaths_fixes_dict\n",
    "\n",
    "elif covid_id =='Recovered':\n",
    "    fixes_dict = recovered_fixes_dict   \n",
    "\n",
    "# fixing the confirmed cases\n",
    "for key in fixes_dict.keys():\n",
    "        country_to_be_fixed = key.split('|')[0]\n",
    "        if country_to_be_fixed in df_dict.keys():\n",
    "            date_to_be_fixed = key.split('|')[1]\n",
    "            value_to_be_fixed = fixes_dict[key]\n",
    "            df_dict[country_to_be_fixed]['Cases'].loc[date_to_be_fixed] = value_to_be_fixed"
   ]
  },
  {
   "cell_type": "code",
   "execution_count": 29,
   "metadata": {},
   "outputs": [
    {
     "ename": "AttributeError",
     "evalue": "'dict' object has no attribute 'Index'",
     "output_type": "error",
     "traceback": [
      "\u001b[1;31m---------------------------------------------------------------------------\u001b[0m",
      "\u001b[1;31mAttributeError\u001b[0m                            Traceback (most recent call last)",
      "\u001b[1;32m<ipython-input-29-a2f147f7a804>\u001b[0m in \u001b[0;36m<module>\u001b[1;34m\u001b[0m\n\u001b[0;32m      1\u001b[0m \u001b[1;31m#print(df_dict.keys())\u001b[0m\u001b[1;33m\u001b[0m\u001b[1;33m\u001b[0m\u001b[1;33m\u001b[0m\u001b[0m\n\u001b[0;32m      2\u001b[0m \u001b[1;31m#print(df_dict)\u001b[0m\u001b[1;33m\u001b[0m\u001b[1;33m\u001b[0m\u001b[1;33m\u001b[0m\u001b[0m\n\u001b[1;32m----> 3\u001b[1;33m \u001b[0mprint\u001b[0m\u001b[1;33m(\u001b[0m\u001b[0mdf_dict\u001b[0m\u001b[1;33m.\u001b[0m\u001b[0mIndex\u001b[0m\u001b[1;33m(\u001b[0m\u001b[1;33m)\u001b[0m\u001b[1;33m)\u001b[0m\u001b[1;33m\u001b[0m\u001b[1;33m\u001b[0m\u001b[0m\n\u001b[0m\u001b[0;32m      4\u001b[0m \u001b[1;31m#print(df_dict['Canada']['Cases'].values)\u001b[0m\u001b[1;33m\u001b[0m\u001b[1;33m\u001b[0m\u001b[1;33m\u001b[0m\u001b[0m\n",
      "\u001b[1;31mAttributeError\u001b[0m: 'dict' object has no attribute 'Index'"
     ]
    }
   ],
   "source": [
    "#print(df_dict.keys())\n",
    "#print(df_dict)\n",
    "print(df_dict.Index())\n",
    "#print(df_dict['Canada']['Cases'].values)"
   ]
  },
  {
   "cell_type": "code",
   "execution_count": 30,
   "metadata": {},
   "outputs": [
    {
     "data": {
      "text/plain": [
       "array(['Canada', 'India', 'China', 'US'], dtype='<U6')"
      ]
     },
     "execution_count": 30,
     "metadata": {},
     "output_type": "execute_result"
    }
   ],
   "source": [
    "countries_list"
   ]
  },
  {
   "cell_type": "code",
   "execution_count": 31,
   "metadata": {},
   "outputs": [
    {
     "data": {
      "image/png": "[encoded data removed]",
      "text/plain": [
       "<Figure size 432x288 with 1 Axes>"
      ]
     },
     "metadata": {
      "needs_background": "light"
     },
     "output_type": "display_data"
    }
   ],
   "source": [
    "for country in countries_list:\n",
    "    dates_count = df_dict[country].index.values\n",
    "    plt.plot(dates_count, np.array(df_dict[country].Cases.values), '-o', label = country)\n",
    "    plt.legend()\n",
    "    plt.tick_params(rotation= 45)\n",
    "    plt.ylabel(covid_id, fontsize = 12)"
   ]
  },
  {
   "cell_type": "code",
   "execution_count": 32,
   "metadata": {
    "scrolled": true
   },
   "outputs": [
    {
     "data": {
      "image/png": "[encoded data removed]",
      "text/plain": [
       "<Figure size 432x288 with 1 Axes>"
      ]
     },
     "metadata": {
      "needs_background": "light"
     },
     "output_type": "display_data"
    }
   ],
   "source": [
    "for country in countries_list:    \n",
    "    dates_count = df_dict[country].index.values\n",
    "    plt.semilogy(dates_count, np.array(df_dict[country].Cases.values), label = country)\n",
    "    plt.legend()\n",
    "    plt.tick_params(rotation= 45)\n",
    "    plt.ylabel(covid_id, fontsize = 12)\n",
    "    "
   ]
  },
  {
   "cell_type": "code",
   "execution_count": 33,
   "metadata": {},
   "outputs": [],
   "source": [
    "# the models that I will be working on\n",
    "# Logistic: https://en.wikipedia.org/wiki/Logistic_function\n",
    "# gomperts = https://en.wikipedia.org/wiki/Gompertz_function\n",
    "# exponential function\n"
   ]
  },
  {
   "cell_type": "code",
   "execution_count": 34,
   "metadata": {},
   "outputs": [],
   "source": [
    "def mod_logistic(x,l,k,x_0):\n",
    "    return l/(1+np.exp(-k*(x-x_0)))\n",
    "\n",
    "def mod_gompertz(x,a,b,c):\n",
    "    return(a*np.exp(-b*np.exp(-c*x))) \n",
    "\n",
    "def mod_expo(x,p,N0=3,X0=1):\n",
    "    return N0*(1+p)**(x-X0)"
   ]
  },
  {
   "cell_type": "code",
   "execution_count": 35,
   "metadata": {},
   "outputs": [
    {
     "data": {
      "text/plain": [
       "<matplotlib.legend.Legend at 0x2204d8ffec8>"
      ]
     },
     "execution_count": 35,
     "metadata": {},
     "output_type": "execute_result"
    },
    {
     "data": {
      "image/png": "[encoded data removed]",
      "text/plain": [
       "<Figure size 432x288 with 1 Axes>"
      ]
     },
     "metadata": {
      "needs_background": "light"
     },
     "output_type": "display_data"
    }
   ],
   "source": [
    "# leaning more about logistic function\n",
    "# how to control parameters\n",
    "\n",
    "tt= np.linspace(0,100,100)\n",
    "\n",
    "plt.title('understanding change in parameters (logistic function)')\n",
    "plt.plot(tt, mod_logistic(tt,100000,0.4,50), c='r', label='Logisitc_k1')\n",
    "plt.plot(tt, mod_logistic(tt,100000,0.1,50), c='g', label='Logisitc-k2')\n",
    "plt.plot(tt, mod_logistic(tt,100000,0.2,70), c='b', label='Logisitc_x0_1')\n",
    "plt.plot(tt, mod_logistic(tt,100000,0.2,20), c='k', label='Logisitc_x0_2')\n",
    "plt.legend()\n"
   ]
  },
  {
   "cell_type": "code",
   "execution_count": 36,
   "metadata": {},
   "outputs": [
    {
     "data": {
      "text/plain": [
       "<matplotlib.lines.Line2D at 0x2204db7d288>"
      ]
     },
     "execution_count": 36,
     "metadata": {},
     "output_type": "execute_result"
    },
    {
     "data": {
      "image/png": "[encoded data removed]",
      "text/plain": [
       "<Figure size 432x288 with 1 Axes>"
      ]
     },
     "metadata": {
      "needs_background": "light"
     },
     "output_type": "display_data"
    }
   ],
   "source": [
    "plt.title('understanding change in parameters (Gompertz function)')\n",
    "plt.plot(tt, mod_gompertz(tt, 100000, 70, 0.08), c='r', label='Gompertz_b1')\n",
    "plt.axvline(x=70, c='r')\n",
    "plt.plot(tt, mod_gompertz(tt, 100000, 20, 0.08), c='g', label='Gompertz_b2')\n",
    "plt.plot(tt, mod_gompertz(tt, 100000, 50, 0.08), c='b', label='Gompertz_c1')\n",
    "plt.axvline(x=50, c='b')\n",
    "plt.plot(tt, mod_gompertz(tt, 100000, 50, 0.1), c='k', label='Gompertz_c2')\n",
    "plt.legend()\n",
    "\n",
    "plt.axhline(y=100000)"
   ]
  },
  {
   "cell_type": "code",
   "execution_count": 37,
   "metadata": {},
   "outputs": [
    {
     "data": {
      "text/plain": [
       "(-1000, 150000)"
      ]
     },
     "execution_count": 37,
     "metadata": {},
     "output_type": "execute_result"
    },
    {
     "data": {
      "image/png": "[encoded data removed]",
      "text/plain": [
       "<Figure size 432x288 with 1 Axes>"
      ]
     },
     "metadata": {
      "needs_background": "light"
     },
     "output_type": "display_data"
    }
   ],
   "source": [
    "plt.plot(tt, mod_logistic(tt,100000,0.2,50), c='b', label='Logisitc')\n",
    "plt.plot(tt, mod_gompertz(tt, 100000, 50, 1/12), c='r', label='Gompertz')\n",
    "plt.legend()\n",
    "plt.axvline(x=50, c='b')\n",
    "plt.xlabel('Time')\n",
    "plt.ylabel('Cases')\n",
    "plt.ylim(-1000,150000)"
   ]
  },
  {
   "cell_type": "code",
   "execution_count": 39,
   "metadata": {},
   "outputs": [
    {
     "data": {
      "text/plain": [
       "[<matplotlib.lines.Line2D at 0x2204dc55b08>]"
      ]
     },
     "execution_count": 39,
     "metadata": {},
     "output_type": "execute_result"
    },
    {
     "data": {
      "image/png": "[encoded data removed]",
      "text/plain": [
       "<Figure size 432x288 with 1 Axes>"
      ]
     },
     "metadata": {
      "needs_background": "light"
     },
     "output_type": "display_data"
    }
   ],
   "source": [
    "plt.plot(tt, mod_expo(tt, 0.23), c='g', label='Exponential')\n",
    "plt.plot(tt, mod_expo(tt, 0.220), c='k', label='Exponential')\n",
    "plt.plot(tt, mod_expo(tt, 0.239), c='r', label='Exponential')"
   ]
  },
  {
   "cell_type": "code",
   "execution_count": 301,
   "metadata": {},
   "outputs": [
    {
     "name": "stderr",
     "output_type": "stream",
     "text": [
      "C:\\Users\\sidha\\Anaconda3\\lib\\site-packages\\scipy\\optimize\\minpack.py:162: RuntimeWarning: The iteration is not making good progress, as measured by the \n",
      "  improvement from the last ten iterations.\n",
      "  warnings.warn(msg, RuntimeWarning)\n"
     ]
    }
   ],
   "source": [
    "country = 'US'\n",
    "\n",
    "c_pars = {}\n",
    "# we are keeping the initial value out because of exponential model because im chosing \n",
    "# initian value to be \n",
    "x = np.array(list(df_dict[country]['DayCount'].values))[1:-1] \n",
    "y = np.array(list(df_dict[country]['Cases'].values))[1:-1] \n",
    "y0 = y[0]\n",
    "yf = y[-1]\n",
    "\n",
    "fit_i = curve_fit(mod_logistic,x,y,p0=[50000,0.33,50], maxfev=10000)#, bounds=([0,0,0],[10,100,150000]))\n",
    "li,ki,x_0i = fit_i[0]\n",
    "sigma_li, sigma_ki, sigma_x_0i = np.sqrt(np.diag(fit_i[1]))\n",
    "\n",
    "c_pars[(country,'Logistic','l')] = li\n",
    "c_pars[(country,'Logistic','k')] = ki\n",
    "c_pars[(country,'Logistic','x_0')] = x_0i\n",
    "c_pars[(country,'Logistic','sga')] = sigma_li\n",
    "c_pars[(country,'Logistic','sgb')] = sigma_ki\n",
    "c_pars[(country,'Logistic','sgc')] = sigma_x_0i\n",
    "\n",
    "perc_flat = 0.98\n",
    "sol = int(fsolve(lambda x : mod_logistic(x,li,ki,x_0i) - perc_flat*int(x_0i), ki))\n",
    "\n",
    "c_pars[(country,'Logistic','c_time')] = sol #int(x_0i)\n",
    "\n",
    "y_pred = mod_logistic(x,li,ki,x_0i)\n",
    "MSLE=sklm.mean_squared_log_error(y,y_pred)\n",
    "\n",
    "datesol = datetime.strftime(df_dict[country].index[0] + timedelta(days=sol), ' %d, %b %Y' )"
   ]
  },
  {
   "cell_type": "code",
   "execution_count": 302,
   "metadata": {},
   "outputs": [
    {
     "data": {
      "text/plain": [
       "'print(df_dict[country].index[0])\\nprint(datesol)\\nprint(MSLE)\\nprint(perc_flat*int(x_0i))\\nprint(ki)\\nprint(li,ki,x_0i)\\nprint(lambda x : mod_logistic(x,li,ki,x_0i) - perc_flat*int(x_0i))\\n\\nprint(sol)'"
      ]
     },
     "execution_count": 302,
     "metadata": {},
     "output_type": "execute_result"
    }
   ],
   "source": [
    "'''print(df_dict[country].index[0])\n",
    "print(datesol)\n",
    "print(MSLE)\n",
    "print(perc_flat*int(x_0i))\n",
    "print(ki)\n",
    "print(li,ki,x_0i)\n",
    "print(lambda x : mod_logistic(x,li,ki,x_0i) - perc_flat*int(x_0i))\n",
    "\n",
    "print(sol)'''"
   ]
  },
  {
   "cell_type": "code",
   "execution_count": null,
   "metadata": {},
   "outputs": [],
   "source": [
    "\n"
   ]
  },
  {
   "cell_type": "code",
   "execution_count": 284,
   "metadata": {},
   "outputs": [
    {
     "data": {
      "text/plain": [
       "[<matplotlib.lines.Line2D at 0x2007dd030c8>]"
      ]
     },
     "execution_count": 284,
     "metadata": {},
     "output_type": "execute_result"
    },
    {
     "data": {
      "image/png": "[encoded data removed]",
      "text/plain": [
       "<Figure size 432x288 with 1 Axes>"
      ]
     },
     "metadata": {
      "needs_background": "light"
     },
     "output_type": "display_data"
    }
   ],
   "source": [
    "plt.plot(x,y)\n",
    "dd = fit_i[0]\n",
    "plt.plot(x, mod_logistic(x,dd[0],dd[1],dd[2]))"
   ]
  },
  {
   "cell_type": "code",
   "execution_count": 285,
   "metadata": {},
   "outputs": [
    {
     "data": {
      "text/plain": [
       "{('US', 'Logistic', 'l'): 115146.44784663341,\n",
       " ('US', 'Logistic', 'k'): 0.3803999173525372,\n",
       " ('US', 'Logistic', 'x_0'): 63.32776503040986,\n",
       " ('US', 'Logistic', 'sga'): 6374.469044214252,\n",
       " ('US', 'Logistic', 'sgb'): 0.00793181699146835,\n",
       " ('US', 'Logistic', 'sgc'): 0.26526740697865214,\n",
       " ('US', 'Logistic', 'c_time'): 38}"
      ]
     },
     "execution_count": 285,
     "metadata": {},
     "output_type": "execute_result"
    }
   ],
   "source": [
    "c_pars"
   ]
  },
  {
   "cell_type": "code",
   "execution_count": 275,
   "metadata": {},
   "outputs": [
    {
     "name": "stderr",
     "output_type": "stream",
     "text": [
      "C:\\Users\\sidha\\Anaconda3\\lib\\site-packages\\scipy\\optimize\\minpack.py:795: OptimizeWarning: Covariance of the parameters could not be estimated\n",
      "  category=OptimizeWarning)\n",
      "C:\\Users\\sidha\\Anaconda3\\lib\\site-packages\\scipy\\optimize\\minpack.py:162: RuntimeWarning: The iteration is not making good progress, as measured by the \n",
      "  improvement from the last ten iterations.\n",
      "  warnings.warn(msg, RuntimeWarning)\n"
     ]
    }
   ],
   "source": [
    "# gompertx function\n",
    "\n",
    "ini_guess = [1,10,x_0i]  ##take initial guess from result of Logistic model\n",
    "fit_i = curve_fit(mod_gompertz,x,y,p0=ini_guess)#, max_nfev=100000, bounds=([0,0,0],[1000,1000,10000000]))    \n",
    "ai,bi,ci = fit_i[0]\n",
    "sigma_ai, sigma_bi, sigma_ci = np.sqrt(np.diag(fit_i[1]))\n",
    "\n",
    "perc_flat = 0.95   ##smaller percentage, since Gompertz flattens out very slowly\n",
    "sol = int(fsolve(lambda x : mod_gompertz(x,ai,bi,ci) - perc_flat*int(ci), 1000, maxfev=10000))\n",
    "\n",
    "\n",
    "c_pars[(country,'Gompertz','a')] = ai\n",
    "c_pars[(country,'Gompertz','b')] = bi\n",
    "c_pars[(country,'Gompertz','c')] = ci\n",
    "c_pars[(country,'Gompertz','sga')] = sigma_ai\n",
    "c_pars[(country,'Gompertz','sgb')] = sigma_bi\n",
    "c_pars[(country,'Gompertz','sgc')] = sigma_ci\n",
    "c_pars[(country,'Gompertz','c_time')] = int(ci)"
   ]
  },
  {
   "cell_type": "code",
   "execution_count": 276,
   "metadata": {},
   "outputs": [
    {
     "name": "stdout",
     "output_type": "stream",
     "text": [
      "1000\n",
      "{('India', 'Logistic', 'l'): 56825448.92176741, ('India', 'Logistic', 'k'): 0.18377503872852188, ('India', 'Logistic', 'x_0'): 117.7749633040024, ('India', 'Logistic', 'sga'): 743959750603.4485, ('India', 'Logistic', 'sgb'): 0.012010032602414948, ('India', 'Logistic', 'sgc'): 71374.29597203985, ('India', 'Logistic', 'c_time'): 46, ('India', 'Gompertz', 'a'): 61.96363636376937, ('India', 'Gompertz', 'b'): 10.0, ('India', 'Gompertz', 'c'): 117.7749633040024, ('India', 'Gompertz', 'sga'): inf, ('India', 'Gompertz', 'sgb'): inf, ('India', 'Gompertz', 'sgc'): inf, ('India', 'Gompertz', 'c_time'): 117}\n"
     ]
    }
   ],
   "source": [
    "perc_flat = 0.95   ##smaller percentage, since Gompertz flattens out very slowly\n",
    "sol = int(fsolve(lambda x : mod_gompertz(x,ai,bi,ci) - perc_flat*int(ci), 1000, maxfev=10000))\n",
    "print(sol)\n",
    "print(c_pars)"
   ]
  },
  {
   "cell_type": "code",
   "execution_count": 279,
   "metadata": {},
   "outputs": [],
   "source": [
    "y_pred = mod_gompertz(x,ai,bi,ci)\n",
    "MSLE=sklm.mean_squared_log_error(y,y_pred)"
   ]
  },
  {
   "cell_type": "code",
   "execution_count": 306,
   "metadata": {},
   "outputs": [],
   "source": [
    "\"\"\"\n",
    "fit_i = curve_fit(mod_gompertz,x,y,p0=ini_guess)#, max_nfev=100000, bounds=([0,0,0],[1000,1000,10000000]))    \n",
    "ai,bi,ci = fit_i[0]\n",
    "sigma_ai, sigma_bi, sigma_ci = np.sqrt(np.diag(fit_i[1]))\n",
    "\"\"\"\n",
    "\n",
    "c_pars[(country,'Exponential','y0')] = y0\n",
    "fit_exp = curve_fit((lambda tt,pp: mod_expo(tt,pp,N0=y0)),x,y,p0=[0.10])  ##Take N0 from initial number of reported cases\n",
    "pi, sigma_pi = fit_exp[0][0], np.sqrt(fit_exp[1]).flatten()[0]\n"
   ]
  },
  {
   "cell_type": "code",
   "execution_count": 313,
   "metadata": {},
   "outputs": [
    {
     "name": "stdout",
     "output_type": "stream",
     "text": [
      "(array([0.18871061]), array([[4.34386837e-07]]))\n",
      "0.0006590802961124993\n",
      "[[0.00065908]]\n"
     ]
    }
   ],
   "source": [
    "print(fit_exp)\n",
    "print(np.sqrt(fit_exp[1]).flatten()[0])\n",
    "print(np.sqrt(fit_exp[1]))"
   ]
  },
  {
   "cell_type": "code",
   "execution_count": 311,
   "metadata": {},
   "outputs": [
    {
     "data": {
      "text/plain": [
       "array([3.56613184e+00, 4.23909877e+00, 5.03906170e+00, 5.98998612e+00,\n",
       "       7.12036008e+00, 8.46404760e+00, 1.00613032e+01, 1.19599779e+01,\n",
       "       1.42169527e+01, 1.68998426e+01, 2.00890222e+01, 2.38800339e+01,\n",
       "       2.83864498e+01, 3.37432741e+01, 4.01109881e+01, 4.76803573e+01,\n",
       "       5.66781467e+01, 6.73739146e+01, 8.00880873e+01, 9.52015594e+01,\n",
       "       1.13167104e+02, 1.34522938e+02, 1.59908844e+02, 1.90085340e+02,\n",
       "       2.25956461e+02, 2.68596843e+02, 3.19283919e+02, 3.79536183e+02,\n",
       "       4.51158689e+02, 5.36297122e+02, 6.37502081e+02, 7.57805489e+02,\n",
       "       9.00811428e+02, 1.07080411e+03, 1.27287621e+03, 1.51308146e+03,\n",
       "       1.79861598e+03, 2.13803391e+03, 2.54150360e+03, 3.02111231e+03,\n",
       "       3.59122826e+03, 4.26893115e+03, 5.07452377e+03, 6.03214026e+03,\n",
       "       7.17046915e+03, 8.52361279e+03, 1.01321090e+04, 1.20441455e+04,\n",
       "       1.43170036e+04, 1.70187741e+04, 2.02303974e+04, 2.40480881e+04,\n",
       "       2.85862176e+04, 3.39807402e+04, 4.03932666e+04, 4.80159047e+04,\n",
       "       5.70770155e+04, 6.78480541e+04, 8.06517021e+04, 9.58715343e+04,\n",
       "       1.13963510e+05, 1.35469634e+05])"
      ]
     },
     "execution_count": 311,
     "metadata": {},
     "output_type": "execute_result"
    }
   ],
   "source": [
    "mod_expo(x,pi)"
   ]
  },
  {
   "cell_type": "code",
   "execution_count": null,
   "metadata": {},
   "outputs": [],
   "source": []
  },
  {
   "cell_type": "code",
   "execution_count": 309,
   "metadata": {},
   "outputs": [
    {
     "data": {
      "text/plain": [
       "[<matplotlib.lines.Line2D at 0x200005cda08>]"
      ]
     },
     "execution_count": 309,
     "metadata": {},
     "output_type": "execute_result"
    },
    {
     "data": {
      "image/png": "[encoded data removed]",
      "text/plain": [
       "<Figure size 432x288 with 1 Axes>"
      ]
     },
     "metadata": {
      "needs_background": "light"
     },
     "output_type": "display_data"
    }
   ],
   "source": [
    "plt.plot(x,y, 'b')\n",
    "plt.plot(x, mod_logistic(x,dd[0],dd[1],dd[2]), 'r')\n",
    "plt.plot(x, mod_gompertz(x,ai,bi,ci), 'k')\n",
    "plt.plot(x, mod_expo(x,pi),'g')"
   ]
  },
  {
   "cell_type": "code",
   "execution_count": 190,
   "metadata": {},
   "outputs": [
    {
     "data": {
      "text/plain": [
       "<Figure size 864x720 with 0 Axes>"
      ]
     },
     "metadata": {},
     "output_type": "display_data"
    }
   ],
   "source": [
    "color_list = plt.cm.Set1( np.linspace(0.,1.0, 9 ) )\n",
    "color_iter = iter(color_list)\n",
    "#fig=plt.figure(1, figsize=(12,10), dpi=100,facecolor='w')\n",
    "fig=plt.figure(figsize=(12,10))"
   ]
  },
  {
   "cell_type": "code",
   "execution_count": 181,
   "metadata": {},
   "outputs": [
    {
     "name": "stdout",
     "output_type": "stream",
     "text": [
      "{('China', 'Logistic', 'l'): 81021.46738635615, ('China', 'Logistic', 'k'): 0.22152367592983885, ('China', 'Logistic', 'x_0'): 18.772953187491492, ('China', 'Logistic', 'sga'): 392.0595432047187, ('China', 'Logistic', 'sgb'): 0.006337600542358859, ('China', 'Logistic', 'sgc'): 0.14880839341015992, ('China', 'Logistic', 'c_time'): 18, ('China', 'Gompertz', 'a'): 82171.7510350091, ('China', 'Gompertz', 'b'): 10.12092440167321, ('China', 'Gompertz', 'c'): 0.1466712076245049, ('China', 'Gompertz', 'sga'): 567.3058548307778, ('China', 'Gompertz', 'sgb'): 0.9414779129360872, ('China', 'Gompertz', 'sgc'): 0.0054872901462188475, ('China', 'Gompertz', 'c_time'): 0}\n"
     ]
    }
   ],
   "source": [
    "print(c_pars)"
   ]
  },
  {
   "cell_type": "code",
   "execution_count": 191,
   "metadata": {},
   "outputs": [
    {
     "name": "stdout",
     "output_type": "stream",
     "text": [
      "21\n"
     ]
    }
   ],
   "source": [
    "flatasymp = max([c_pars[('China',chosen_plotmodel,'c_time')] for country in countries_list])+3\n",
    "print(flatasymp)"
   ]
  },
  {
   "cell_type": "code",
   "execution_count": 193,
   "metadata": {},
   "outputs": [
    {
     "data": {
      "text/plain": [
       "18"
      ]
     },
     "execution_count": 193,
     "metadata": {},
     "output_type": "execute_result"
    }
   ],
   "source": [
    "c_pars[('China',chosen_plotmodel,'c_time')]"
   ]
  },
  {
   "cell_type": "code",
   "execution_count": 131,
   "metadata": {},
   "outputs": [
    {
     "name": "stderr",
     "output_type": "stream",
     "text": [
      "C:\\Users\\sidha\\Anaconda3\\lib\\site-packages\\ipykernel_launcher.py:8: UserWarning: Matplotlib is currently using module://ipykernel.pylab.backend_inline, which is a non-GUI backend, so cannot show the figure.\n",
      "  \n"
     ]
    }
   ],
   "source": [
    "chosen_plotmodel = 'Logistic'\n",
    "\n",
    "axes = fig.subplots(2, sharex=True, sharey=False)\n",
    "#for country in countries_list:\n",
    "col=next(color_iter)\n",
    "ax = axes[0]\n",
    "x = np.array(list(df_dict[country]['DayCount'].values))\n",
    "y = np.array(list(df_dict[country]['Cases'].values))\n",
    "ax.scatter(df_dict[country].index ,y , label=country,color=col)# Predicted logistic curve\n",
    "\n",
    "a,b,c = (c_pars[(country,chosen_plotmodel,par)] for par in ['a','b','c'])\n",
    "sigma_a,sigma_b,sigma_c = (c_pars[(country,chosen_plotmodel,par)] for par in ['sga','sgb','sgc'])\n",
    "mean = [reg_model(i,a,b,c) for i in pred_x]\n",
    "ax.plot(pred_date, mean , label=chosen_plotmodel+\" model\", color=col)  #Predicted Logistic Curve\n",
    "fig.show()"
   ]
  },
  {
   "cell_type": "code",
   "execution_count": 134,
   "metadata": {},
   "outputs": [
    {
     "ename": "KeyError",
     "evalue": "('Canada', 'Logistic', 'c_time')",
     "output_type": "error",
     "traceback": [
      "\u001b[1;31m---------------------------------------------------------------------------\u001b[0m",
      "\u001b[1;31mKeyError\u001b[0m                                  Traceback (most recent call last)",
      "\u001b[1;32m<ipython-input-134-309fc2d69d79>\u001b[0m in \u001b[0;36m<module>\u001b[1;34m\u001b[0m\n\u001b[0;32m      1\u001b[0m \u001b[0mchosen_plotmodel\u001b[0m \u001b[1;33m=\u001b[0m \u001b[1;34m'Logistic'\u001b[0m\u001b[1;33m\u001b[0m\u001b[1;33m\u001b[0m\u001b[0m\n\u001b[1;32m----> 2\u001b[1;33m \u001b[0mflatasymp\u001b[0m \u001b[1;33m=\u001b[0m \u001b[0mmax\u001b[0m\u001b[1;33m(\u001b[0m\u001b[1;33m[\u001b[0m\u001b[0mc_pars\u001b[0m\u001b[1;33m[\u001b[0m\u001b[1;33m(\u001b[0m\u001b[0mcountry\u001b[0m\u001b[1;33m,\u001b[0m\u001b[0mchosen_plotmodel\u001b[0m\u001b[1;33m,\u001b[0m\u001b[1;34m'c_time'\u001b[0m\u001b[1;33m)\u001b[0m\u001b[1;33m]\u001b[0m \u001b[1;32mfor\u001b[0m \u001b[0mcountry\u001b[0m \u001b[1;32min\u001b[0m \u001b[0mcountries_list\u001b[0m\u001b[1;33m]\u001b[0m\u001b[1;33m)\u001b[0m\u001b[1;33m+\u001b[0m\u001b[1;36m3\u001b[0m\u001b[1;33m\u001b[0m\u001b[1;33m\u001b[0m\u001b[0m\n\u001b[0m",
      "\u001b[1;32m<ipython-input-134-309fc2d69d79>\u001b[0m in \u001b[0;36m<listcomp>\u001b[1;34m(.0)\u001b[0m\n\u001b[0;32m      1\u001b[0m \u001b[0mchosen_plotmodel\u001b[0m \u001b[1;33m=\u001b[0m \u001b[1;34m'Logistic'\u001b[0m\u001b[1;33m\u001b[0m\u001b[1;33m\u001b[0m\u001b[0m\n\u001b[1;32m----> 2\u001b[1;33m \u001b[0mflatasymp\u001b[0m \u001b[1;33m=\u001b[0m \u001b[0mmax\u001b[0m\u001b[1;33m(\u001b[0m\u001b[1;33m[\u001b[0m\u001b[0mc_pars\u001b[0m\u001b[1;33m[\u001b[0m\u001b[1;33m(\u001b[0m\u001b[0mcountry\u001b[0m\u001b[1;33m,\u001b[0m\u001b[0mchosen_plotmodel\u001b[0m\u001b[1;33m,\u001b[0m\u001b[1;34m'c_time'\u001b[0m\u001b[1;33m)\u001b[0m\u001b[1;33m]\u001b[0m \u001b[1;32mfor\u001b[0m \u001b[0mcountry\u001b[0m \u001b[1;32min\u001b[0m \u001b[0mcountries_list\u001b[0m\u001b[1;33m]\u001b[0m\u001b[1;33m)\u001b[0m\u001b[1;33m+\u001b[0m\u001b[1;36m3\u001b[0m\u001b[1;33m\u001b[0m\u001b[1;33m\u001b[0m\u001b[0m\n\u001b[0m",
      "\u001b[1;31mKeyError\u001b[0m: ('Canada', 'Logistic', 'c_time')"
     ]
    }
   ],
   "source": [
    "chosen_plotmodel = 'Logistic'\n",
    "flatasymp = max([c_pars[(country,chosen_plotmodel,'c_time')] for country in countries_list])+3"
   ]
  },
  {
   "cell_type": "code",
   "execution_count": 244,
   "metadata": {},
   "outputs": [],
   "source": [
    "def frm(flo):\n",
    "    return '{:d}'.format(int(round(flo)))"
   ]
  },
  {
   "cell_type": "code",
   "execution_count": 269,
   "metadata": {},
   "outputs": [
    {
     "data": {
      "text/plain": [
       "array([ 1,  2,  3,  4,  5,  6,  7,  8,  9, 10, 11, 12, 13, 14, 15, 16, 17,\n",
       "       18, 19, 20, 21, 22, 23, 24, 25, 26, 27, 28, 29, 30, 31, 32, 33, 34,\n",
       "       35, 36, 37, 38, 39, 40, 41, 42, 43, 44, 45, 46, 47, 48, 49, 50, 51,\n",
       "       52, 53, 54, 55, 56])"
      ]
     },
     "execution_count": 269,
     "metadata": {},
     "output_type": "execute_result"
    }
   ],
   "source": []
  },
  {
   "cell_type": "code",
   "execution_count": 249,
   "metadata": {},
   "outputs": [
    {
     "name": "stdout",
     "output_type": "stream",
     "text": [
      "Used data, Day Count:  63\n",
      "Used data, Number of cases: Confirmed in the last day:  81591\n",
      "82171.7510350091\n",
      "Prediction from Gompertz Model :  82172  ( +567, -567)\n",
      "81017.85790816683\n",
      "Prediction from Logistic Model :  81018  ( +393, -393)\n"
     ]
    }
   ],
   "source": [
    "# for prediction\n",
    "reg_model = mod_logistic\n",
    "chosenmodel = 'Gompertz'\n",
    "\n",
    "leaveout = -1\n",
    "x = np.array(list(df_dict[country]['DayCount'].values))\n",
    "print(\"Used data, Day Count: \", x[-1+leaveout])\n",
    "\n",
    "y = np.array(list(df_dict[country]['Cases'].values))\n",
    "print(\"Used data, Number of cases: \"+covid_id+\" in the last day: \", y[-1+leaveout])\n",
    "day = x[-1]\n",
    "\n",
    "realdat = y[-1]\n",
    "a,b,c = (c_pars[(country,chosenmodel,par)] for par in ['a','b','c'])\n",
    "sigma_a,sigma_b,sigma_c = (c_pars[(country,chosenmodel,par)] for par in ['sga','sgb','sgc'])\n",
    "\n",
    "\n",
    "prediction = reg_model(day,a,b,c)\n",
    "pluspred = np.abs(reg_model(day,np.abs(a+sigma_a),np.abs(b+sigma_b),np.abs(c+sigma_c)))\n",
    "minuspred = np.abs(reg_model(day,np.abs(a-sigma_a),np.abs(b-sigma_b),np.abs(c-sigma_c)))\n",
    "\n",
    "print(prediction)\n",
    "print(\"Prediction from \"+chosenmodel+\" Model : \", frm(prediction), ' ( +'+frm(pluspred-prediction)+', -'+frm(prediction-minuspred)+')')\n",
    "\n",
    "chosenmodel = 'Logistic'\n",
    "a,b,c = (c_pars[(country,chosenmodel,par)] for par in [\"l\",\"k\",\"x_0\"])\n",
    "sigma_a,sigma_b,sigma_c = (c_pars[(country,chosenmodel,par)] for par in ['sga','sgb','sgc'])\n",
    "\n",
    "\n",
    "prediction = reg_model(day,a,b,c)\n",
    "pluspred = np.abs(reg_model(day,np.abs(a+sigma_a),np.abs(b+sigma_b),np.abs(c+sigma_c)))\n",
    "minuspred = np.abs(reg_model(day,np.abs(a-sigma_a),np.abs(b-sigma_b),np.abs(c-sigma_c)))\n",
    "\n",
    "print(prediction)\n",
    "print(\"Prediction from \"+chosenmodel+\" Model : \", frm(prediction), ' ( +'+frm(pluspred-prediction)+', -'+frm(prediction-minuspred)+')')\n"
   ]
  },
  {
   "cell_type": "code",
   "execution_count": 266,
   "metadata": {
    "scrolled": true
   },
   "outputs": [
    {
     "ename": "KeyError",
     "evalue": "('India', 'Gompertz', 'a')",
     "output_type": "error",
     "traceback": [
      "\u001b[1;31m---------------------------------------------------------------------------\u001b[0m",
      "\u001b[1;31mKeyError\u001b[0m                                  Traceback (most recent call last)",
      "\u001b[1;32m<ipython-input-266-c3fc2a5df67e>\u001b[0m in \u001b[0;36m<module>\u001b[1;34m\u001b[0m\n\u001b[0;32m      9\u001b[0m \u001b[0my\u001b[0m \u001b[1;33m=\u001b[0m \u001b[0mnp\u001b[0m\u001b[1;33m.\u001b[0m\u001b[0marray\u001b[0m\u001b[1;33m(\u001b[0m\u001b[0mlist\u001b[0m\u001b[1;33m(\u001b[0m\u001b[0mdf_dict\u001b[0m\u001b[1;33m[\u001b[0m\u001b[0mcountry\u001b[0m\u001b[1;33m]\u001b[0m\u001b[1;33m[\u001b[0m\u001b[1;34m'Cases'\u001b[0m\u001b[1;33m]\u001b[0m\u001b[1;33m.\u001b[0m\u001b[0mvalues\u001b[0m\u001b[1;33m)\u001b[0m\u001b[1;33m)\u001b[0m\u001b[1;33m\u001b[0m\u001b[1;33m\u001b[0m\u001b[0m\n\u001b[0;32m     10\u001b[0m \u001b[1;33m\u001b[0m\u001b[0m\n\u001b[1;32m---> 11\u001b[1;33m \u001b[0ma\u001b[0m\u001b[1;33m,\u001b[0m\u001b[0mb\u001b[0m\u001b[1;33m,\u001b[0m\u001b[0mc\u001b[0m \u001b[1;33m=\u001b[0m \u001b[1;33m(\u001b[0m\u001b[0mc_pars\u001b[0m\u001b[1;33m[\u001b[0m\u001b[1;33m(\u001b[0m\u001b[0mcountry\u001b[0m\u001b[1;33m,\u001b[0m\u001b[0mchosen_plotmodel\u001b[0m\u001b[1;33m,\u001b[0m\u001b[0mpar\u001b[0m\u001b[1;33m)\u001b[0m\u001b[1;33m]\u001b[0m \u001b[1;32mfor\u001b[0m \u001b[0mpar\u001b[0m \u001b[1;32min\u001b[0m \u001b[1;33m[\u001b[0m\u001b[1;34m'a'\u001b[0m\u001b[1;33m,\u001b[0m\u001b[1;34m'b'\u001b[0m\u001b[1;33m,\u001b[0m\u001b[1;34m'c'\u001b[0m\u001b[1;33m]\u001b[0m\u001b[1;33m)\u001b[0m\u001b[1;33m\u001b[0m\u001b[1;33m\u001b[0m\u001b[0m\n\u001b[0m\u001b[0;32m     12\u001b[0m \u001b[0msigma_a\u001b[0m\u001b[1;33m,\u001b[0m\u001b[0msigma_b\u001b[0m\u001b[1;33m,\u001b[0m\u001b[0msigma_c\u001b[0m \u001b[1;33m=\u001b[0m \u001b[1;33m(\u001b[0m\u001b[0mc_pars\u001b[0m\u001b[1;33m[\u001b[0m\u001b[1;33m(\u001b[0m\u001b[0mcountry\u001b[0m\u001b[1;33m,\u001b[0m\u001b[0mchosen_plotmodel\u001b[0m\u001b[1;33m,\u001b[0m\u001b[0mpar\u001b[0m\u001b[1;33m)\u001b[0m\u001b[1;33m]\u001b[0m \u001b[1;32mfor\u001b[0m \u001b[0mpar\u001b[0m \u001b[1;32min\u001b[0m \u001b[1;33m[\u001b[0m\u001b[1;34m'sga'\u001b[0m\u001b[1;33m,\u001b[0m\u001b[1;34m'sgb'\u001b[0m\u001b[1;33m,\u001b[0m\u001b[1;34m'sgc'\u001b[0m\u001b[1;33m]\u001b[0m\u001b[1;33m)\u001b[0m\u001b[1;33m\u001b[0m\u001b[1;33m\u001b[0m\u001b[0m\n\u001b[0;32m     13\u001b[0m \u001b[1;33m\u001b[0m\u001b[0m\n",
      "\u001b[1;32m<ipython-input-266-c3fc2a5df67e>\u001b[0m in \u001b[0;36m<genexpr>\u001b[1;34m(.0)\u001b[0m\n\u001b[0;32m      9\u001b[0m \u001b[0my\u001b[0m \u001b[1;33m=\u001b[0m \u001b[0mnp\u001b[0m\u001b[1;33m.\u001b[0m\u001b[0marray\u001b[0m\u001b[1;33m(\u001b[0m\u001b[0mlist\u001b[0m\u001b[1;33m(\u001b[0m\u001b[0mdf_dict\u001b[0m\u001b[1;33m[\u001b[0m\u001b[0mcountry\u001b[0m\u001b[1;33m]\u001b[0m\u001b[1;33m[\u001b[0m\u001b[1;34m'Cases'\u001b[0m\u001b[1;33m]\u001b[0m\u001b[1;33m.\u001b[0m\u001b[0mvalues\u001b[0m\u001b[1;33m)\u001b[0m\u001b[1;33m)\u001b[0m\u001b[1;33m\u001b[0m\u001b[1;33m\u001b[0m\u001b[0m\n\u001b[0;32m     10\u001b[0m \u001b[1;33m\u001b[0m\u001b[0m\n\u001b[1;32m---> 11\u001b[1;33m \u001b[0ma\u001b[0m\u001b[1;33m,\u001b[0m\u001b[0mb\u001b[0m\u001b[1;33m,\u001b[0m\u001b[0mc\u001b[0m \u001b[1;33m=\u001b[0m \u001b[1;33m(\u001b[0m\u001b[0mc_pars\u001b[0m\u001b[1;33m[\u001b[0m\u001b[1;33m(\u001b[0m\u001b[0mcountry\u001b[0m\u001b[1;33m,\u001b[0m\u001b[0mchosen_plotmodel\u001b[0m\u001b[1;33m,\u001b[0m\u001b[0mpar\u001b[0m\u001b[1;33m)\u001b[0m\u001b[1;33m]\u001b[0m \u001b[1;32mfor\u001b[0m \u001b[0mpar\u001b[0m \u001b[1;32min\u001b[0m \u001b[1;33m[\u001b[0m\u001b[1;34m'a'\u001b[0m\u001b[1;33m,\u001b[0m\u001b[1;34m'b'\u001b[0m\u001b[1;33m,\u001b[0m\u001b[1;34m'c'\u001b[0m\u001b[1;33m]\u001b[0m\u001b[1;33m)\u001b[0m\u001b[1;33m\u001b[0m\u001b[1;33m\u001b[0m\u001b[0m\n\u001b[0m\u001b[0;32m     12\u001b[0m \u001b[0msigma_a\u001b[0m\u001b[1;33m,\u001b[0m\u001b[0msigma_b\u001b[0m\u001b[1;33m,\u001b[0m\u001b[0msigma_c\u001b[0m \u001b[1;33m=\u001b[0m \u001b[1;33m(\u001b[0m\u001b[0mc_pars\u001b[0m\u001b[1;33m[\u001b[0m\u001b[1;33m(\u001b[0m\u001b[0mcountry\u001b[0m\u001b[1;33m,\u001b[0m\u001b[0mchosen_plotmodel\u001b[0m\u001b[1;33m,\u001b[0m\u001b[0mpar\u001b[0m\u001b[1;33m)\u001b[0m\u001b[1;33m]\u001b[0m \u001b[1;32mfor\u001b[0m \u001b[0mpar\u001b[0m \u001b[1;32min\u001b[0m \u001b[1;33m[\u001b[0m\u001b[1;34m'sga'\u001b[0m\u001b[1;33m,\u001b[0m\u001b[1;34m'sgb'\u001b[0m\u001b[1;33m,\u001b[0m\u001b[1;34m'sgc'\u001b[0m\u001b[1;33m]\u001b[0m\u001b[1;33m)\u001b[0m\u001b[1;33m\u001b[0m\u001b[1;33m\u001b[0m\u001b[0m\n\u001b[0;32m     13\u001b[0m \u001b[1;33m\u001b[0m\u001b[0m\n",
      "\u001b[1;31mKeyError\u001b[0m: ('India', 'Gompertz', 'a')"
     ]
    },
    {
     "data": {
      "image/png": "[encoded data removed]",
      "text/plain": [
       "<Figure size 1200x1000 with 2 Axes>"
      ]
     },
     "metadata": {},
     "output_type": "display_data"
    }
   ],
   "source": [
    "# for plotting\n",
    "country = 'India'\n",
    "fig=plt.figure(1, figsize=(12,10), dpi=100,facecolor='w')\n",
    "axes = fig.subplots(2, sharex=True, sharey=False)\n",
    "\n",
    "ax = axes[0]\n",
    "\n",
    "x = np.array(list(df_dict[country]['DayCount'].values))\n",
    "y = np.array(list(df_dict[country]['Cases'].values))\n",
    "\n",
    "a,b,c = (c_pars[(country,chosen_plotmodel,par)] for par in ['a','b','c'])\n",
    "sigma_a,sigma_b,sigma_c = (c_pars[(country,chosen_plotmodel,par)] for par in ['sga','sgb','sgc'])\n",
    "\n",
    "\n",
    "ax.scatter(df_dict[country].index ,y ,label=country,color=col)# Predicted logistic curve\n",
    "\n",
    "flatasymp = max([c_pars[(country,chosen_plotmodel,'c_time')] for country in countries_list])+3\n",
    "mindate = min([df_dict[country].index[0] for country in countries_list])\n",
    "maxdate = mindate + np.timedelta64(flatasymp,'D')\n",
    "pred_x = np.arange(np.min(x),flatasymp+np.min(x))\n",
    "pred_date = pd.date_range(start=df_dict[country].index[0], periods=flatasymp).values\n",
    "\n",
    "\n",
    "mean = [reg_model(i,a,b,c) for i in pred_x]\n",
    "ax.plot(pred_date, mean , label=chosen_plotmodel+\" model\", color=col)  #Predicted Logistic Curve\n",
    "upper_lim = [reg_model(i,a+0,b+0,c+sigma_c) for i in pred_x]\n",
    "lower_lim = [reg_model(i,a-0,b-0,c-sigma_c) for i in pred_x]\n",
    "ax.fill_between(pred_date, upper_lim, lower_lim, color=col, alpha=0.4)\n",
    "\n",
    "#ax.plot(pred_date, mean, label=chosen_plotmodel+\" model\", color=col)"
   ]
  },
  {
   "cell_type": "code",
   "execution_count": 254,
   "metadata": {},
   "outputs": [
    {
     "name": "stdout",
     "output_type": "stream",
     "text": [
      "3\n"
     ]
    }
   ],
   "source": [
    "flatasymp = max([c_pars[(country,chosen_plotmodel,'c_time')] for country in countries_list])+3\n",
    "print(flatasymp)\n",
    "pred_x = np.arange(np.min(x),flatasymp+np.min(x))"
   ]
  },
  {
   "cell_type": "code",
   "execution_count": 258,
   "metadata": {},
   "outputs": [
    {
     "name": "stdout",
     "output_type": "stream",
     "text": [
      "[1 2 3]\n"
     ]
    }
   ],
   "source": [
    "print(pred_x)"
   ]
  },
  {
   "cell_type": "code",
   "execution_count": 317,
   "metadata": {},
   "outputs": [
    {
     "data": {
      "image/png": "[encoded data removed]",
      "text/plain": [
       "<Figure size 432x288 with 1 Axes>"
      ]
     },
     "metadata": {
      "needs_background": "light"
     },
     "output_type": "display_data"
    }
   ],
   "source": [
    "'''N_0 = input('Give initial population size N_0: ')\n",
    "r   = input('Give net growth rate r: ')\n",
    "dt  = input('Give time step size: ')\n",
    "N_t = input('Give number of steps: ')'''\n",
    "\n",
    "N_0 = 100\n",
    "r   = 0.2\n",
    "dt  = 1\n",
    "N_t = 100\n",
    "from numpy import linspace, zeros\n",
    "t = linspace(0, (N_t+1)*dt, N_t+2)\n",
    "N = zeros(N_t+2)\n",
    "\n",
    "N[0] = N_0\n",
    "for n in range(N_t+1):\n",
    "    N[n+1] = N[n] + r*dt*N[n]\n",
    "\n",
    "import matplotlib.pyplot as plt\n",
    "numerical_sol = 'bo' if N_t < 70 else 'b-'\n",
    "plt.plot(t, N, numerical_sol, t, N_0*np.exp(r*t), 'r-')\n",
    "plt.legend(['numerical', 'exact'], loc='upper left')\n",
    "plt.xlabel('t'); plt.ylabel('N(t)')\n",
    "filestem = 'growth1_%dsteps' % N_t\n",
    "#plt.savefig('%s.png' % filestem); plt.savefig('%s.pdf' % filestem)"
   ]
  },
  {
   "cell_type": "code",
   "execution_count": null,
   "metadata": {},
   "outputs": [],
   "source": [
    " "
   ]
  }
 ],
 "metadata": {
  "kernelspec": {
   "display_name": "Python 3",
   "language": "python",
   "name": "python3"
  },
  "language_info": {
   "codemirror_mode": {
    "name": "ipython",
    "version": 3
   },
   "file_extension": ".py",
   "mimetype": "text/x-python",
   "name": "python",
   "nbconvert_exporter": "python",
   "pygments_lexer": "ipython3",
   "version": "3.7.4"
  }
 },
 "nbformat": 4,
 "nbformat_minor": 2
}
